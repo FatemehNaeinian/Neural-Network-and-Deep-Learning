{
  "cells": [
    {
      "cell_type": "code",
      "execution_count": null,
      "metadata": {
        "id": "dA_6ZP3lD2y9"
      },
      "outputs": [],
      "source": [
        "import pandas as pd\n",
        "import numpy as np\n",
        "from sklearn.model_selection import train_test_split\n",
        "import tensorflow as tf \n",
        "from keras.models import Sequential\n",
        "from keras.layers import Conv1D, MaxPooling1D, Activation, Flatten, Dropout, Dense,LSTM , Embedding, Input\n",
        "\n",
        "from sklearn.metrics import precision_score , recall_score, f1_score, accuracy_score\n",
        "from sklearn.metrics import accuracy_score, confusion_matrix, classification_report\n",
        "from keras.optimizers import Adam\n",
        "import matplotlib.pyplot as plt\n",
        "import seaborn as sns\n",
        "import nltk\n",
        "from nltk.corpus import stopwords\n",
        "from nltk.stem import PorterStemmer\n",
        "from nltk.stem import LancasterStemmer\n",
        "from nltk.tokenize import sent_tokenize, word_tokenize\n",
        "from keras.preprocessing.text import Tokenizer\n"
      ]
    },
    {
      "cell_type": "code",
      "execution_count": null,
      "metadata": {
        "id": "ufZT-pzyFJXY"
      },
      "outputs": [],
      "source": [
        "df = pd.read_csv(\"FA-KES-Dataset.csv\",encoding = 'unicode_escape')"
      ]
    },
    {
      "cell_type": "code",
      "execution_count": null,
      "metadata": {
        "colab": {
          "base_uri": "https://localhost:8080/"
        },
        "id": "iq3sWVOfGF1D",
        "outputId": "36705e94-650b-492f-89c9-2f92d50a8371"
      },
      "outputs": [],
      "source": [
        "X = df[\"article_content\"].tolist()\n",
        "Y = df[\"labels\"].tolist()\n",
        "\n",
        "for i in range(len(X)): \n",
        "  X[i] = ''.join((x for x in X[i] if not x.isdigit()))\n",
        "\n",
        "x_train, x_test, y_train, y_test = train_test_split(X,Y, test_size=0.2)"
      ]
    },
    {
      "cell_type": "code",
      "execution_count": null,
      "metadata": {
        "colab": {
          "base_uri": "https://localhost:8080/"
        },
        "id": "8LvT2kzOWos6",
        "outputId": "955fc456-6f00-490c-cffb-7c11a6221177"
      },
      "outputs": [
        {
          "name": "stderr",
          "output_type": "stream",
          "text": [
            "[nltk_data] Downloading package punkt to /root/nltk_data...\n",
            "[nltk_data]   Unzipping tokenizers/punkt.zip.\n",
            "[nltk_data] Downloading package stopwords to /root/nltk_data...\n",
            "[nltk_data]   Unzipping corpora/stopwords.zip.\n"
          ]
        }
      ],
      "source": [
        "nltk.download('punkt')\n",
        "nltk.download('stopwords')\n",
        "porter = PorterStemmer()\n",
        "lancaster=LancasterStemmer()\n",
        "\n",
        "def tokenizer_stemmer(data):\n",
        "  lis = []\n",
        "  for item in data:\n",
        "    tokenized_words=word_tokenize(item)\n",
        "    tokenized_words = [word for word in tokenized_words if word not in stopwords.words('english')]\n",
        "    tokenized_sentence = []\n",
        "    for word in tokenized_words:\n",
        "      tokenized_sentence.append(porter.stem(word))\n",
        "    lis.append(tokenized_sentence)\n",
        "  return lis\n",
        "\n",
        "tokenizer = Tokenizer()\n",
        "tokenizer.fit_on_texts(x_train)\n",
        "\n",
        "def keras_tokenize(data):\n",
        "  sequences = tokenizer.texts_to_sequences(data)\n",
        "  sequences = tf.keras.preprocessing.sequence.pad_sequences(sequences ,maxlen=300, padding='post')\n",
        "  return sequences\n",
        "  "
      ]
    },
    {
      "cell_type": "code",
      "execution_count": null,
      "metadata": {
        "colab": {
          "base_uri": "https://localhost:8080/"
        },
        "id": "kFKoiQufZGPL",
        "outputId": "f8e7a204-6c20-426f-a497-a80e14abc5a6"
      },
      "outputs": [
        {
          "name": "stdout",
          "output_type": "stream",
          "text": [
            "August    UTC+ A representative of the Syrian Armed Forces told SANA that government forces clashed with terrorists from the Islamic State (IS) terrorist organization (banned in Russia) in  kilometers to the east of the city. \"The attack of terrorists was repelled. The military and self-defense forces destroyed over  terrorists. Several SUVs with machine guns were put out of action\" the military representative said. Among killed militants is IS military emissary Abu Turab who commanded formations in central Syria. The Syrian forces freed Palmyra from IS gangs on March  with support of Russian Aerospace Defense Forces. Russian sappers helped Syrian authorities to demine historical monuments of the ancient city which used to be called \"a pearl of the Syrian desert.\"\n",
            "['august', 'utc+', 'a', 'repres', 'syrian', 'arm', 'forc', 'told', 'sana', 'govern', 'forc', 'clash', 'terrorist', 'islam', 'state', '(', 'is', ')', 'terrorist', 'organ', '(', 'ban', 'russia', ')', 'kilomet', 'east', 'citi', '.', '``', 'the', 'attack', 'terrorist', 'repel', '.', 'the', 'militari', 'self-defens', 'forc', 'destroy', 'terrorist', '.', 'sever', 'suv', 'machin', 'gun', 'put', 'action', \"''\", 'militari', 'repres', 'said', '.', 'among', 'kill', 'milit', 'is', 'militari', 'emissari', 'abu', 'turab', 'command', 'format', 'central', 'syria', '.', 'the', 'syrian', 'forc', 'freed', 'palmyra', 'is', 'gang', 'march', 'support', 'russian', 'aerospac', 'defens', 'forc', '.', 'russian', 'sapper', 'help', 'syrian', 'author', 'demin', 'histor', 'monument', 'ancient', 'citi', 'use', 'call', '``', 'pearl', 'syrian', 'desert', '.', \"''\"]\n"
          ]
        }
      ],
      "source": [
        "print(x_train[1])\n",
        "x_train = tokenizer_stemmer(x_train)\n",
        "x_test = tokenizer_stemmer(x_test)\n",
        "print(x_train[1])"
      ]
    },
    {
      "cell_type": "code",
      "execution_count": null,
      "metadata": {
        "id": "etVCxjWtT17v"
      },
      "outputs": [],
      "source": [
        "x_train = keras_tokenize(x_train)\n",
        "x_test = keras_tokenize(x_test)\n"
      ]
    },
    {
      "cell_type": "code",
      "execution_count": null,
      "metadata": {
        "colab": {
          "base_uri": "https://localhost:8080/"
        },
        "id": "gYLCYqIopErv",
        "outputId": "3fe8992a-7741-4d40-8d4d-4711c9d651a2"
      },
      "outputs": [
        {
          "data": {
            "text/plain": [
              "(161, 300)"
            ]
          },
          "execution_count": 8,
          "metadata": {},
          "output_type": "execute_result"
        }
      ],
      "source": [
        "x_train = np.array(x_train)\n",
        "x_test = np.array(x_test)\n",
        "y_train = np.array(y_train)\n",
        "y_test = np.array(y_test)\n",
        "x_test.shape"
      ]
    },
    {
      "cell_type": "code",
      "execution_count": null,
      "metadata": {
        "colab": {
          "base_uri": "https://localhost:8080/"
        },
        "id": "nLjhkpgHFa4K",
        "outputId": "d942da61-5098-49e9-defc-8ee41f37583a"
      },
      "outputs": [
        {
          "data": {
            "text/plain": [
              "array([ 559,  699,  831,    9,  271,  354,   79,  120,   85,  102,   18,\n",
              "        119,  902,  182,  447,  144, 5679,   79, 3526,  211, 5680,  147,\n",
              "       2149,  447,  401,  391,  108, 2924,  209,   21,  354,  676,    9,\n",
              "       5682,   49,   10, 1472,  136,  704,  354,  146,   49,  850,   21,\n",
              "         44,   85,    9,  174,  443,  804,   79,    7,  148,  271,  975,\n",
              "       1547, 1987, 2545,  414,  415, 1905,  563,  452,   74,  174,   44,\n",
              "       1864,  174,   79,    1,  271,  993, 2545,  414,  174,  119,  330,\n",
              "          1,   69, 2023, 1464, 5684,   69,    9,  187,   79, 3825, 1651,\n",
              "        144,  873,    9,  644,   85,  112,   24,   79,  180,  907,   79,\n",
              "        286,  354, 2149,   69, 1961,  155,  147,   69,  258,  354,   79,\n",
              "        907,  633,   85,  803, 5688, 4540, 3731,  354,    9,  271,   18,\n",
              "        832,  468,  468,  391,  209,    0,    0,    0,    0,    0,    0,\n",
              "          0,    0,    0,    0,    0,    0,    0,    0,    0,    0,    0,\n",
              "          0,    0,    0,    0,    0,    0,    0,    0,    0,    0,    0,\n",
              "          0,    0,    0,    0,    0,    0,    0,    0,    0,    0,    0,\n",
              "          0,    0,    0,    0,    0,    0,    0,    0,    0,    0,    0,\n",
              "          0,    0,    0,    0,    0,    0,    0,    0,    0,    0,    0,\n",
              "          0,    0,    0,    0,    0,    0,    0,    0,    0,    0,    0,\n",
              "          0,    0,    0,    0,    0,    0,    0,    0,    0,    0,    0,\n",
              "          0,    0,    0,    0,    0,    0,    0,    0,    0,    0,    0,\n",
              "          0,    0,    0,    0,    0,    0,    0,    0,    0,    0,    0,\n",
              "          0,    0,    0,    0,    0,    0,    0,    0,    0,    0,    0,\n",
              "          0,    0,    0,    0,    0,    0,    0,    0,    0,    0,    0,\n",
              "          0,    0,    0,    0,    0,    0,    0,    0,    0,    0,    0,\n",
              "          0,    0,    0,    0,    0,    0,    0,    0,    0,    0,    0,\n",
              "          0,    0,    0,    0,    0,    0,    0,    0,    0,    0,    0,\n",
              "          0,    0,    0,    0,    0,    0,    0,    0,    0,    0,    0,\n",
              "          0,    0,    0], dtype=int32)"
            ]
          },
          "execution_count": 9,
          "metadata": {},
          "output_type": "execute_result"
        }
      ],
      "source": [
        "x_train[70]"
      ]
    },
    {
      "cell_type": "code",
      "execution_count": null,
      "metadata": {
        "colab": {
          "base_uri": "https://localhost:8080/"
        },
        "id": "QolAYDoYMxcd",
        "outputId": "607ae0f2-3b2f-4d5f-fcbc-980471afb3f5"
      },
      "outputs": [
        {
          "name": "stdout",
          "output_type": "stream",
          "text": [
            "Model: \"sequential\"\n",
            "_________________________________________________________________\n",
            " Layer (type)                Output Shape              Param #   \n",
            "=================================================================\n",
            " embedding (Embedding)       (None, 300, 300)          30000     \n",
            "                                                                 \n",
            " conv1d (Conv1D)             (None, 296, 128)          192128    \n",
            "                                                                 \n",
            " max_pooling1d (MaxPooling1D  (None, 148, 128)         0         \n",
            " )                                                               \n",
            "                                                                 \n",
            " lstm (LSTM)                 (None, 32)                20608     \n",
            "                                                                 \n",
            " dense (Dense)               (None, 1)                 33        \n",
            "                                                                 \n",
            "=================================================================\n",
            "Total params: 242,769\n",
            "Trainable params: 242,769\n",
            "Non-trainable params: 0\n",
            "_________________________________________________________________\n",
            "Epoch 1/10\n",
            "11/11 [==============================] - 11s 93ms/step - loss: 0.6904 - accuracy: 0.5490 - val_loss: 0.6967 - val_accuracy: 0.4534\n",
            "Epoch 2/10\n",
            "11/11 [==============================] - 0s 18ms/step - loss: 0.6924 - accuracy: 0.4946 - val_loss: 0.6947 - val_accuracy: 0.4534\n",
            "Epoch 3/10\n",
            "11/11 [==============================] - 0s 17ms/step - loss: 0.6878 - accuracy: 0.5552 - val_loss: 0.7088 - val_accuracy: 0.4534\n",
            "Epoch 4/10\n",
            "11/11 [==============================] - 0s 17ms/step - loss: 0.6858 - accuracy: 0.5568 - val_loss: 0.6981 - val_accuracy: 0.4596\n",
            "Epoch 5/10\n",
            "11/11 [==============================] - 0s 18ms/step - loss: 0.6836 - accuracy: 0.5614 - val_loss: 0.6910 - val_accuracy: 0.4596\n",
            "Epoch 6/10\n",
            "11/11 [==============================] - 0s 17ms/step - loss: 0.6804 - accuracy: 0.5630 - val_loss: 0.6909 - val_accuracy: 0.4596\n",
            "Epoch 7/10\n",
            "11/11 [==============================] - 0s 18ms/step - loss: 0.6761 - accuracy: 0.5645 - val_loss: 0.6912 - val_accuracy: 0.4596\n",
            "Epoch 8/10\n",
            "11/11 [==============================] - 0s 18ms/step - loss: 0.6717 - accuracy: 0.5661 - val_loss: 0.6941 - val_accuracy: 0.4534\n",
            "Epoch 9/10\n",
            "11/11 [==============================] - 0s 17ms/step - loss: 0.6701 - accuracy: 0.5614 - val_loss: 0.6953 - val_accuracy: 0.4472\n",
            "Epoch 10/10\n",
            "11/11 [==============================] - 0s 17ms/step - loss: 0.6687 - accuracy: 0.5630 - val_loss: 0.6909 - val_accuracy: 0.4534\n"
          ]
        }
      ],
      "source": [
        "model = Sequential()\n",
        "model.add(Embedding(100,300, input_length=300))\n",
        "model.add(Conv1D(128,5,activation=\"relu\"))\n",
        "model.add(MaxPooling1D())\n",
        "model.add(LSTM(32))\n",
        "model.add(Dense(1, activation=\"sigmoid\"))\n",
        "model.compile(\"Adam\", loss='binary_crossentropy', metrics=['accuracy'])\n",
        "model.summary()\n",
        "history1 = model.fit(x_train, y_train, epochs=10, batch_size=64, validation_data=(x_test, y_test))\n"
      ]
    },
    {
      "cell_type": "code",
      "execution_count": null,
      "metadata": {
        "colab": {
          "base_uri": "https://localhost:8080/",
          "height": 295
        },
        "id": "t0RmmBXqEyBR",
        "outputId": "965eab7d-e426-4feb-f4ee-a4309be8ed2f"
      },
      "outputs": [
        {
          "data": {
            "image/png": "[encoded data removed]",
            "text/plain": [
              "<Figure size 432x288 with 1 Axes>"
            ]
          },
          "metadata": {
            "needs_background": "light"
          },
          "output_type": "display_data"
        }
      ],
      "source": [
        "fig = plt.figure()\n",
        "plt.plot(history1.history['accuracy'],'r')\n",
        "plt.plot(history1.history['val_accuracy'],'b')\n",
        "plt.title('model accuracy')\n",
        "plt.ylabel('accuracy')\n",
        "plt.xlabel('epoch')\n",
        "plt.legend(['train', 'validation'])\n",
        "plt.grid()"
      ]
    },
    {
      "cell_type": "code",
      "execution_count": null,
      "metadata": {
        "colab": {
          "base_uri": "https://localhost:8080/",
          "height": 295
        },
        "id": "P9xkzEtxItJp",
        "outputId": "c8bceade-c125-42f6-cc59-333e05584809"
      },
      "outputs": [
        {
          "data": {
            "image/png": "[encoded data removed]",
            "text/plain": [
              "<Figure size 432x288 with 1 Axes>"
            ]
          },
          "metadata": {
            "needs_background": "light"
          },
          "output_type": "display_data"
        }
      ],
      "source": [
        "fig = plt.figure()\n",
        "plt.plot(history1.history['loss'],'r')\n",
        "plt.plot(history1.history['val_loss'],'b')\n",
        "plt.title('model loss')\n",
        "plt.ylabel('loss')\n",
        "plt.xlabel('epoch')\n",
        "plt.legend(['train', 'validation'])\n",
        "plt.grid()"
      ]
    },
    {
      "cell_type": "code",
      "execution_count": null,
      "metadata": {
        "colab": {
          "base_uri": "https://localhost:8080/"
        },
        "id": "h0tWoSLTI1iF",
        "outputId": "0d86d08b-96fe-4cdb-b895-0ef9e812da7b"
      },
      "outputs": [
        {
          "name": "stdout",
          "output_type": "stream",
          "text": [
            "6/6 [==============================] - 0s 6ms/step\n"
          ]
        }
      ],
      "source": [
        "y_pred = model.predict(x_test)\n"
      ]
    },
    {
      "cell_type": "code",
      "execution_count": null,
      "metadata": {
        "colab": {
          "base_uri": "https://localhost:8080/"
        },
        "id": "pWKuZ99aPOgr",
        "outputId": "c81e7587-3ac1-4df2-e51e-1d9537d0b334"
      },
      "outputs": [
        {
          "name": "stdout",
          "output_type": "stream",
          "text": [
            "              precision    recall  f1-score   support\n",
            "\n",
            "           0       0.50      0.01      0.02        88\n",
            "           1       0.45      0.99      0.62        73\n",
            "\n",
            "    accuracy                           0.45       161\n",
            "   macro avg       0.48      0.50      0.32       161\n",
            "weighted avg       0.48      0.45      0.29       161\n",
            "\n"
          ]
        }
      ],
      "source": [
        "report = classification_report(np.array(y_test.tolist()), y_pred.round())\n",
        "print(report)"
      ]
    },
    {
      "cell_type": "code",
      "execution_count": null,
      "metadata": {
        "colab": {
          "base_uri": "https://localhost:8080/",
          "height": 317
        },
        "id": "P1_zSwPMTFVW",
        "outputId": "29b8f122-06fb-44b6-b103-f3e555185efe"
      },
      "outputs": [
        {
          "name": "stdout",
          "output_type": "stream",
          "text": [
            "[[ 1 87]\n",
            " [ 1 72]]\n"
          ]
        },
        {
          "data": {
            "text/plain": [
              "<matplotlib.axes._subplots.AxesSubplot at 0x7f9ec6f9d4c0>"
            ]
          },
          "execution_count": 15,
          "metadata": {},
          "output_type": "execute_result"
        },
        {
          "data": {
            "image/png": "[encoded data removed]",
            "text/plain": [
              "<Figure size 432x288 with 2 Axes>"
            ]
          },
          "metadata": {
            "needs_background": "light"
          },
          "output_type": "display_data"
        }
      ],
      "source": [
        "\n",
        "matrix = confusion_matrix(np.array(y_test.tolist()), y_pred.round())\n",
        "print(matrix)\n",
        "\n",
        "#Plots\n",
        "df_cm = pd.DataFrame(matrix, columns=['fake', 'truth'], index=['fake', 'truth'])\n",
        "sns.heatmap(df_cm, annot=True)"
      ]
    },
    {
      "cell_type": "code",
      "execution_count": null,
      "metadata": {
        "colab": {
          "base_uri": "https://localhost:8080/"
        },
        "id": "yVLuK185Te9R",
        "outputId": "2ca971d7-66b4-497e-e514-f8f655b75035"
      },
      "outputs": [
        {
          "name": "stdout",
          "output_type": "stream",
          "text": [
            "Model: \"sequential_1\"\n",
            "_________________________________________________________________\n",
            " Layer (type)                Output Shape              Param #   \n",
            "=================================================================\n",
            " embedding_1 (Embedding)     (None, 300, 300)          30000     \n",
            "                                                                 \n",
            " lstm_1 (LSTM)               (None, 32)                42624     \n",
            "                                                                 \n",
            " dense_1 (Dense)             (None, 1)                 33        \n",
            "                                                                 \n",
            "=================================================================\n",
            "Total params: 72,657\n",
            "Trainable params: 72,657\n",
            "Non-trainable params: 0\n",
            "_________________________________________________________________\n",
            "Epoch 1/10\n",
            "11/11 [==============================] - 2s 68ms/step - loss: 0.6901 - accuracy: 0.5397 - val_loss: 0.7133 - val_accuracy: 0.4534\n",
            "Epoch 2/10\n",
            "11/11 [==============================] - 0s 24ms/step - loss: 0.6924 - accuracy: 0.5490 - val_loss: 0.7307 - val_accuracy: 0.4534\n",
            "Epoch 3/10\n",
            "11/11 [==============================] - 0s 18ms/step - loss: 0.6937 - accuracy: 0.5537 - val_loss: 0.7218 - val_accuracy: 0.4534\n",
            "Epoch 4/10\n",
            "11/11 [==============================] - 0s 19ms/step - loss: 0.6894 - accuracy: 0.5583 - val_loss: 0.7005 - val_accuracy: 0.4534\n",
            "Epoch 5/10\n",
            "11/11 [==============================] - 0s 17ms/step - loss: 0.6891 - accuracy: 0.5599 - val_loss: 0.6996 - val_accuracy: 0.4596\n",
            "Epoch 6/10\n",
            "11/11 [==============================] - 0s 18ms/step - loss: 0.6883 - accuracy: 0.5599 - val_loss: 0.7083 - val_accuracy: 0.4534\n",
            "Epoch 7/10\n",
            "11/11 [==============================] - 0s 19ms/step - loss: 0.6882 - accuracy: 0.5599 - val_loss: 0.7024 - val_accuracy: 0.4596\n",
            "Epoch 8/10\n",
            "11/11 [==============================] - 0s 18ms/step - loss: 0.6878 - accuracy: 0.5583 - val_loss: 0.7011 - val_accuracy: 0.4596\n",
            "Epoch 9/10\n",
            "11/11 [==============================] - 0s 18ms/step - loss: 0.6873 - accuracy: 0.5583 - val_loss: 0.7077 - val_accuracy: 0.4596\n",
            "Epoch 10/10\n",
            "11/11 [==============================] - 0s 19ms/step - loss: 0.6879 - accuracy: 0.5583 - val_loss: 0.7200 - val_accuracy: 0.4596\n"
          ]
        }
      ],
      "source": [
        "model = Sequential()\n",
        "model.add(Embedding(100,300, input_length=300))\n",
        "model.add(LSTM(32))\n",
        "model.add(Dense(1, activation=\"sigmoid\"))\n",
        "model.compile(\"Adam\", loss='binary_crossentropy', metrics=['accuracy'])\n",
        "model.summary()\n",
        "history1 = model.fit(x_train, y_train, epochs=10, batch_size=64, validation_data=(x_test, y_test))\n"
      ]
    },
    {
      "cell_type": "code",
      "execution_count": null,
      "metadata": {
        "colab": {
          "base_uri": "https://localhost:8080/",
          "height": 295
        },
        "id": "QxE8shvxUO6L",
        "outputId": "c273b42c-6761-4892-b4f9-2232c6016381"
      },
      "outputs": [
        {
          "data": {
            "image/png": "[encoded data removed]",
            "text/plain": [
              "<Figure size 432x288 with 1 Axes>"
            ]
          },
          "metadata": {
            "needs_background": "light"
          },
          "output_type": "display_data"
        }
      ],
      "source": [
        "fig = plt.figure()\n",
        "plt.plot(history1.history['accuracy'],'r')\n",
        "plt.plot(history1.history['val_accuracy'],'b')\n",
        "plt.title('model accuracy')\n",
        "plt.ylabel('accuracy')\n",
        "plt.xlabel('epoch')\n",
        "plt.legend(['train', 'validation'])\n",
        "plt.grid()"
      ]
    },
    {
      "cell_type": "code",
      "execution_count": null,
      "metadata": {
        "colab": {
          "base_uri": "https://localhost:8080/",
          "height": 295
        },
        "id": "u-uYr1MaUZ5Q",
        "outputId": "3bc40b48-cb66-4ef5-d9cb-63aa84c2b038"
      },
      "outputs": [
        {
          "data": {
            "image/png": "[encoded data removed]",
            "text/plain": [
              "<Figure size 432x288 with 1 Axes>"
            ]
          },
          "metadata": {
            "needs_background": "light"
          },
          "output_type": "display_data"
        }
      ],
      "source": [
        "fig = plt.figure()\n",
        "plt.plot(history1.history['loss'],'r')\n",
        "plt.plot(history1.history['val_loss'],'b')\n",
        "plt.title('model loss')\n",
        "plt.ylabel('loss')\n",
        "plt.xlabel('epoch')\n",
        "plt.legend(['train', 'validation'])\n",
        "plt.grid()"
      ]
    },
    {
      "cell_type": "code",
      "execution_count": null,
      "metadata": {
        "colab": {
          "base_uri": "https://localhost:8080/"
        },
        "id": "CN7EMmrKUbWF",
        "outputId": "8a0ce1bf-2030-47b9-c929-2a8d73f059be"
      },
      "outputs": [
        {
          "name": "stdout",
          "output_type": "stream",
          "text": [
            "              precision    recall  f1-score   support\n",
            "\n",
            "           0       0.50      0.01      0.02        88\n",
            "           1       0.45      0.99      0.62        73\n",
            "\n",
            "    accuracy                           0.45       161\n",
            "   macro avg       0.48      0.50      0.32       161\n",
            "weighted avg       0.48      0.45      0.29       161\n",
            "\n"
          ]
        }
      ],
      "source": [
        "report = classification_report(np.array(y_test.tolist()), y_pred.round())\n",
        "print(report)"
      ]
    }
  ],
  "metadata": {
    "colab": {
      "provenance": []
    },
    "gpuClass": "standard",
    "kernelspec": {
      "display_name": "Python 3",
      "name": "python3"
    },
    "language_info": {
      "name": "python"
    }
  },
  "nbformat": 4,
  "nbformat_minor": 0
}
