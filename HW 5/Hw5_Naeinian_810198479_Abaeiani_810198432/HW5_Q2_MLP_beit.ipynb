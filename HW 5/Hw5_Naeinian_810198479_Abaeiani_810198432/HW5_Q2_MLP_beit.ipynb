{
  "nbformat": 4,
  "nbformat_minor": 0,
  "metadata": {
    "colab": {
      "provenance": []
    },
    "kernelspec": {
      "name": "python3",
      "display_name": "Python 3"
    },
    "language_info": {
      "name": "python"
    },
    "gpuClass": "standard",
    "accelerator": "GPU"
  },
  "cells": [
    {
      "cell_type": "markdown",
      "source": [
        "# MLP Image Classifier"
      ],
      "metadata": {
        "id": "MyykyO8uf_6Y"
      }
    },
    {
      "cell_type": "code",
      "source": [
        "import tensorflow as tf\n",
        "from keras.models import Sequential\n",
        "from keras import layers\n",
        "from keras.layers import Dense, Dropout, Activation, Flatten\n",
        "from keras import optimizers\n",
        "from keras import losses\n",
        "from sklearn.model_selection import train_test_split\n",
        "from keras.utils import to_categorical\n",
        "from keras.datasets import cifar10\n",
        "import matplotlib.pyplot as plt\n",
        "import numpy as np\n",
        "from sklearn.metrics import confusion_matrix\n",
        "import seaborn as sns\n",
        "from sklearn.metrics import precision_score , recall_score, f1_score, accuracy_score\n",
        "from sklearn.metrics import classification_report\n",
        "import numpy as np\n",
        "import matplotlib.pyplot as plt\n",
        "import cv2\n"
      ],
      "metadata": {
        "id": "-V-nFbJK_CE7"
      },
      "execution_count": null,
      "outputs": []
    },
    {
      "cell_type": "code",
      "source": [
        "(X_train, y_train), (X_test, y_test) = cifar10.load_data()\n",
        "X_train = X_train/255.0\n",
        "X_test = X_test/255.0\n",
        "X_train, X_valid, y_train, y_valid = train_test_split(X_train, y_train, test_size=0.15, random_state=1)"
      ],
      "metadata": {
        "id": "ZKnZX-AD-0tq"
      },
      "execution_count": null,
      "outputs": []
    },
    {
      "cell_type": "code",
      "source": [
        "print((X_train.shape, y_train.shape) , (X_test.shape,y_test.shape) , (X_valid.shape,y_valid.shape))"
      ],
      "metadata": {
        "colab": {
          "base_uri": "https://localhost:8080/"
        },
        "id": "7dcfx3XUaR1y",
        "outputId": "de5ae924-eac8-4eee-d015-0b5e25d2a330"
      },
      "execution_count": null,
      "outputs": [
        {
          "output_type": "stream",
          "name": "stdout",
          "text": [
            "((42500, 32, 32, 3), (42500, 1)) ((10000, 32, 32, 3), (10000, 1)) ((7500, 32, 32, 3), (7500, 1))\n"
          ]
        }
      ]
    },
    {
      "cell_type": "code",
      "source": [
        "X_train = X_train.flatten().reshape(X_train.shape[0], 32*32*3)\n",
        "X_test = X_test.flatten().reshape(X_test.shape[0], 32*32*3)\n",
        "X_valid = X_valid.flatten().reshape(X_valid.shape[0], 32*32*3)"
      ],
      "metadata": {
        "id": "M7eWbgEqR-sn"
      },
      "execution_count": null,
      "outputs": []
    },
    {
      "cell_type": "code",
      "source": [
        "y_train = to_categorical(y_train, 10)\n",
        "y_valid = to_categorical(y_valid, 10)"
      ],
      "metadata": {
        "id": "BUhIa7D9_Id2"
      },
      "execution_count": null,
      "outputs": []
    },
    {
      "cell_type": "code",
      "execution_count": null,
      "metadata": {
        "colab": {
          "base_uri": "https://localhost:8080/"
        },
        "id": "qoe-3tYr5yd3",
        "outputId": "777a34f3-821a-4784-9f4f-5c62f7018f64"
      },
      "outputs": [
        {
          "output_type": "stream",
          "name": "stdout",
          "text": [
            "Model: \"sequential\"\n",
            "_________________________________________________________________\n",
            " Layer (type)                Output Shape              Param #   \n",
            "=================================================================\n",
            " dense (Dense)               (None, 3072)              9440256   \n",
            "                                                                 \n",
            " activation (Activation)     (None, 3072)              0         \n",
            "                                                                 \n",
            " dense_1 (Dense)             (None, 4096)              12587008  \n",
            "                                                                 \n",
            " activation_1 (Activation)   (None, 4096)              0         \n",
            "                                                                 \n",
            " dropout (Dropout)           (None, 4096)              0         \n",
            "                                                                 \n",
            " dense_2 (Dense)             (None, 2048)              8390656   \n",
            "                                                                 \n",
            " activation_2 (Activation)   (None, 2048)              0         \n",
            "                                                                 \n",
            " dropout_1 (Dropout)         (None, 2048)              0         \n",
            "                                                                 \n",
            " dense_3 (Dense)             (None, 1024)              2098176   \n",
            "                                                                 \n",
            " activation_3 (Activation)   (None, 1024)              0         \n",
            "                                                                 \n",
            " dropout_2 (Dropout)         (None, 1024)              0         \n",
            "                                                                 \n",
            " dense_4 (Dense)             (None, 512)               524800    \n",
            "                                                                 \n",
            " activation_4 (Activation)   (None, 512)               0         \n",
            "                                                                 \n",
            " dropout_3 (Dropout)         (None, 512)               0         \n",
            "                                                                 \n",
            " dense_5 (Dense)             (None, 256)               131328    \n",
            "                                                                 \n",
            " activation_5 (Activation)   (None, 256)               0         \n",
            "                                                                 \n",
            " dropout_4 (Dropout)         (None, 256)               0         \n",
            "                                                                 \n",
            " dense_6 (Dense)             (None, 64)                16448     \n",
            "                                                                 \n",
            " activation_6 (Activation)   (None, 64)                0         \n",
            "                                                                 \n",
            " dropout_5 (Dropout)         (None, 64)                0         \n",
            "                                                                 \n",
            " dense_7 (Dense)             (None, 10)                650       \n",
            "                                                                 \n",
            " activation_7 (Activation)   (None, 10)                0         \n",
            "                                                                 \n",
            "=================================================================\n",
            "Total params: 33,189,322\n",
            "Trainable params: 33,189,322\n",
            "Non-trainable params: 0\n",
            "_________________________________________________________________\n"
          ]
        }
      ],
      "source": [
        "model = Sequential()\n",
        "model.add(Dense(32*32*3, input_shape = (32*32*3,)))\n",
        "model.add(Activation('relu'))\n",
        "\n",
        "model.add(Dense(4096))\n",
        "model.add(Activation('relu'))\n",
        "model.add(Dropout(0.25))\n",
        "\n",
        "model.add(Dense(2048))\n",
        "model.add(Activation('relu'))\n",
        "model.add(Dropout(0.25))\n",
        "\n",
        "model.add(Dense(1024))\n",
        "model.add(Activation('relu'))\n",
        "model.add(Dropout(0.25))\n",
        "\n",
        "model.add(Dense(512))\n",
        "model.add(Activation('relu'))\n",
        "model.add(Dropout(0.25))\n",
        "\n",
        "model.add(Dense(256))\n",
        "model.add(Activation('relu'))\n",
        "model.add(Dropout(0.25))\n",
        "\n",
        "model.add(Dense(64))\n",
        "model.add(Activation('relu'))\n",
        "model.add(Dropout(0.25))\n",
        "\n",
        "model.add(Dense(10))\n",
        "model.add(Activation('softmax'))\n",
        "\n",
        "optimizer = optimizers.Adam(learning_rate=0.0001)\n",
        "\n",
        "model.compile(optimizer=optimizer, loss='categorical_crossentropy', metrics=['accuracy'])\n",
        "model.summary()"
      ]
    },
    {
      "cell_type": "code",
      "source": [
        "history = model.fit(X_train, y_train, epochs=40, batch_size=512, validation_data=(X_valid, y_valid)) "
      ],
      "metadata": {
        "colab": {
          "base_uri": "https://localhost:8080/"
        },
        "id": "d1mEx9hANdXd",
        "outputId": "7da4296f-db8b-4b3b-d9e6-fb8ef29bd988"
      },
      "execution_count": null,
      "outputs": [
        {
          "output_type": "stream",
          "name": "stdout",
          "text": [
            "Epoch 1/40\n",
            "84/84 [==============================] - 6s 36ms/step - loss: 2.1987 - accuracy: 0.1595 - val_loss: 2.0378 - val_accuracy: 0.2445\n",
            "Epoch 2/40\n",
            "84/84 [==============================] - 3s 32ms/step - loss: 2.0297 - accuracy: 0.2450 - val_loss: 2.0112 - val_accuracy: 0.2728\n",
            "Epoch 3/40\n",
            "84/84 [==============================] - 3s 32ms/step - loss: 1.9444 - accuracy: 0.2888 - val_loss: 1.8250 - val_accuracy: 0.3572\n",
            "Epoch 4/40\n",
            "84/84 [==============================] - 3s 32ms/step - loss: 1.8624 - accuracy: 0.3268 - val_loss: 2.1591 - val_accuracy: 0.2741\n",
            "Epoch 5/40\n",
            "84/84 [==============================] - 3s 32ms/step - loss: 1.8577 - accuracy: 0.3380 - val_loss: 1.7156 - val_accuracy: 0.3924\n",
            "Epoch 6/40\n",
            "84/84 [==============================] - 3s 32ms/step - loss: 1.7629 - accuracy: 0.3728 - val_loss: 1.6833 - val_accuracy: 0.4036\n",
            "Epoch 7/40\n",
            "84/84 [==============================] - 3s 32ms/step - loss: 1.7287 - accuracy: 0.3836 - val_loss: 1.7154 - val_accuracy: 0.3959\n",
            "Epoch 8/40\n",
            "84/84 [==============================] - 3s 32ms/step - loss: 1.7080 - accuracy: 0.3947 - val_loss: 2.0698 - val_accuracy: 0.3023\n",
            "Epoch 9/40\n",
            "84/84 [==============================] - 3s 32ms/step - loss: 1.7009 - accuracy: 0.4011 - val_loss: 1.6982 - val_accuracy: 0.4115\n",
            "Epoch 10/40\n",
            "84/84 [==============================] - 3s 32ms/step - loss: 1.6397 - accuracy: 0.4234 - val_loss: 1.7338 - val_accuracy: 0.3984\n",
            "Epoch 11/40\n",
            "84/84 [==============================] - 3s 32ms/step - loss: 1.6117 - accuracy: 0.4325 - val_loss: 1.5638 - val_accuracy: 0.4512\n",
            "Epoch 12/40\n",
            "84/84 [==============================] - 3s 32ms/step - loss: 1.5668 - accuracy: 0.4491 - val_loss: 1.5135 - val_accuracy: 0.4644\n",
            "Epoch 13/40\n",
            "84/84 [==============================] - 3s 32ms/step - loss: 1.5302 - accuracy: 0.4641 - val_loss: 1.6167 - val_accuracy: 0.4461\n",
            "Epoch 14/40\n",
            "84/84 [==============================] - 3s 32ms/step - loss: 1.5075 - accuracy: 0.4717 - val_loss: 1.4699 - val_accuracy: 0.4812\n",
            "Epoch 15/40\n",
            "84/84 [==============================] - 3s 32ms/step - loss: 1.4849 - accuracy: 0.4799 - val_loss: 1.5472 - val_accuracy: 0.4557\n",
            "Epoch 16/40\n",
            "84/84 [==============================] - 3s 32ms/step - loss: 1.4618 - accuracy: 0.4875 - val_loss: 1.7962 - val_accuracy: 0.4000\n",
            "Epoch 17/40\n",
            "84/84 [==============================] - 3s 32ms/step - loss: 1.4867 - accuracy: 0.4784 - val_loss: 1.8382 - val_accuracy: 0.3892\n",
            "Epoch 18/40\n",
            "84/84 [==============================] - 3s 32ms/step - loss: 1.4588 - accuracy: 0.4882 - val_loss: 1.5184 - val_accuracy: 0.4667\n",
            "Epoch 19/40\n",
            "84/84 [==============================] - 3s 34ms/step - loss: 1.4574 - accuracy: 0.4871 - val_loss: 1.7794 - val_accuracy: 0.3975\n",
            "Epoch 20/40\n",
            "84/84 [==============================] - 3s 32ms/step - loss: 1.5444 - accuracy: 0.4581 - val_loss: 1.8672 - val_accuracy: 0.3865\n",
            "Epoch 21/40\n",
            "84/84 [==============================] - 3s 32ms/step - loss: 1.4435 - accuracy: 0.4982 - val_loss: 1.5421 - val_accuracy: 0.4680\n",
            "Epoch 22/40\n",
            "84/84 [==============================] - 3s 35ms/step - loss: 1.4245 - accuracy: 0.5036 - val_loss: 1.4520 - val_accuracy: 0.4901\n",
            "Epoch 23/40\n",
            "84/84 [==============================] - 3s 36ms/step - loss: 1.3653 - accuracy: 0.5235 - val_loss: 1.4352 - val_accuracy: 0.4975\n",
            "Epoch 24/40\n",
            "84/84 [==============================] - 3s 32ms/step - loss: 1.3268 - accuracy: 0.5383 - val_loss: 1.5934 - val_accuracy: 0.4452\n",
            "Epoch 25/40\n",
            "84/84 [==============================] - 3s 34ms/step - loss: 1.3562 - accuracy: 0.5299 - val_loss: 1.6162 - val_accuracy: 0.4537\n",
            "Epoch 26/40\n",
            "84/84 [==============================] - 3s 34ms/step - loss: 1.3174 - accuracy: 0.5456 - val_loss: 1.7680 - val_accuracy: 0.4317\n",
            "Epoch 27/40\n",
            "84/84 [==============================] - 3s 31ms/step - loss: 1.3342 - accuracy: 0.5365 - val_loss: 1.4492 - val_accuracy: 0.4975\n",
            "Epoch 28/40\n",
            "84/84 [==============================] - 3s 32ms/step - loss: 1.2688 - accuracy: 0.5607 - val_loss: 1.3917 - val_accuracy: 0.5096\n",
            "Epoch 29/40\n",
            "84/84 [==============================] - 3s 32ms/step - loss: 1.2340 - accuracy: 0.5724 - val_loss: 1.3845 - val_accuracy: 0.5229\n",
            "Epoch 30/40\n",
            "84/84 [==============================] - 3s 31ms/step - loss: 1.2018 - accuracy: 0.5806 - val_loss: 1.5379 - val_accuracy: 0.4811\n",
            "Epoch 31/40\n",
            "84/84 [==============================] - 3s 32ms/step - loss: 1.2741 - accuracy: 0.5567 - val_loss: 1.3985 - val_accuracy: 0.5213\n",
            "Epoch 32/40\n",
            "84/84 [==============================] - 3s 32ms/step - loss: 1.1824 - accuracy: 0.5853 - val_loss: 1.5979 - val_accuracy: 0.4631\n",
            "Epoch 33/40\n",
            "84/84 [==============================] - 3s 32ms/step - loss: 1.2026 - accuracy: 0.5839 - val_loss: 1.4072 - val_accuracy: 0.5212\n",
            "Epoch 34/40\n",
            "84/84 [==============================] - 3s 32ms/step - loss: 1.1378 - accuracy: 0.6064 - val_loss: 1.5056 - val_accuracy: 0.5067\n",
            "Epoch 35/40\n",
            "84/84 [==============================] - 3s 34ms/step - loss: 1.1294 - accuracy: 0.6110 - val_loss: 1.4371 - val_accuracy: 0.5145\n",
            "Epoch 36/40\n",
            "84/84 [==============================] - 3s 32ms/step - loss: 1.1368 - accuracy: 0.6078 - val_loss: 1.4114 - val_accuracy: 0.5241\n",
            "Epoch 37/40\n",
            "84/84 [==============================] - 3s 32ms/step - loss: 1.0613 - accuracy: 0.6357 - val_loss: 1.4050 - val_accuracy: 0.5273\n",
            "Epoch 38/40\n",
            "84/84 [==============================] - 3s 32ms/step - loss: 1.0304 - accuracy: 0.6466 - val_loss: 1.4741 - val_accuracy: 0.5159\n",
            "Epoch 39/40\n",
            "84/84 [==============================] - 3s 34ms/step - loss: 1.0888 - accuracy: 0.6275 - val_loss: 1.5303 - val_accuracy: 0.5156\n",
            "Epoch 40/40\n",
            "84/84 [==============================] - 3s 32ms/step - loss: 1.0268 - accuracy: 0.6481 - val_loss: 1.7785 - val_accuracy: 0.4701\n"
          ]
        }
      ]
    },
    {
      "cell_type": "code",
      "source": [
        "plt.plot(history.history['accuracy'],'r')\n",
        "plt.plot(history.history['val_accuracy'],'b')\n",
        "plt.title('model accuracy')\n",
        "plt.ylabel('accuracy')\n",
        "plt.xlabel('epoch')\n",
        "plt.legend(['train', 'validation'])\n",
        "plt.grid()"
      ],
      "metadata": {
        "colab": {
          "base_uri": "https://localhost:8080/",
          "height": 295
        },
        "id": "ranmYD3fPAw9",
        "outputId": "70634208-3c8c-4586-f506-51f6dc998610"
      },
      "execution_count": null,
      "outputs": [
        {
          "output_type": "display_data",
          "data": {
            "text/plain": [
              "<Figure size 432x288 with 1 Axes>"
            ],
            "image/png": "[encoded data removed]"
          },
          "metadata": {
            "needs_background": "light"
          }
        }
      ]
    },
    {
      "cell_type": "code",
      "source": [
        "fig = plt.figure()\n",
        "plt.plot(history.history['loss'],'r')\n",
        "plt.plot(history.history['val_loss'],'b')\n",
        "plt.title('model loss')\n",
        "plt.ylabel('loss')\n",
        "plt.xlabel('epoch')\n",
        "plt.legend(['train', 'validation'])\n",
        "plt.grid()"
      ],
      "metadata": {
        "colab": {
          "base_uri": "https://localhost:8080/",
          "height": 295
        },
        "id": "Sln2cMsKndao",
        "outputId": "08b32387-5a3f-40ed-9061-009d6f7e68e0"
      },
      "execution_count": null,
      "outputs": [
        {
          "output_type": "display_data",
          "data": {
            "text/plain": [
              "<Figure size 432x288 with 1 Axes>"
            ],
            "image/png": "[encoded data removed]"
          },
          "metadata": {
            "needs_background": "light"
          }
        }
      ]
    },
    {
      "cell_type": "code",
      "source": [
        "y_pred = model.predict(X_test);\n",
        "y_pred = np.argmax(y_pred, axis=1);"
      ],
      "metadata": {
        "colab": {
          "base_uri": "https://localhost:8080/"
        },
        "id": "JrOTzhgaaAxz",
        "outputId": "31318d21-2329-417b-bb6e-fd88267d9217"
      },
      "execution_count": null,
      "outputs": [
        {
          "output_type": "stream",
          "name": "stdout",
          "text": [
            "313/313 [==============================] - 1s 2ms/step\n"
          ]
        }
      ]
    },
    {
      "cell_type": "code",
      "source": [
        "# accuracy: (tp + tn) / (p + n)\n",
        "accuracy = accuracy_score(y_test, y_pred)\n",
        "print('Accuracy: %f' % accuracy)\n",
        "# precision tp / (tp + fp)\n",
        "precision = precision_score(y_test, y_pred, average='macro')\n",
        "print('Precision: %f' % precision)\n",
        "# recall: tp / (tp + fn)\n",
        "recall = recall_score(y_test, y_pred, average='macro')\n",
        "print('Recall: %f' % recall)\n",
        "# f1: 2 tp / (2 tp + fp + fn)\n",
        "f1 = f1_score(y_test, y_pred, average='macro')\n",
        "print('F1 score: %f' % f1)"
      ],
      "metadata": {
        "colab": {
          "base_uri": "https://localhost:8080/"
        },
        "id": "HoDYibz8c4dR",
        "outputId": "7c7e4f14-91c3-4aff-dc31-d710975df9bc"
      },
      "execution_count": null,
      "outputs": [
        {
          "output_type": "stream",
          "name": "stdout",
          "text": [
            "Accuracy: 0.461100\n",
            "Precision: 0.507821\n",
            "Recall: 0.461100\n",
            "F1 score: 0.450321\n"
          ]
        }
      ]
    },
    {
      "cell_type": "code",
      "source": [
        "target_names = ['airplane', 'automobile', 'bird', 'cat', \n",
        "            'deer', 'dog', 'frog', 'horse', 'ship', 'truck']"
      ],
      "metadata": {
        "id": "jHN7bcdcL-6j"
      },
      "execution_count": null,
      "outputs": []
    },
    {
      "cell_type": "code",
      "source": [
        "print(classification_report(y_test,y_pred,target_names=target_names))"
      ],
      "metadata": {
        "colab": {
          "base_uri": "https://localhost:8080/"
        },
        "id": "ezMBKDqSaDoz",
        "outputId": "d801cdb0-19f4-48a0-c849-41bd0af7842c"
      },
      "execution_count": null,
      "outputs": [
        {
          "output_type": "stream",
          "name": "stdout",
          "text": [
            "              precision    recall  f1-score   support\n",
            "\n",
            "    airplane       0.72      0.26      0.38      1000\n",
            "  automobile       0.42      0.74      0.54      1000\n",
            "        bird       0.52      0.30      0.38      1000\n",
            "         cat       0.35      0.35      0.35      1000\n",
            "        deer       0.48      0.37      0.42      1000\n",
            "         dog       0.51      0.24      0.32      1000\n",
            "        frog       0.52      0.57      0.55      1000\n",
            "       horse       0.50      0.57      0.53      1000\n",
            "        ship       0.71      0.47      0.57      1000\n",
            "       truck       0.34      0.74      0.47      1000\n",
            "\n",
            "    accuracy                           0.46     10000\n",
            "   macro avg       0.51      0.46      0.45     10000\n",
            "weighted avg       0.51      0.46      0.45     10000\n",
            "\n"
          ]
        }
      ]
    },
    {
      "cell_type": "code",
      "source": [
        "true = [target_names[int(y)] for y in y_test]\n",
        "pred = [target_names[y] for y in y_pred]\n",
        "cm = confusion_matrix(true, pred, labels=target_names)\n",
        "plt.figure(figsize=(15,10))\n",
        "sns.heatmap(cm, linewidths=2, annot=True, cmap=\"YlGnBu\");\n",
        "plt.xlabel('Predicted labels');\n",
        "plt.ylabel('True labels'); "
      ],
      "metadata": {
        "colab": {
          "base_uri": "https://localhost:8080/",
          "height": 606
        },
        "id": "pXd1XjvugSiE",
        "outputId": "cf022a36-5c51-471a-f46b-a0be4198bdb8"
      },
      "execution_count": null,
      "outputs": [
        {
          "output_type": "display_data",
          "data": {
            "text/plain": [
              "<Figure size 1080x720 with 2 Axes>"
            ],
            "image/png": "[encoded data removed]"
          },
          "metadata": {
            "needs_background": "light"
          }
        }
      ]
    },
    {
      "cell_type": "code",
      "source": [
        "!pip install -q transformers "
      ],
      "metadata": {
        "id": "Wx6C1wDB_9k3"
      },
      "execution_count": null,
      "outputs": []
    },
    {
      "cell_type": "code",
      "source": [
        "(X_train, y_train), (X_test, y_test) = cifar10.load_data()\n",
        "X_train = X_train/255.0\n",
        "X_test = X_test/255.0\n",
        "X_train, X_valid, y_train, y_valid = train_test_split(X_train, y_train, test_size=0.15, random_state=1)\n",
        "X_train=X_train[:500]\n",
        "y_train=y_train[:500]\n",
        "X_valid=X_valid[:100]\n",
        "y_valid=y_valid[:100]\n",
        "X_test=X_test[:100]\n",
        "y_test=y_test[:100]\n",
        "y_train = to_categorical(y_train, 10)\n",
        "y_valid = to_categorical(y_valid, 10)\n"
      ],
      "metadata": {
        "id": "dpacNBo_Ds7h"
      },
      "execution_count": null,
      "outputs": []
    },
    {
      "cell_type": "code",
      "source": [
        "from transformers import BeitFeatureExtractor, BeitForImageClassification\n",
        "import torch\n",
        "\n",
        "feature_extractor = BeitFeatureExtractor.from_pretrained(\"microsoft/beit-base-patch16-224\")\n",
        "Beitmodel = BeitForImageClassification.from_pretrained(\"microsoft/beit-base-patch16-224\")\n",
        "\n",
        "X_train2=[]\n",
        "for i in X_train:\n",
        "    temp=feature_extractor(images=[i]).pixel_values[0]\n",
        "    X_train2.append(temp)\n",
        "X_train2=torch.FloatTensor(X_train2)\n",
        "\n",
        "with torch.no_grad():\n",
        "    logits = Beitmodel(X_train2).logits\n",
        "\n",
        "x_t=logits.detach().numpy()\n",
        "x_t.shape"
      ],
      "metadata": {
        "id": "hIPRsCRfgwx8",
        "colab": {
          "base_uri": "https://localhost:8080/"
        },
        "outputId": "6af04bb3-8699-4397-e7b0-adbf024bb60a"
      },
      "execution_count": null,
      "outputs": [
        {
          "output_type": "stream",
          "name": "stdout",
          "text": [
            "tensor([257, 156, 285, 353, 779, 253, 833, 472, 407,  32,   9,  10, 339,  32,\n",
            "        154, 339, 511, 277, 814, 350, 917, 675, 339, 856, 817, 285, 285, 262,\n",
            "        236, 675, 345, 510, 510, 285,   9, 339, 510, 339, 510,  32, 675, 867,\n",
            "        281, 404, 675, 283, 274, 867, 675,  10,   9, 245, 351, 856, 895, 510,\n",
            "        350, 353, 153, 339,   9, 339, 510, 895,  10, 220, 339, 339, 817, 895,\n",
            "        339, 814,  10, 339, 285, 339, 404, 346, 744, 473,  31, 817, 351, 339,\n",
            "        676, 675, 351,   9, 917, 975, 185, 510, 274, 339, 510, 339, 339, 766,\n",
            "         32, 160, 353, 152, 351,   9, 817, 817, 271, 235, 353, 867,  32, 350,\n",
            "        165, 751, 482, 995, 330, 154, 282, 153, 332,  32, 656, 494, 675, 895,\n",
            "        339, 351, 404, 339,  32,  32, 895, 353,  98, 339, 151, 339, 285, 351,\n",
            "        281, 908, 510, 267, 259,  32,  31, 262, 339, 817,  32, 351, 817, 171,\n",
            "        165, 908,  80,  32, 510, 244, 285, 352, 536,   9, 408, 339,  27, 339,\n",
            "         29, 751,  32, 627, 675, 675, 351, 194, 817, 895, 675, 339, 281,  51,\n",
            "        330, 404,  32, 341, 510, 351, 342, 817, 339, 812, 154, 814, 353,  10,\n",
            "         32,  32, 351,  31, 511, 355, 104,  26, 895, 511, 510, 285, 236, 135,\n",
            "         10,  10,  32, 404, 262, 875, 510, 494, 339, 675, 969, 814, 339, 914,\n",
            "         32, 209, 814,  93, 339, 339, 355, 436,  84, 285,  32,  73, 158, 408,\n",
            "         32, 154,  31, 408, 812, 694, 675, 153, 339, 817, 154, 675, 339, 339,\n",
            "         89, 675, 153, 331, 351, 814, 343, 153, 341, 675,  99, 262, 895,  95,\n",
            "        377, 283, 468, 603,  82, 867, 908, 148, 856, 675, 339, 281, 353, 675,\n",
            "        436, 536, 895, 285, 814,  99, 694, 660, 912,  32, 339, 814, 814, 156,\n",
            "        856,   9, 351, 254, 675, 865, 675, 359, 159,  30, 351, 628, 339,   7,\n",
            "        339,  20, 628,  26,  32, 675, 339, 153, 540, 158, 867, 351, 675, 350,\n",
            "        674,  10, 675, 285, 555, 817, 817, 339,  32,  95,  32, 675, 817, 675,\n",
            "         32,  16, 282, 285,  32, 569, 154, 258, 356, 867,   9, 404, 846, 675,\n",
            "        339, 675, 208, 353, 906,   9, 399, 339, 283, 675,  32,  10, 510, 867,\n",
            "         32,   9, 908, 351, 285, 351, 404, 353, 468, 259, 510, 351,  80,   9,\n",
            "         10, 153, 339, 285, 895,  32, 969, 975, 717, 510, 675,  16, 555, 285,\n",
            "        271,  32, 134,  32,  32, 675, 351, 339, 554,  19, 744, 895, 281, 268,\n",
            "        914, 511, 921, 817, 675, 153,   9, 675,  10, 675,  32, 675,  10, 350,\n",
            "        339, 814, 222, 339, 914, 154, 339, 912, 404, 817, 675, 817, 867, 335,\n",
            "        895, 353, 510, 817,   9, 352, 476,  31,   9, 675,   8, 153, 335, 656,\n",
            "        423, 895, 351, 350, 281, 339, 187, 168,  88, 867, 895, 675, 339, 510,\n",
            "        208, 468, 724, 339, 281, 554, 510, 253, 814,  32, 163, 978, 404, 284,\n",
            "        675, 510, 405, 817, 175, 339, 717, 814, 221, 277, 282, 895,  86,  32,\n",
            "        675, 856, 675, 436, 154, 351, 404, 511, 352,  10])\n"
          ]
        },
        {
          "output_type": "execute_result",
          "data": {
            "text/plain": [
              "(500, 1000)"
            ]
          },
          "metadata": {},
          "execution_count": 20
        }
      ]
    },
    {
      "cell_type": "code",
      "source": [
        "X_val2=[]\n",
        "for i in X_valid:\n",
        "    temp=feature_extractor(images=[i]).pixel_values[0]\n",
        "    X_val2.append(temp)\n",
        "X_val2=torch.FloatTensor(X_val2)\n",
        "\n",
        "with torch.no_grad():\n",
        "    logits = Beitmodel(X_val2).logits\n",
        "\n",
        "\n",
        "x_val=logits.detach().numpy()\n",
        "x_val.shape"
      ],
      "metadata": {
        "colab": {
          "base_uri": "https://localhost:8080/"
        },
        "id": "PuHBgx-XWCmI",
        "outputId": "c933553a-fb35-461d-fd87-19144da0d71b"
      },
      "execution_count": null,
      "outputs": [
        {
          "output_type": "stream",
          "name": "stdout",
          "text": [
            "tensor([374, 339, 361,  32, 510, 511,  10, 555, 204,  10, 510,  32, 803, 404,\n",
            "        188, 281,  10, 339, 353, 281, 625, 717,  32, 867, 511, 436, 510, 996,\n",
            "        348,  10, 339, 867, 234, 780, 856, 511, 408, 536, 517, 473, 511,  32,\n",
            "        156, 351, 231, 339, 404, 352, 339,   9, 351, 555,  47,  80, 656, 353,\n",
            "        675, 675, 814,  30,  92,   9, 283, 248, 154, 675,  32, 353, 339,  32,\n",
            "        511, 510, 154, 867, 908, 339, 339, 353,   9, 339,  32, 352, 101, 285,\n",
            "         86,  10, 675, 675, 351, 280,  32,  31, 339,  32,   9, 814, 675, 516,\n",
            "        404, 358])\n"
          ]
        },
        {
          "output_type": "execute_result",
          "data": {
            "text/plain": [
              "(100, 1000)"
            ]
          },
          "metadata": {},
          "execution_count": 21
        }
      ]
    },
    {
      "cell_type": "code",
      "source": [
        "X_tst2=[]\n",
        "for i in X_test:\n",
        "    temp=feature_extractor(images=[i]).pixel_values[0]\n",
        "    X_tst2.append(temp)\n",
        "X_tst2=torch.FloatTensor(X_val2)\n",
        "\n",
        "with torch.no_grad():\n",
        "    logits = Beitmodel(X_tst2).logits\n",
        "\n",
        "x_tst=logits.detach().numpy()\n",
        "x_tst.shape"
      ],
      "metadata": {
        "colab": {
          "base_uri": "https://localhost:8080/"
        },
        "id": "th9tmrjbZtfN",
        "outputId": "e928b0c2-90b4-4f92-931a-05f3c28ef076"
      },
      "execution_count": null,
      "outputs": [
        {
          "output_type": "execute_result",
          "data": {
            "text/plain": [
              "(100, 1000)"
            ]
          },
          "metadata": {},
          "execution_count": 35
        }
      ]
    },
    {
      "cell_type": "code",
      "source": [
        "print(X_train2.shape)\n",
        "print(X_val2.shape)"
      ],
      "metadata": {
        "colab": {
          "base_uri": "https://localhost:8080/"
        },
        "id": "e7ZDvja7GECS",
        "outputId": "377cb081-5e60-4757-a804-cf1b0b6e4462"
      },
      "execution_count": null,
      "outputs": [
        {
          "output_type": "stream",
          "name": "stdout",
          "text": [
            "torch.Size([500, 3, 224, 224])\n",
            "torch.Size([100, 3, 224, 224])\n"
          ]
        }
      ]
    },
    {
      "cell_type": "code",
      "source": [
        "model = Sequential()\n",
        "model.add(Dense(1000))\n",
        "model.add(Activation('relu'))\n",
        "\n",
        "model.add(Dense(64))\n",
        "model.add(Activation('relu'))\n",
        "model.add(Dropout(0.25))\n",
        "model.add(Dense(10))\n",
        "model.add(Activation('softmax'))\n",
        "\n",
        "optimizer = optimizers.Adam(learning_rate=0.0001)\n",
        "\n",
        "model.compile(optimizer=optimizer, loss='categorical_crossentropy', metrics=['accuracy'])\n"
      ],
      "metadata": {
        "id": "HVTTb62CI12g"
      },
      "execution_count": null,
      "outputs": []
    },
    {
      "cell_type": "code",
      "source": [
        "hist = model.fit(x_t, y_train, epochs= 10, batch_size= 18, validation_data=(x_val, y_valid))"
      ],
      "metadata": {
        "colab": {
          "base_uri": "https://localhost:8080/"
        },
        "id": "Mj03RZBBLuac",
        "outputId": "cb7f333c-a30b-4d77-8186-fd5623077409"
      },
      "execution_count": null,
      "outputs": [
        {
          "output_type": "stream",
          "name": "stdout",
          "text": [
            "Epoch 1/10\n",
            "28/28 [==============================] - 1s 8ms/step - loss: 1.6663 - accuracy: 0.4960 - val_loss: 0.8927 - val_accuracy: 0.8600\n",
            "Epoch 2/10\n",
            "28/28 [==============================] - 0s 4ms/step - loss: 0.5599 - accuracy: 0.9060 - val_loss: 0.3599 - val_accuracy: 0.9200\n",
            "Epoch 3/10\n",
            "28/28 [==============================] - 0s 5ms/step - loss: 0.2432 - accuracy: 0.9580 - val_loss: 0.2517 - val_accuracy: 0.9500\n",
            "Epoch 4/10\n",
            "28/28 [==============================] - 0s 4ms/step - loss: 0.1507 - accuracy: 0.9860 - val_loss: 0.2073 - val_accuracy: 0.9500\n",
            "Epoch 5/10\n",
            "28/28 [==============================] - 0s 5ms/step - loss: 0.0988 - accuracy: 0.9860 - val_loss: 0.1942 - val_accuracy: 0.9500\n",
            "Epoch 6/10\n",
            "28/28 [==============================] - 0s 4ms/step - loss: 0.0755 - accuracy: 0.9900 - val_loss: 0.1871 - val_accuracy: 0.9600\n",
            "Epoch 7/10\n",
            "28/28 [==============================] - 0s 4ms/step - loss: 0.0514 - accuracy: 0.9940 - val_loss: 0.1810 - val_accuracy: 0.9600\n",
            "Epoch 8/10\n",
            "28/28 [==============================] - 0s 4ms/step - loss: 0.0526 - accuracy: 0.9900 - val_loss: 0.1840 - val_accuracy: 0.9500\n",
            "Epoch 9/10\n",
            "28/28 [==============================] - 0s 4ms/step - loss: 0.0410 - accuracy: 0.9940 - val_loss: 0.1780 - val_accuracy: 0.9600\n",
            "Epoch 10/10\n",
            "28/28 [==============================] - 0s 5ms/step - loss: 0.0283 - accuracy: 0.9980 - val_loss: 0.1725 - val_accuracy: 0.9600\n"
          ]
        }
      ]
    },
    {
      "cell_type": "code",
      "source": [
        "model.summary()"
      ],
      "metadata": {
        "colab": {
          "base_uri": "https://localhost:8080/"
        },
        "id": "UHwb-DqpNCuM",
        "outputId": "4354d99c-7ebb-41ac-a731-669fa0752f97"
      },
      "execution_count": null,
      "outputs": [
        {
          "output_type": "stream",
          "name": "stdout",
          "text": [
            "Model: \"sequential_1\"\n",
            "_________________________________________________________________\n",
            " Layer (type)                Output Shape              Param #   \n",
            "=================================================================\n",
            " dense_3 (Dense)             (None, 1000)              1001000   \n",
            "                                                                 \n",
            " activation_3 (Activation)   (None, 1000)              0         \n",
            "                                                                 \n",
            " dense_4 (Dense)             (None, 64)                64064     \n",
            "                                                                 \n",
            " activation_4 (Activation)   (None, 64)                0         \n",
            "                                                                 \n",
            " dropout_1 (Dropout)         (None, 64)                0         \n",
            "                                                                 \n",
            " dense_5 (Dense)             (None, 10)                650       \n",
            "                                                                 \n",
            " activation_5 (Activation)   (None, 10)                0         \n",
            "                                                                 \n",
            "=================================================================\n",
            "Total params: 1,065,714\n",
            "Trainable params: 1,065,714\n",
            "Non-trainable params: 0\n",
            "_________________________________________________________________\n"
          ]
        }
      ]
    },
    {
      "cell_type": "code",
      "source": [
        "plt.plot(hist.history['accuracy'],'r')\n",
        "plt.plot(hist.history['val_accuracy'],'b')\n",
        "plt.title('model accuracy')\n",
        "plt.ylabel('accuracy')\n",
        "plt.xlabel('epoch')\n",
        "plt.legend(['train', 'validation'])\n",
        "plt.grid()"
      ],
      "metadata": {
        "colab": {
          "base_uri": "https://localhost:8080/",
          "height": 295
        },
        "id": "Zhh9i4akNGmt",
        "outputId": "b0efc0e8-6387-4691-c2ac-a9f01649811d"
      },
      "execution_count": null,
      "outputs": [
        {
          "output_type": "display_data",
          "data": {
            "text/plain": [
              "<Figure size 432x288 with 1 Axes>"
            ],
            "image/png": "[encoded data removed]"
          },
          "metadata": {
            "needs_background": "light"
          }
        }
      ]
    },
    {
      "cell_type": "code",
      "source": [
        "fig = plt.figure()\n",
        "plt.plot(hist.history['loss'],'r')\n",
        "plt.plot(hist.history['val_loss'],'b')\n",
        "plt.title('model loss')\n",
        "plt.ylabel('loss')\n",
        "plt.xlabel('epoch')\n",
        "plt.legend(['train', 'validation'])\n",
        "plt.grid()"
      ],
      "metadata": {
        "colab": {
          "base_uri": "https://localhost:8080/",
          "height": 295
        },
        "id": "nuUreGkvNVPj",
        "outputId": "77a80597-9862-46a9-e76e-85801c93d1ab"
      },
      "execution_count": null,
      "outputs": [
        {
          "output_type": "display_data",
          "data": {
            "text/plain": [
              "<Figure size 432x288 with 1 Axes>"
            ],
            "image/png": "[encoded data removed]"
          },
          "metadata": {
            "needs_background": "light"
          }
        }
      ]
    },
    {
      "cell_type": "code",
      "source": [
        "y_pred = model.predict(x_tst);\n",
        "y_pred = np.argmax(y_pred, axis=1);"
      ],
      "metadata": {
        "colab": {
          "base_uri": "https://localhost:8080/"
        },
        "id": "FpinksEbNT5i",
        "outputId": "340f8956-ea87-4fc7-f764-57d4bea22342"
      },
      "execution_count": null,
      "outputs": [
        {
          "output_type": "stream",
          "name": "stdout",
          "text": [
            "4/4 [==============================] - 0s 4ms/step\n"
          ]
        }
      ]
    }
  ]
}