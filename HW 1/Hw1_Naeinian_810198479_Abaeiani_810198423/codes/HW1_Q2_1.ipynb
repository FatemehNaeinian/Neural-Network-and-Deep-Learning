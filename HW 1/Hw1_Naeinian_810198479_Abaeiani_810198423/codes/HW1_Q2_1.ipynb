{
 "cells": [
  {
   "cell_type": "code",
   "execution_count": 1,
   "id": "10d3f94f",
   "metadata": {},
   "outputs": [],
   "source": [
    "import numpy as np\n",
    "import matplotlib.pyplot as plt\n",
    "import random\n",
    "import pandas as pd"
   ]
  },
  {
   "cell_type": "code",
   "execution_count": 2,
   "id": "faef37ef",
   "metadata": {},
   "outputs": [],
   "source": [
    "x1 = np.random.normal(1, 0.3, 100)\n",
    "y1 = np.random.normal(1, 0.3, 100)\n",
    "x2 = np.random.normal(-1, 0.3, 100)\n",
    "y2 = np.random.normal(-1, 0.3, 100)"
   ]
  },
  {
   "cell_type": "code",
   "execution_count": 3,
   "id": "22ac500b",
   "metadata": {},
   "outputs": [
    {
     "data": {
      "image/png": "[encoded data removed]",
      "text/plain": [
       "<Figure size 432x288 with 1 Axes>"
      ]
     },
     "metadata": {
      "needs_background": "light"
     },
     "output_type": "display_data"
    }
   ],
   "source": [
    "plt.scatter(x1,y1,c=\"blue\",label=\"Class 1\")\n",
    "plt.scatter(x2,y2,c=\"purple\",label=\"Class 2\")\n",
    "plt.title(\"scatter plot\")\n",
    "plt.xlabel(\"x\")\n",
    "plt.ylabel(\"y\")\n",
    "plt.xlim(-2,2)\n",
    "plt.ylim(-2,2)\n",
    "plt.legend()\n",
    "plt.grid()"
   ]
  },
  {
   "cell_type": "code",
   "execution_count": 4,
   "id": "6e39ea16",
   "metadata": {},
   "outputs": [],
   "source": [
    "W = np.array([random.random(),random.random()])\n",
    "b = np.array([random.random()])\n",
    "a = 0.05\n",
    "error = []"
   ]
  },
  {
   "cell_type": "code",
   "execution_count": 5,
   "id": "3fadafea",
   "metadata": {},
   "outputs": [
    {
     "data": {
      "text/html": [
       "<div>\n",
       "<style scoped>\n",
       "    .dataframe tbody tr th:only-of-type {\n",
       "        vertical-align: middle;\n",
       "    }\n",
       "\n",
       "    .dataframe tbody tr th {\n",
       "        vertical-align: top;\n",
       "    }\n",
       "\n",
       "    .dataframe thead th {\n",
       "        text-align: right;\n",
       "    }\n",
       "</style>\n",
       "<table border=\"1\" class=\"dataframe\">\n",
       "  <thead>\n",
       "    <tr style=\"text-align: right;\">\n",
       "      <th></th>\n",
       "      <th>x</th>\n",
       "      <th>y</th>\n",
       "      <th>t</th>\n",
       "    </tr>\n",
       "  </thead>\n",
       "  <tbody>\n",
       "    <tr>\n",
       "      <th>80</th>\n",
       "      <td>1.663717</td>\n",
       "      <td>0.325615</td>\n",
       "      <td>-1.0</td>\n",
       "    </tr>\n",
       "    <tr>\n",
       "      <th>111</th>\n",
       "      <td>-0.773339</td>\n",
       "      <td>-1.132857</td>\n",
       "      <td>1.0</td>\n",
       "    </tr>\n",
       "    <tr>\n",
       "      <th>109</th>\n",
       "      <td>-0.884560</td>\n",
       "      <td>-0.564471</td>\n",
       "      <td>1.0</td>\n",
       "    </tr>\n",
       "    <tr>\n",
       "      <th>127</th>\n",
       "      <td>-1.227705</td>\n",
       "      <td>-1.182305</td>\n",
       "      <td>1.0</td>\n",
       "    </tr>\n",
       "    <tr>\n",
       "      <th>165</th>\n",
       "      <td>-1.057285</td>\n",
       "      <td>-0.822084</td>\n",
       "      <td>1.0</td>\n",
       "    </tr>\n",
       "    <tr>\n",
       "      <th>...</th>\n",
       "      <td>...</td>\n",
       "      <td>...</td>\n",
       "      <td>...</td>\n",
       "    </tr>\n",
       "    <tr>\n",
       "      <th>184</th>\n",
       "      <td>-1.068688</td>\n",
       "      <td>-0.281651</td>\n",
       "      <td>1.0</td>\n",
       "    </tr>\n",
       "    <tr>\n",
       "      <th>81</th>\n",
       "      <td>0.805325</td>\n",
       "      <td>0.697058</td>\n",
       "      <td>-1.0</td>\n",
       "    </tr>\n",
       "    <tr>\n",
       "      <th>54</th>\n",
       "      <td>0.618584</td>\n",
       "      <td>1.496311</td>\n",
       "      <td>-1.0</td>\n",
       "    </tr>\n",
       "    <tr>\n",
       "      <th>107</th>\n",
       "      <td>-0.345478</td>\n",
       "      <td>-1.013216</td>\n",
       "      <td>1.0</td>\n",
       "    </tr>\n",
       "    <tr>\n",
       "      <th>123</th>\n",
       "      <td>-0.927122</td>\n",
       "      <td>-0.875721</td>\n",
       "      <td>1.0</td>\n",
       "    </tr>\n",
       "  </tbody>\n",
       "</table>\n",
       "<p>200 rows × 3 columns</p>\n",
       "</div>"
      ],
      "text/plain": [
       "            x         y    t\n",
       "80   1.663717  0.325615 -1.0\n",
       "111 -0.773339 -1.132857  1.0\n",
       "109 -0.884560 -0.564471  1.0\n",
       "127 -1.227705 -1.182305  1.0\n",
       "165 -1.057285 -0.822084  1.0\n",
       "..        ...       ...  ...\n",
       "184 -1.068688 -0.281651  1.0\n",
       "81   0.805325  0.697058 -1.0\n",
       "54   0.618584  1.496311 -1.0\n",
       "107 -0.345478 -1.013216  1.0\n",
       "123 -0.927122 -0.875721  1.0\n",
       "\n",
       "[200 rows x 3 columns]"
      ]
     },
     "execution_count": 5,
     "metadata": {},
     "output_type": "execute_result"
    }
   ],
   "source": [
    "label = np.concatenate((-np.ones(100),np.ones(100)),axis=0)\n",
    "X = np.concatenate((x1,x2),axis=0)\n",
    "Y = np.concatenate((y1,y2),axis=0)\n",
    "data = {'x':X ,'y':Y ,'t':label }\n",
    "df = pd.DataFrame(data)\n",
    "df = df.sample(frac=1)\n",
    "df"
   ]
  },
  {
   "cell_type": "code",
   "execution_count": 6,
   "id": "8a9efca0",
   "metadata": {},
   "outputs": [],
   "source": [
    "epoch = 10\n",
    "error = []\n",
    "for i in range(epoch):\n",
    "    loss = []\n",
    "    for point in df.iterrows():\n",
    "        net = np.sum(np.multiply(W,np.array(point[1][0],point[1][1]))) +b\n",
    "\n",
    "        W = W + a*(point[1][2]-net)*np.array(point[1][0],point[1][1])\n",
    "        b = b + a*(point[1][2]-net)\n",
    "        loss.append(0.5*(point[1][2]-net)**2)\n",
    "\n",
    "    error.append(np.mean(loss))"
   ]
  },
  {
   "cell_type": "code",
   "execution_count": 7,
   "id": "35289eee",
   "metadata": {},
   "outputs": [
    {
     "data": {
      "image/png": "[encoded data removed]",
      "text/plain": [
       "<Figure size 432x288 with 1 Axes>"
      ]
     },
     "metadata": {
      "needs_background": "light"
     },
     "output_type": "display_data"
    }
   ],
   "source": [
    "x = np.linspace(-2,2,100)\n",
    "y = -(b)/(W[1]) - ((W[0])/(W[1]))*x\n",
    "plt.plot(x,y)\n",
    "plt.scatter(x1,y1,c=\"blue\",label=\"Class 1\")\n",
    "plt.scatter(x2,y2,c=\"purple\",label=\"Class 2\")\n",
    "plt.title(\"scatter plot\")\n",
    "plt.xlabel(\"x\")\n",
    "plt.ylabel(\"y\")\n",
    "plt.xlim(-2,2)\n",
    "plt.ylim(-2,2)\n",
    "plt.legend()\n",
    "plt.grid()"
   ]
  },
  {
   "cell_type": "code",
   "execution_count": 8,
   "id": "8f37f378",
   "metadata": {},
   "outputs": [
    {
     "data": {
      "image/png": "[encoded data removed]",
      "text/plain": [
       "<Figure size 432x288 with 1 Axes>"
      ]
     },
     "metadata": {
      "needs_background": "light"
     },
     "output_type": "display_data"
    }
   ],
   "source": [
    "plt.plot(error)\n",
    "plt.title(\"error\")\n",
    "plt.xlabel(\"epoch\")\n",
    "plt.ylabel(\"error\")\n",
    "plt.grid()"
   ]
  },
  {
   "cell_type": "code",
   "execution_count": null,
   "id": "d68df313",
   "metadata": {},
   "outputs": [],
   "source": []
  },
  {
   "cell_type": "code",
   "execution_count": null,
   "id": "69b557d6",
   "metadata": {},
   "outputs": [],
   "source": []
  },
  {
   "cell_type": "code",
   "execution_count": 16,
   "id": "507b6c9b",
   "metadata": {},
   "outputs": [],
   "source": [
    "x1 = np.random.normal(0, 0.6, 100)\n",
    "y1 = np.random.normal(0, 0.6, 100)\n",
    "x2 = np.random.normal(2, 0.8, 20)\n",
    "y2 = np.random.normal(2, 0.8, 20)"
   ]
  },
  {
   "cell_type": "code",
   "execution_count": 17,
   "id": "59f155ce",
   "metadata": {},
   "outputs": [
    {
     "data": {
      "image/png": "[encoded data removed]",
      "text/plain": [
       "<Figure size 432x288 with 1 Axes>"
      ]
     },
     "metadata": {
      "needs_background": "light"
     },
     "output_type": "display_data"
    }
   ],
   "source": [
    "plt.scatter(x1,y1,c=\"blue\",label=\"Class 1\")\n",
    "plt.scatter(x2,y2,c=\"red\",label=\"Class 2\")\n",
    "plt.title(\"scatter plot\")\n",
    "plt.xlabel(\"x\")\n",
    "plt.ylabel(\"y\")\n",
    "plt.xlim(-2,5)\n",
    "plt.ylim(-2,5)\n",
    "plt.legend()\n",
    "plt.grid()"
   ]
  },
  {
   "cell_type": "code",
   "execution_count": 18,
   "id": "19e97ffb",
   "metadata": {},
   "outputs": [],
   "source": [
    "W = np.array([random.random(),random.random()])\n",
    "b = np.array([random.random()])\n",
    "a = 0.01\n",
    "error = []"
   ]
  },
  {
   "cell_type": "code",
   "execution_count": 19,
   "id": "7c7146f2",
   "metadata": {},
   "outputs": [
    {
     "data": {
      "text/html": [
       "<div>\n",
       "<style scoped>\n",
       "    .dataframe tbody tr th:only-of-type {\n",
       "        vertical-align: middle;\n",
       "    }\n",
       "\n",
       "    .dataframe tbody tr th {\n",
       "        vertical-align: top;\n",
       "    }\n",
       "\n",
       "    .dataframe thead th {\n",
       "        text-align: right;\n",
       "    }\n",
       "</style>\n",
       "<table border=\"1\" class=\"dataframe\">\n",
       "  <thead>\n",
       "    <tr style=\"text-align: right;\">\n",
       "      <th></th>\n",
       "      <th>x</th>\n",
       "      <th>y</th>\n",
       "      <th>t</th>\n",
       "    </tr>\n",
       "  </thead>\n",
       "  <tbody>\n",
       "    <tr>\n",
       "      <th>76</th>\n",
       "      <td>-1.277229</td>\n",
       "      <td>-0.224135</td>\n",
       "      <td>-1.0</td>\n",
       "    </tr>\n",
       "    <tr>\n",
       "      <th>43</th>\n",
       "      <td>0.443356</td>\n",
       "      <td>0.071732</td>\n",
       "      <td>-1.0</td>\n",
       "    </tr>\n",
       "    <tr>\n",
       "      <th>4</th>\n",
       "      <td>0.045832</td>\n",
       "      <td>-0.218892</td>\n",
       "      <td>-1.0</td>\n",
       "    </tr>\n",
       "    <tr>\n",
       "      <th>1</th>\n",
       "      <td>-0.582972</td>\n",
       "      <td>0.272359</td>\n",
       "      <td>-1.0</td>\n",
       "    </tr>\n",
       "    <tr>\n",
       "      <th>117</th>\n",
       "      <td>2.182227</td>\n",
       "      <td>2.111330</td>\n",
       "      <td>1.0</td>\n",
       "    </tr>\n",
       "    <tr>\n",
       "      <th>...</th>\n",
       "      <td>...</td>\n",
       "      <td>...</td>\n",
       "      <td>...</td>\n",
       "    </tr>\n",
       "    <tr>\n",
       "      <th>95</th>\n",
       "      <td>1.354167</td>\n",
       "      <td>-0.082790</td>\n",
       "      <td>-1.0</td>\n",
       "    </tr>\n",
       "    <tr>\n",
       "      <th>106</th>\n",
       "      <td>3.080146</td>\n",
       "      <td>1.519021</td>\n",
       "      <td>1.0</td>\n",
       "    </tr>\n",
       "    <tr>\n",
       "      <th>40</th>\n",
       "      <td>0.003232</td>\n",
       "      <td>0.076392</td>\n",
       "      <td>-1.0</td>\n",
       "    </tr>\n",
       "    <tr>\n",
       "      <th>24</th>\n",
       "      <td>-0.112966</td>\n",
       "      <td>-0.707797</td>\n",
       "      <td>-1.0</td>\n",
       "    </tr>\n",
       "    <tr>\n",
       "      <th>107</th>\n",
       "      <td>2.329932</td>\n",
       "      <td>1.973311</td>\n",
       "      <td>1.0</td>\n",
       "    </tr>\n",
       "  </tbody>\n",
       "</table>\n",
       "<p>120 rows × 3 columns</p>\n",
       "</div>"
      ],
      "text/plain": [
       "            x         y    t\n",
       "76  -1.277229 -0.224135 -1.0\n",
       "43   0.443356  0.071732 -1.0\n",
       "4    0.045832 -0.218892 -1.0\n",
       "1   -0.582972  0.272359 -1.0\n",
       "117  2.182227  2.111330  1.0\n",
       "..        ...       ...  ...\n",
       "95   1.354167 -0.082790 -1.0\n",
       "106  3.080146  1.519021  1.0\n",
       "40   0.003232  0.076392 -1.0\n",
       "24  -0.112966 -0.707797 -1.0\n",
       "107  2.329932  1.973311  1.0\n",
       "\n",
       "[120 rows x 3 columns]"
      ]
     },
     "execution_count": 19,
     "metadata": {},
     "output_type": "execute_result"
    }
   ],
   "source": [
    "label = np.concatenate((-np.ones(100),np.ones(20)),axis=0)\n",
    "X = np.concatenate((x1,x2),axis=0)\n",
    "Y = np.concatenate((y1,y2),axis=0)\n",
    "data = {'x':X ,'y':Y ,'t':label }\n",
    "df = pd.DataFrame(data)\n",
    "df = df.sample(frac=1)\n",
    "df"
   ]
  },
  {
   "cell_type": "code",
   "execution_count": 27,
   "id": "1ae0553c",
   "metadata": {},
   "outputs": [],
   "source": [
    "epoch = 20\n",
    "error = []\n",
    "for i in range(epoch):\n",
    "    loss = []\n",
    "    for point in df.iterrows():\n",
    "        net = np.sum(np.multiply(W,np.array([point[1][0],point[1][1]]))) +b\n",
    "\n",
    "        W = W + a*(point[1][2]-net)*np.array([point[1][0],point[1][1]])\n",
    "        b = b + a*(point[1][2]-net)\n",
    "        loss.append(0.5*(point[1][2]-net)**2)\n",
    "\n",
    "    error.append(np.mean(loss))"
   ]
  },
  {
   "cell_type": "code",
   "execution_count": 28,
   "id": "98c4c2ec",
   "metadata": {},
   "outputs": [
    {
     "data": {
      "image/png": "[encoded data removed]",
      "text/plain": [
       "<Figure size 432x288 with 1 Axes>"
      ]
     },
     "metadata": {
      "needs_background": "light"
     },
     "output_type": "display_data"
    }
   ],
   "source": [
    "x = np.linspace(-3,5,100)\n",
    "y = -(b)/(W[1]) - ((W[0])/(W[1]))*x\n",
    "plt.plot(x,y)\n",
    "plt.scatter(x1,y1,c=\"blue\",label=\"Class 1\")\n",
    "plt.scatter(x2,y2,c=\"red\",label=\"Class 2\")\n",
    "plt.title(\"scatter plot\")\n",
    "plt.xlim(-2,5)\n",
    "plt.ylim(-2,5)\n",
    "plt.xlabel(\"x\")\n",
    "plt.ylabel(\"y\")\n",
    "plt.legend()\n",
    "plt.grid()"
   ]
  },
  {
   "cell_type": "code",
   "execution_count": 22,
   "id": "dcf93649",
   "metadata": {},
   "outputs": [
    {
     "data": {
      "image/png": "[encoded data removed]",
      "text/plain": [
       "<Figure size 432x288 with 1 Axes>"
      ]
     },
     "metadata": {
      "needs_background": "light"
     },
     "output_type": "display_data"
    }
   ],
   "source": [
    "plt.plot(error)\n",
    "plt.title(\"error\")\n",
    "plt.xlabel(\"Number of tries\")\n",
    "plt.ylabel(\"error\")\n",
    "plt.grid()"
   ]
  },
  {
   "cell_type": "code",
   "execution_count": null,
   "id": "df0b5951",
   "metadata": {},
   "outputs": [],
   "source": []
  },
  {
   "cell_type": "code",
   "execution_count": null,
   "id": "aaba3dda",
   "metadata": {},
   "outputs": [],
   "source": []
  }
 ],
 "metadata": {
  "kernelspec": {
   "display_name": "Python 3 (ipykernel)",
   "language": "python",
   "name": "python3"
  },
  "language_info": {
   "codemirror_mode": {
    "name": "ipython",
    "version": 3
   },
   "file_extension": ".py",
   "mimetype": "text/x-python",
   "name": "python",
   "nbconvert_exporter": "python",
   "pygments_lexer": "ipython3",
   "version": "3.9.12"
  }
 },
 "nbformat": 4,
 "nbformat_minor": 5
}
