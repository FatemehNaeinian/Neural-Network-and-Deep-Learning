{
 "cells": [
  {
   "cell_type": "markdown",
   "metadata": {},
   "source": [
    "\n",
    "# Question 1\n"
   ]
  },
  {
   "cell_type": "code",
   "execution_count": 4,
   "metadata": {},
   "outputs": [],
   "source": [
    "def Mac(x1,x2,x3,x4, w1, w2, w3, w4, b):\n",
    "    S = x1*w1 + x2*w2 + x3*w3+ x4*w4 \n",
    "    return b <= S\n",
    "\n",
    "def AND(x1,x2,x3,x4):\n",
    "    return Mac(x1,x2,x3,x4, 1,1,1,1,4)\n",
    "\n",
    "def OR(x1,x2,x3,x4):\n",
    "    return Mac(x1,x2,x3,x4, 4,4,4,4,4)\n",
    "\n",
    "def NOT(x):\n",
    "    return -1*x >= -0.5\n"
   ]
  },
  {
   "cell_type": "code",
   "execution_count": 5,
   "metadata": {},
   "outputs": [
    {
     "data": {
      "text/plain": [
       "[False, False, False, True]"
      ]
     },
     "execution_count": 5,
     "metadata": {},
     "output_type": "execute_result"
    }
   ],
   "source": [
    "\n",
    "def mult2_bit(A2,A1,B2,B1):\n",
    "    \n",
    "    A2n = NOT(A2)\n",
    "    B2n = NOT(B2)\n",
    "    A1n = NOT(A1)\n",
    "    B1n = NOT(B1)\n",
    "    \n",
    "    ##p8\n",
    "    p8 = AND(A1,A2,B1,B2)\n",
    "    \n",
    "    ##p4 \n",
    "    y2p1 = AND(A2,B2,B1n,1)\n",
    "    y2p2 = AND(A2,B2,A1n,1)\n",
    "    p4 = OR(y2p1,y2p2,0,0)\n",
    "    \n",
    "    ##p2\n",
    "    y3p1 = AND(B1n,B2,A1,1)\n",
    "    y3p2 = AND(A1,A2n,B2,1)\n",
    "    y3p3 = AND(A1n,A2,B1,1)\n",
    "    y3p4 = AND(B1,B2n,A2,1)\n",
    "    p2 = OR(y3p1,y3p2,y3p3,y3p4)\n",
    "    \n",
    "    ##p1\n",
    "    p1 = AND(A1,B1,1,1)\n",
    "    \n",
    "    return [p8,p4,p2,p1]\n",
    "    \n",
    "mult2_bit(0,1,0,1)    \n",
    "    "
   ]
  },
  {
   "cell_type": "code",
   "execution_count": 6,
   "metadata": {},
   "outputs": [
    {
     "name": "stdout",
     "output_type": "stream",
     "text": [
      " A1 A0 B1 B0 -> p8p4p2p1\n",
      "(0, 0, 0, 0)   0 0 0 0\n",
      "(0, 0, 0, 1)   0 0 0 0\n",
      "(0, 0, 1, 0)   0 0 0 0\n",
      "(0, 0, 1, 1)   0 0 0 0\n",
      "(0, 1, 0, 0)   0 0 0 0\n",
      "(0, 1, 0, 1)   0 0 0 1\n",
      "(0, 1, 1, 0)   0 0 1 0\n",
      "(0, 1, 1, 1)   0 0 1 1\n",
      "(1, 0, 0, 0)   0 0 0 0\n",
      "(1, 0, 0, 1)   0 0 1 0\n",
      "(1, 0, 1, 0)   0 1 0 0\n",
      "(1, 0, 1, 1)   0 1 1 0\n",
      "(1, 1, 0, 0)   0 0 0 0\n",
      "(1, 1, 0, 1)   0 0 1 1\n",
      "(1, 1, 1, 0)   0 1 1 0\n",
      "(1, 1, 1, 1)   1 0 0 1\n"
     ]
    }
   ],
   "source": [
    "import itertools\n",
    "binaries = list(itertools.product([0, 1], repeat=4))\n",
    "print(\" A1 A0 B1 B0 -> p8p4p2p1\")\n",
    "for b in binaries:\n",
    "    p8 , p4 , p2 , p1 = mult2_bit(*b)\n",
    "    print(b, \" \", p8*1, p4*1, p2*1, p1*1)"
   ]
  }
 ],
 "metadata": {
  "kernelspec": {
   "display_name": "Python 3 (ipykernel)",
   "language": "python",
   "name": "python3"
  },
  "language_info": {
   "codemirror_mode": {
    "name": "ipython",
    "version": 3
   },
   "file_extension": ".py",
   "mimetype": "text/x-python",
   "name": "python",
   "nbconvert_exporter": "python",
   "pygments_lexer": "ipython3",
   "version": "3.9.12"
  }
 },
 "nbformat": 4,
 "nbformat_minor": 2
}
