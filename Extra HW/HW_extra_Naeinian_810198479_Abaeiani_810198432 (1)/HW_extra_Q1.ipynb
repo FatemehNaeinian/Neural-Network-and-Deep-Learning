{
  "nbformat": 4,
  "nbformat_minor": 0,
  "metadata": {
    "colab": {
      "provenance": []
    },
    "kernelspec": {
      "name": "python3",
      "display_name": "Python 3"
    },
    "language_info": {
      "name": "python"
    },
    "accelerator": "GPU",
    "gpuClass": "standard"
  },
  "cells": [
    {
      "cell_type": "code",
      "execution_count": 1,
      "metadata": {
        "colab": {
          "base_uri": "https://localhost:8080/"
        },
        "id": "wMWHQPCNHUcc",
        "outputId": "f7437b63-4fcc-4f7c-88bf-35d62a5031f9"
      },
      "outputs": [
        {
          "output_type": "stream",
          "name": "stdout",
          "text": [
            "Archive:  creditcard.csv.zip\n",
            "  inflating: creditcard.csv          \n"
          ]
        }
      ],
      "source": [
        "!unzip creditcard.csv"
      ]
    },
    {
      "cell_type": "code",
      "source": [
        "import matplotlib.pyplot as plt\n",
        "import pandas as pd \n",
        "from keras.utils import to_categorical\n",
        "from sklearn.model_selection import train_test_split\n",
        "from keras.layers import Dense, Conv2D, MaxPooling2D , Dropout , Flatten , BatchNormalization\n",
        "from imblearn.over_sampling import SMOTE\n",
        "import numpy as np\n",
        "import tensorflow as tf\n",
        "from keras.layers import Input, Dense\n",
        "from keras import regularizers\n",
        "from keras.models import Model, load_model\n",
        "from keras.models import Sequential\n",
        "from keras.optimizers import SGD,Adam\n",
        "from sklearn.metrics import precision_score , recall_score, f1_score, accuracy_score\n",
        "from sklearn.metrics import accuracy_score, confusion_matrix, classification_report\n",
        "import seaborn as sns\n",
        "from keras.utils import np_utils\n",
        "from keras import metrics"
      ],
      "metadata": {
        "id": "iSLgp0FrI1md"
      },
      "execution_count": 2,
      "outputs": []
    },
    {
      "cell_type": "code",
      "source": [
        "data_frame = pd.read_csv(\"creditcard.csv\")"
      ],
      "metadata": {
        "id": "u5MV-XRoI1o5"
      },
      "execution_count": 8,
      "outputs": []
    },
    {
      "cell_type": "code",
      "source": [
        "data_frame = data_frame.drop(['Time'], axis=1)\n",
        "Y = data_frame['Class']\n",
        "X = data_frame.drop(['Class'], axis=1)\n",
        "\n",
        "X['Amount'] = (X['Amount']-X['Amount'].mean())/ X['Amount'].std()\n",
        "\n",
        "X_train, X_test, y_train, y_test = train_test_split(X, Y, test_size=0.2, random_state=42)\n"
      ],
      "metadata": {
        "id": "HpnGltPaJS7M"
      },
      "execution_count": 9,
      "outputs": []
    },
    {
      "cell_type": "code",
      "source": [
        "smote = SMOTE(random_state=50, k_neighbors=4, sampling_strategy='minority')\n",
        "X_resample, y_resample = smote.fit_resample(X_train, y_train)\n",
        "\n",
        "noise_train = 0.4 * np.random.normal(loc=0.0, scale=1.0, size=X_resample.shape) \n",
        "noise_test = 0.4 * np.random.normal(loc=0.0, scale=1.0, size=X_test.shape) \n",
        "x_train_noise = X_resample + noise_train\n",
        "x_test_noise = X_test + noise_test\n",
        "\n",
        "Y_train = np_utils.to_categorical(y_resample)\n",
        "Y_test = np_utils.to_categorical(y_test)"
      ],
      "metadata": {
        "id": "pxjLbwmdJS9H"
      },
      "execution_count": 10,
      "outputs": []
    },
    {
      "cell_type": "markdown",
      "source": [
        "**autoencoder**"
      ],
      "metadata": {
        "id": "YkiGBgj3Fg8a"
      }
    },
    {
      "cell_type": "code",
      "source": [
        "encoder = Sequential()\n",
        "encoder.add(Dense(22, activation=\"tanh\", input_shape=(X_resample.shape[1],)))\n",
        "encoder.add(Dense(15, activation=\"relu\"))\n",
        "encoder.add(Dense(10, activation=\"relu\"))\n",
        "encoder.add(Dense(15, activation='relu'))\n",
        "encoder.add(Dense(22, activation='tanh'))\n",
        "encoder.add(Dense(29))\n",
        "encoder.compile(optimizer='adam', loss='mean_squared_error')\n",
        "encoder.fit(x_train_noise,X_resample ,epochs=10,batch_size=512,shuffle=True,validation_data=(x_test_noise, X_test))"
      ],
      "metadata": {
        "colab": {
          "base_uri": "https://localhost:8080/"
        },
        "id": "iTpdE1ihWg-3",
        "outputId": "abc6ec60-9d8e-401e-e067-2044914040ed"
      },
      "execution_count": 11,
      "outputs": [
        {
          "output_type": "stream",
          "name": "stdout",
          "text": [
            "Epoch 1/10\n",
            "889/889 [==============================] - 4s 3ms/step - loss: 4.6860 - val_loss: 0.8293\n",
            "Epoch 2/10\n",
            "889/889 [==============================] - 3s 3ms/step - loss: 1.9436 - val_loss: 0.7375\n",
            "Epoch 3/10\n",
            "889/889 [==============================] - 3s 3ms/step - loss: 1.2347 - val_loss: 0.6807\n",
            "Epoch 4/10\n",
            "889/889 [==============================] - 3s 3ms/step - loss: 0.8615 - val_loss: 0.6250\n",
            "Epoch 5/10\n",
            "889/889 [==============================] - 3s 3ms/step - loss: 0.6837 - val_loss: 0.5890\n",
            "Epoch 6/10\n",
            "889/889 [==============================] - 3s 3ms/step - loss: 0.5955 - val_loss: 0.5623\n",
            "Epoch 7/10\n",
            "889/889 [==============================] - 3s 3ms/step - loss: 0.5452 - val_loss: 0.5408\n",
            "Epoch 8/10\n",
            "889/889 [==============================] - 3s 3ms/step - loss: 0.5106 - val_loss: 0.5234\n",
            "Epoch 9/10\n",
            "889/889 [==============================] - 3s 3ms/step - loss: 0.4848 - val_loss: 0.5075\n",
            "Epoch 10/10\n",
            "889/889 [==============================] - 3s 3ms/step - loss: 0.4637 - val_loss: 0.4960\n"
          ]
        },
        {
          "output_type": "execute_result",
          "data": {
            "text/plain": [
              "<keras.callbacks.History at 0x7ff55f993f40>"
            ]
          },
          "metadata": {},
          "execution_count": 11
        }
      ]
    },
    {
      "cell_type": "code",
      "source": [
        "x_train_encoder = encoder.predict(x_train_noise)\n",
        "x_valid_encoder = encoder.predict(X_test)"
      ],
      "metadata": {
        "colab": {
          "base_uri": "https://localhost:8080/"
        },
        "id": "ZTaWJq6uMMFS",
        "outputId": "2d73a89f-9cd3-451f-83fe-8362d8bdf26e"
      },
      "execution_count": 12,
      "outputs": [
        {
          "output_type": "stream",
          "name": "stdout",
          "text": [
            "14216/14216 [==============================] - 21s 1ms/step\n",
            "1781/1781 [==============================] - 3s 1ms/step\n"
          ]
        }
      ]
    },
    {
      "cell_type": "markdown",
      "source": [
        "**fully connected**"
      ],
      "metadata": {
        "id": "E1QGZt4XFmOh"
      }
    },
    {
      "cell_type": "code",
      "source": [
        "model = Sequential()\n",
        "model.add(Dense(22, activation=\"relu\",input_shape=(29,)))\n",
        "model.add(Dense(15, activation=\"relu\"))\n",
        "model.add(Dense(10, activation=\"relu\"))\n",
        "model.add(Dense(5, activation=\"relu\"))\n",
        "model.add(Dense(2, activation=\"softmax\"))\n",
        "model.compile(optimizer=Adam(learning_rate=0.001), loss='categorical_crossentropy', metrics=['accuracy',[metrics.Recall(thresholds=x,class_id=1) for x in np.arange(0,1,0.01)],[metrics.Precision(thresholds=z) for z in np.arange(0,1,0.01)]])\n",
        "history = model.fit(x_train_encoder,Y_train,epochs=2,batch_size=256,shuffle=True,validation_data=(x_valid_encoder,Y_test))"
      ],
      "metadata": {
        "colab": {
          "base_uri": "https://localhost:8080/"
        },
        "id": "casjzPtXMMHr",
        "outputId": "79beaf54-230b-4b2f-fc0d-a77ab9c089b0"
      },
      "execution_count": 9,
      "outputs": [
        {
          "output_type": "stream",
          "name": "stdout",
          "text": [
            "Epoch 1/2\n",
            "1777/1777 [==============================] - 215s 102ms/step - loss: 0.1237 - accuracy: 0.9525 - recall: 1.0000 - recall_1: 0.9994 - recall_2: 0.9979 - recall_3: 0.9960 - recall_4: 0.9940 - recall_5: 0.9922 - recall_6: 0.9906 - recall_7: 0.9893 - recall_8: 0.9880 - recall_9: 0.9868 - recall_10: 0.9858 - recall_11: 0.9847 - recall_12: 0.9835 - recall_13: 0.9824 - recall_14: 0.9814 - recall_15: 0.9804 - recall_16: 0.9793 - recall_17: 0.9782 - recall_18: 0.9772 - recall_19: 0.9762 - recall_20: 0.9752 - recall_21: 0.9742 - recall_22: 0.9733 - recall_23: 0.9723 - recall_24: 0.9713 - recall_25: 0.9702 - recall_26: 0.9693 - recall_27: 0.9683 - recall_28: 0.9672 - recall_29: 0.9662 - recall_30: 0.9653 - recall_31: 0.9642 - recall_32: 0.9632 - recall_33: 0.9622 - recall_34: 0.9612 - recall_35: 0.9603 - recall_36: 0.9592 - recall_37: 0.9579 - recall_38: 0.9569 - recall_39: 0.9558 - recall_40: 0.9546 - recall_41: 0.9534 - recall_42: 0.9523 - recall_43: 0.9511 - recall_44: 0.9499 - recall_45: 0.9485 - recall_46: 0.9472 - recall_47: 0.9459 - recall_48: 0.9446 - recall_49: 0.9433 - recall_50: 0.9420 - recall_51: 0.9406 - recall_52: 0.9394 - recall_53: 0.9380 - recall_54: 0.9365 - recall_55: 0.9352 - recall_56: 0.9339 - recall_57: 0.9325 - recall_58: 0.9310 - recall_59: 0.9296 - recall_60: 0.9281 - recall_61: 0.9266 - recall_62: 0.9251 - recall_63: 0.9236 - recall_64: 0.9220 - recall_65: 0.9205 - recall_66: 0.9191 - recall_67: 0.9175 - recall_68: 0.9159 - recall_69: 0.9142 - recall_70: 0.9125 - recall_71: 0.9108 - recall_72: 0.9090 - recall_73: 0.9071 - recall_74: 0.9054 - recall_75: 0.9034 - recall_76: 0.9014 - recall_77: 0.8994 - recall_78: 0.8975 - recall_79: 0.8954 - recall_80: 0.8934 - recall_81: 0.8911 - recall_82: 0.8889 - recall_83: 0.8865 - recall_84: 0.8841 - recall_85: 0.8816 - recall_86: 0.8788 - recall_87: 0.8759 - recall_88: 0.8726 - recall_89: 0.8690 - recall_90: 0.8650 - recall_91: 0.8607 - recall_92: 0.8560 - recall_93: 0.8504 - recall_94: 0.8441 - recall_95: 0.8370 - recall_96: 0.8292 - recall_97: 0.8209 - recall_98: 0.8117 - recall_99: 0.7980 - precision: 0.5000 - precision_1: 0.7138 - precision_2: 0.7507 - precision_3: 0.7749 - precision_4: 0.7944 - precision_5: 0.8100 - precision_6: 0.8222 - precision_7: 0.8322 - precision_8: 0.8405 - precision_9: 0.8476 - precision_10: 0.8538 - precision_11: 0.8592 - precision_12: 0.8641 - precision_13: 0.8686 - precision_14: 0.8726 - precision_15: 0.8763 - precision_16: 0.8798 - precision_17: 0.8828 - precision_18: 0.8859 - precision_19: 0.8887 - precision_20: 0.8913 - precision_21: 0.8938 - precision_22: 0.8963 - precision_23: 0.8986 - precision_24: 0.9009 - precision_25: 0.9032 - precision_26: 0.9053 - precision_27: 0.9073 - precision_28: 0.9093 - precision_29: 0.9113 - precision_30: 0.9133 - precision_31: 0.9152 - precision_32: 0.9171 - precision_33: 0.9190 - precision_34: 0.9207 - precision_35: 0.9226 - precision_36: 0.9244 - precision_37: 0.9263 - precision_38: 0.9280 - precision_39: 0.9299 - precision_40: 0.9318 - precision_41: 0.9337 - precision_42: 0.9357 - precision_43: 0.9378 - precision_44: 0.9398 - precision_45: 0.9420 - precision_46: 0.9441 - precision_47: 0.9464 - precision_48: 0.9488 - precision_49: 0.9508 - precision_50: 0.9525 - precision_51: 0.9540 - precision_52: 0.9554 - precision_53: 0.9567 - precision_54: 0.9580 - precision_55: 0.9592 - precision_56: 0.9604 - precision_57: 0.9616 - precision_58: 0.9626 - precision_59: 0.9637 - precision_60: 0.9648 - precision_61: 0.9659 - precision_62: 0.9669 - precision_63: 0.9679 - precision_64: 0.9690 - precision_65: 0.9699 - precision_66: 0.9707 - precision_67: 0.9716 - precision_68: 0.9724 - precision_69: 0.9733 - precision_70: 0.9741 - precision_71: 0.9750 - precision_72: 0.9759 - precision_73: 0.9767 - precision_74: 0.9776 - precision_75: 0.9783 - precision_76: 0.9792 - precision_77: 0.9800 - precision_78: 0.9807 - precision_79: 0.9815 - precision_80: 0.9823 - precision_81: 0.9829 - precision_82: 0.9837 - precision_83: 0.9845 - precision_84: 0.9854 - precision_85: 0.9861 - precision_86: 0.9868 - precision_87: 0.9876 - precision_88: 0.9883 - precision_89: 0.9891 - precision_90: 0.9898 - precision_91: 0.9905 - precision_92: 0.9913 - precision_93: 0.9921 - precision_94: 0.9930 - precision_95: 0.9940 - precision_96: 0.9952 - precision_97: 0.9966 - precision_98: 0.9980 - precision_99: 0.9992 - val_loss: 0.0826 - val_accuracy: 0.9685 - val_recall: 1.0000 - val_recall_1: 0.9796 - val_recall_2: 0.9694 - val_recall_3: 0.9694 - val_recall_4: 0.9694 - val_recall_5: 0.9694 - val_recall_6: 0.9592 - val_recall_7: 0.9490 - val_recall_8: 0.9388 - val_recall_9: 0.9388 - val_recall_10: 0.9388 - val_recall_11: 0.9388 - val_recall_12: 0.9388 - val_recall_13: 0.9388 - val_recall_14: 0.9388 - val_recall_15: 0.9388 - val_recall_16: 0.9388 - val_recall_17: 0.9388 - val_recall_18: 0.9388 - val_recall_19: 0.9388 - val_recall_20: 0.9388 - val_recall_21: 0.9388 - val_recall_22: 0.9388 - val_recall_23: 0.9388 - val_recall_24: 0.9388 - val_recall_25: 0.9388 - val_recall_26: 0.9388 - val_recall_27: 0.9388 - val_recall_28: 0.9388 - val_recall_29: 0.9388 - val_recall_30: 0.9388 - val_recall_31: 0.9388 - val_recall_32: 0.9388 - val_recall_33: 0.9388 - val_recall_34: 0.9388 - val_recall_35: 0.9388 - val_recall_36: 0.9388 - val_recall_37: 0.9388 - val_recall_38: 0.9388 - val_recall_39: 0.9388 - val_recall_40: 0.9286 - val_recall_41: 0.9286 - val_recall_42: 0.9286 - val_recall_43: 0.9286 - val_recall_44: 0.9286 - val_recall_45: 0.9286 - val_recall_46: 0.9286 - val_recall_47: 0.9286 - val_recall_48: 0.9286 - val_recall_49: 0.9286 - val_recall_50: 0.9286 - val_recall_51: 0.9286 - val_recall_52: 0.9286 - val_recall_53: 0.9286 - val_recall_54: 0.9286 - val_recall_55: 0.9184 - val_recall_56: 0.9184 - val_recall_57: 0.9184 - val_recall_58: 0.9184 - val_recall_59: 0.9184 - val_recall_60: 0.9184 - val_recall_61: 0.9184 - val_recall_62: 0.9184 - val_recall_63: 0.9184 - val_recall_64: 0.9184 - val_recall_65: 0.9184 - val_recall_66: 0.9184 - val_recall_67: 0.9184 - val_recall_68: 0.9184 - val_recall_69: 0.9184 - val_recall_70: 0.9184 - val_recall_71: 0.9082 - val_recall_72: 0.9082 - val_recall_73: 0.8980 - val_recall_74: 0.8980 - val_recall_75: 0.8980 - val_recall_76: 0.8980 - val_recall_77: 0.8980 - val_recall_78: 0.8980 - val_recall_79: 0.8980 - val_recall_80: 0.8980 - val_recall_81: 0.8878 - val_recall_82: 0.8878 - val_recall_83: 0.8878 - val_recall_84: 0.8878 - val_recall_85: 0.8878 - val_recall_86: 0.8776 - val_recall_87: 0.8776 - val_recall_88: 0.8776 - val_recall_89: 0.8776 - val_recall_90: 0.8776 - val_recall_91: 0.8673 - val_recall_92: 0.8571 - val_recall_93: 0.8367 - val_recall_94: 0.8265 - val_recall_95: 0.8163 - val_recall_96: 0.8163 - val_recall_97: 0.8163 - val_recall_98: 0.8163 - val_recall_99: 0.7959 - val_precision: 0.5000 - val_precision_1: 0.6921 - val_precision_2: 0.7417 - val_precision_3: 0.7737 - val_precision_4: 0.8075 - val_precision_5: 0.8400 - val_precision_6: 0.8625 - val_precision_7: 0.8731 - val_precision_8: 0.8821 - val_precision_9: 0.8891 - val_precision_10: 0.8953 - val_precision_11: 0.9006 - val_precision_12: 0.9051 - val_precision_13: 0.9090 - val_precision_14: 0.9124 - val_precision_15: 0.9158 - val_precision_16: 0.9186 - val_precision_17: 0.9214 - val_precision_18: 0.9241 - val_precision_19: 0.9262 - val_precision_20: 0.9287 - val_precision_21: 0.9307 - val_precision_22: 0.9323 - val_precision_23: 0.9340 - val_precision_24: 0.9358 - val_precision_25: 0.9376 - val_precision_26: 0.9390 - val_precision_27: 0.9405 - val_precision_28: 0.9421 - val_precision_29: 0.9434 - val_precision_30: 0.9448 - val_precision_31: 0.9460 - val_precision_32: 0.9472 - val_precision_33: 0.9485 - val_precision_34: 0.9496 - val_precision_35: 0.9507 - val_precision_36: 0.9520 - val_precision_37: 0.9530 - val_precision_38: 0.9541 - val_precision_39: 0.9551 - val_precision_40: 0.9561 - val_precision_41: 0.9570 - val_precision_42: 0.9583 - val_precision_43: 0.9597 - val_precision_44: 0.9616 - val_precision_45: 0.9628 - val_precision_46: 0.9639 - val_precision_47: 0.9651 - val_precision_48: 0.9661 - val_precision_49: 0.9671 - val_precision_50: 0.9685 - val_precision_51: 0.9700 - val_precision_52: 0.9715 - val_precision_53: 0.9722 - val_precision_54: 0.9734 - val_precision_55: 0.9747 - val_precision_56: 0.9761 - val_precision_57: 0.9770 - val_precision_58: 0.9783 - val_precision_59: 0.9792 - val_precision_60: 0.9800 - val_precision_61: 0.9809 - val_precision_62: 0.9817 - val_precision_63: 0.9825 - val_precision_64: 0.9831 - val_precision_65: 0.9837 - val_precision_66: 0.9846 - val_precision_67: 0.9851 - val_precision_68: 0.9856 - val_precision_69: 0.9861 - val_precision_70: 0.9866 - val_precision_71: 0.9871 - val_precision_72: 0.9875 - val_precision_73: 0.9879 - val_precision_74: 0.9886 - val_precision_75: 0.9892 - val_precision_76: 0.9900 - val_precision_77: 0.9904 - val_precision_78: 0.9912 - val_precision_79: 0.9918 - val_precision_80: 0.9922 - val_precision_81: 0.9927 - val_precision_82: 0.9933 - val_precision_83: 0.9938 - val_precision_84: 0.9943 - val_precision_85: 0.9948 - val_precision_86: 0.9954 - val_precision_87: 0.9959 - val_precision_88: 0.9962 - val_precision_89: 0.9965 - val_precision_90: 0.9967 - val_precision_91: 0.9970 - val_precision_92: 0.9974 - val_precision_93: 0.9977 - val_precision_94: 0.9980 - val_precision_95: 0.9982 - val_precision_96: 0.9981 - val_precision_97: 0.9982 - val_precision_98: 0.9989 - val_precision_99: 0.9993\n",
            "Epoch 2/2\n",
            "1777/1777 [==============================] - 169s 95ms/step - loss: 0.0958 - accuracy: 0.9621 - recall: 1.0000 - recall_1: 0.9992 - recall_2: 0.9977 - recall_3: 0.9962 - recall_4: 0.9946 - recall_5: 0.9930 - recall_6: 0.9915 - recall_7: 0.9902 - recall_8: 0.9891 - recall_9: 0.9882 - recall_10: 0.9872 - recall_11: 0.9864 - recall_12: 0.9855 - recall_13: 0.9848 - recall_14: 0.9840 - recall_15: 0.9833 - recall_16: 0.9824 - recall_17: 0.9818 - recall_18: 0.9811 - recall_19: 0.9804 - recall_20: 0.9797 - recall_21: 0.9790 - recall_22: 0.9783 - recall_23: 0.9776 - recall_24: 0.9769 - recall_25: 0.9762 - recall_26: 0.9756 - recall_27: 0.9749 - recall_28: 0.9741 - recall_29: 0.9733 - recall_30: 0.9725 - recall_31: 0.9719 - recall_32: 0.9712 - recall_33: 0.9705 - recall_34: 0.9697 - recall_35: 0.9689 - recall_36: 0.9681 - recall_37: 0.9673 - recall_38: 0.9665 - recall_39: 0.9656 - recall_40: 0.9648 - recall_41: 0.9640 - recall_42: 0.9632 - recall_43: 0.9623 - recall_44: 0.9615 - recall_45: 0.9606 - recall_46: 0.9596 - recall_47: 0.9586 - recall_48: 0.9575 - recall_49: 0.9566 - recall_50: 0.9556 - recall_51: 0.9545 - recall_52: 0.9535 - recall_53: 0.9525 - recall_54: 0.9513 - recall_55: 0.9503 - recall_56: 0.9492 - recall_57: 0.9479 - recall_58: 0.9469 - recall_59: 0.9457 - recall_60: 0.9446 - recall_61: 0.9434 - recall_62: 0.9420 - recall_63: 0.9408 - recall_64: 0.9394 - recall_65: 0.9381 - recall_66: 0.9366 - recall_67: 0.9352 - recall_68: 0.9337 - recall_69: 0.9321 - recall_70: 0.9305 - recall_71: 0.9287 - recall_72: 0.9267 - recall_73: 0.9249 - recall_74: 0.9230 - recall_75: 0.9208 - recall_76: 0.9186 - recall_77: 0.9164 - recall_78: 0.9143 - recall_79: 0.9120 - recall_80: 0.9097 - recall_81: 0.9074 - recall_82: 0.9050 - recall_83: 0.9026 - recall_84: 0.9003 - recall_85: 0.8977 - recall_86: 0.8951 - recall_87: 0.8925 - recall_88: 0.8894 - recall_89: 0.8861 - recall_90: 0.8824 - recall_91: 0.8782 - recall_92: 0.8734 - recall_93: 0.8682 - recall_94: 0.8618 - recall_95: 0.8547 - recall_96: 0.8462 - recall_97: 0.8367 - recall_98: 0.8273 - recall_99: 0.8164 - precision: 0.5000 - precision_1: 0.7644 - precision_2: 0.7973 - precision_3: 0.8190 - precision_4: 0.8363 - precision_5: 0.8511 - precision_6: 0.8633 - precision_7: 0.8731 - precision_8: 0.8807 - precision_9: 0.8869 - precision_10: 0.8920 - precision_11: 0.8963 - precision_12: 0.9002 - precision_13: 0.9037 - precision_14: 0.9067 - precision_15: 0.9096 - precision_16: 0.9120 - precision_17: 0.9145 - precision_18: 0.9169 - precision_19: 0.9192 - precision_20: 0.9212 - precision_21: 0.9233 - precision_22: 0.9253 - precision_23: 0.9272 - precision_24: 0.9291 - precision_25: 0.9309 - precision_26: 0.9327 - precision_27: 0.9343 - precision_28: 0.9358 - precision_29: 0.9375 - precision_30: 0.9390 - precision_31: 0.9405 - precision_32: 0.9420 - precision_33: 0.9432 - precision_34: 0.9446 - precision_35: 0.9458 - precision_36: 0.9471 - precision_37: 0.9484 - precision_38: 0.9495 - precision_39: 0.9507 - precision_40: 0.9519 - precision_41: 0.9529 - precision_42: 0.9540 - precision_43: 0.9550 - precision_44: 0.9561 - precision_45: 0.9571 - precision_46: 0.9581 - precision_47: 0.9592 - precision_48: 0.9602 - precision_49: 0.9611 - precision_50: 0.9621 - precision_51: 0.9630 - precision_52: 0.9639 - precision_53: 0.9649 - precision_54: 0.9658 - precision_55: 0.9667 - precision_56: 0.9676 - precision_57: 0.9685 - precision_58: 0.9693 - precision_59: 0.9700 - precision_60: 0.9707 - precision_61: 0.9716 - precision_62: 0.9724 - precision_63: 0.9732 - precision_64: 0.9739 - precision_65: 0.9747 - precision_66: 0.9755 - precision_67: 0.9762 - precision_68: 0.9769 - precision_69: 0.9775 - precision_70: 0.9782 - precision_71: 0.9789 - precision_72: 0.9797 - precision_73: 0.9804 - precision_74: 0.9811 - precision_75: 0.9818 - precision_76: 0.9824 - precision_77: 0.9831 - precision_78: 0.9838 - precision_79: 0.9844 - precision_80: 0.9850 - precision_81: 0.9858 - precision_82: 0.9864 - precision_83: 0.9869 - precision_84: 0.9875 - precision_85: 0.9881 - precision_86: 0.9887 - precision_87: 0.9893 - precision_88: 0.9899 - precision_89: 0.9905 - precision_90: 0.9911 - precision_91: 0.9918 - precision_92: 0.9925 - precision_93: 0.9931 - precision_94: 0.9940 - precision_95: 0.9949 - precision_96: 0.9959 - precision_97: 0.9970 - precision_98: 0.9981 - precision_99: 0.9991 - val_loss: 0.0767 - val_accuracy: 0.9732 - val_recall: 1.0000 - val_recall_1: 0.9796 - val_recall_2: 0.9592 - val_recall_3: 0.9592 - val_recall_4: 0.9592 - val_recall_5: 0.9592 - val_recall_6: 0.9490 - val_recall_7: 0.9490 - val_recall_8: 0.9490 - val_recall_9: 0.9490 - val_recall_10: 0.9490 - val_recall_11: 0.9490 - val_recall_12: 0.9490 - val_recall_13: 0.9490 - val_recall_14: 0.9388 - val_recall_15: 0.9388 - val_recall_16: 0.9388 - val_recall_17: 0.9286 - val_recall_18: 0.9286 - val_recall_19: 0.9286 - val_recall_20: 0.9286 - val_recall_21: 0.9286 - val_recall_22: 0.9286 - val_recall_23: 0.9286 - val_recall_24: 0.9286 - val_recall_25: 0.9286 - val_recall_26: 0.9286 - val_recall_27: 0.9286 - val_recall_28: 0.9286 - val_recall_29: 0.9286 - val_recall_30: 0.9286 - val_recall_31: 0.9286 - val_recall_32: 0.9286 - val_recall_33: 0.9286 - val_recall_34: 0.9286 - val_recall_35: 0.9286 - val_recall_36: 0.9286 - val_recall_37: 0.9286 - val_recall_38: 0.9286 - val_recall_39: 0.9286 - val_recall_40: 0.9286 - val_recall_41: 0.9286 - val_recall_42: 0.9286 - val_recall_43: 0.9286 - val_recall_44: 0.9286 - val_recall_45: 0.9286 - val_recall_46: 0.9286 - val_recall_47: 0.9286 - val_recall_48: 0.9286 - val_recall_49: 0.9286 - val_recall_50: 0.9286 - val_recall_51: 0.9286 - val_recall_52: 0.9286 - val_recall_53: 0.9286 - val_recall_54: 0.9286 - val_recall_55: 0.9286 - val_recall_56: 0.9286 - val_recall_57: 0.9286 - val_recall_58: 0.9286 - val_recall_59: 0.9286 - val_recall_60: 0.9286 - val_recall_61: 0.9286 - val_recall_62: 0.9286 - val_recall_63: 0.9286 - val_recall_64: 0.9286 - val_recall_65: 0.9286 - val_recall_66: 0.9286 - val_recall_67: 0.9286 - val_recall_68: 0.9286 - val_recall_69: 0.9286 - val_recall_70: 0.9286 - val_recall_71: 0.9184 - val_recall_72: 0.9184 - val_recall_73: 0.9184 - val_recall_74: 0.9184 - val_recall_75: 0.9082 - val_recall_76: 0.9082 - val_recall_77: 0.9082 - val_recall_78: 0.9082 - val_recall_79: 0.9082 - val_recall_80: 0.8878 - val_recall_81: 0.8878 - val_recall_82: 0.8878 - val_recall_83: 0.8878 - val_recall_84: 0.8878 - val_recall_85: 0.8878 - val_recall_86: 0.8878 - val_recall_87: 0.8878 - val_recall_88: 0.8878 - val_recall_89: 0.8878 - val_recall_90: 0.8878 - val_recall_91: 0.8776 - val_recall_92: 0.8571 - val_recall_93: 0.8469 - val_recall_94: 0.8367 - val_recall_95: 0.8265 - val_recall_96: 0.8265 - val_recall_97: 0.8061 - val_recall_98: 0.8061 - val_recall_99: 0.7959 - val_precision: 0.5000 - val_precision_1: 0.7048 - val_precision_2: 0.7480 - val_precision_3: 0.7745 - val_precision_4: 0.7991 - val_precision_5: 0.8296 - val_precision_6: 0.8585 - val_precision_7: 0.8801 - val_precision_8: 0.8921 - val_precision_9: 0.8997 - val_precision_10: 0.9048 - val_precision_11: 0.9089 - val_precision_12: 0.9123 - val_precision_13: 0.9157 - val_precision_14: 0.9184 - val_precision_15: 0.9212 - val_precision_16: 0.9237 - val_precision_17: 0.9264 - val_precision_18: 0.9291 - val_precision_19: 0.9312 - val_precision_20: 0.9333 - val_precision_21: 0.9357 - val_precision_22: 0.9377 - val_precision_23: 0.9400 - val_precision_24: 0.9417 - val_precision_25: 0.9436 - val_precision_26: 0.9452 - val_precision_27: 0.9467 - val_precision_28: 0.9482 - val_precision_29: 0.9496 - val_precision_30: 0.9507 - val_precision_31: 0.9517 - val_precision_32: 0.9527 - val_precision_33: 0.9537 - val_precision_34: 0.9550 - val_precision_35: 0.9564 - val_precision_36: 0.9574 - val_precision_37: 0.9586 - val_precision_38: 0.9600 - val_precision_39: 0.9611 - val_precision_40: 0.9621 - val_precision_41: 0.9633 - val_precision_42: 0.9643 - val_precision_43: 0.9653 - val_precision_44: 0.9663 - val_precision_45: 0.9673 - val_precision_46: 0.9685 - val_precision_47: 0.9697 - val_precision_48: 0.9711 - val_precision_49: 0.9722 - val_precision_50: 0.9732 - val_precision_51: 0.9742 - val_precision_52: 0.9751 - val_precision_53: 0.9759 - val_precision_54: 0.9768 - val_precision_55: 0.9776 - val_precision_56: 0.9787 - val_precision_57: 0.9797 - val_precision_58: 0.9805 - val_precision_59: 0.9810 - val_precision_60: 0.9816 - val_precision_61: 0.9820 - val_precision_62: 0.9826 - val_precision_63: 0.9831 - val_precision_64: 0.9837 - val_precision_65: 0.9845 - val_precision_66: 0.9852 - val_precision_67: 0.9856 - val_precision_68: 0.9861 - val_precision_69: 0.9867 - val_precision_70: 0.9875 - val_precision_71: 0.9880 - val_precision_72: 0.9885 - val_precision_73: 0.9891 - val_precision_74: 0.9897 - val_precision_75: 0.9902 - val_precision_76: 0.9907 - val_precision_77: 0.9914 - val_precision_78: 0.9919 - val_precision_79: 0.9925 - val_precision_80: 0.9930 - val_precision_81: 0.9937 - val_precision_82: 0.9941 - val_precision_83: 0.9945 - val_precision_84: 0.9949 - val_precision_85: 0.9953 - val_precision_86: 0.9956 - val_precision_87: 0.9960 - val_precision_88: 0.9963 - val_precision_89: 0.9970 - val_precision_90: 0.9973 - val_precision_91: 0.9975 - val_precision_92: 0.9976 - val_precision_93: 0.9977 - val_precision_94: 0.9978 - val_precision_95: 0.9979 - val_precision_96: 0.9979 - val_precision_97: 0.9986 - val_precision_98: 0.9988 - val_precision_99: 0.9992\n"
          ]
        }
      ]
    },
    {
      "cell_type": "code",
      "source": [
        "keys =list( history.history.keys())\n",
        "keys"
      ],
      "metadata": {
        "id": "jYQ-FGRI8vVs"
      },
      "execution_count": null,
      "outputs": []
    },
    {
      "cell_type": "code",
      "source": [
        "recall = []\n",
        "precision = []\n",
        "for i in range(100):\n",
        "  recall.append(history.history[keys[i+2]][-1])\n",
        "  precision.append(history.history[keys[i+102]][-1])\n"
      ],
      "metadata": {
        "id": "kqz9SeHEMMJT"
      },
      "execution_count": 11,
      "outputs": []
    },
    {
      "cell_type": "code",
      "source": [
        "fig = plt.figure()\n",
        "plt.plot(np.arange(0,1,0.01), recall,'r')\n",
        "plt.plot(np.arange(0,1,0.01), precision,'b')\n",
        "plt.title('model recall precision')\n",
        "plt.ylabel('recall precision')\n",
        "plt.xlabel('threshold')\n",
        "plt.legend(['recall', 'precision'])\n",
        "plt.grid()"
      ],
      "metadata": {
        "colab": {
          "base_uri": "https://localhost:8080/",
          "height": 295
        },
        "id": "b2XKThDJ-YlI",
        "outputId": "bd8f7fb3-2742-479e-fb33-12d974e645c2"
      },
      "execution_count": 12,
      "outputs": [
        {
          "output_type": "display_data",
          "data": {
            "text/plain": [
              "<Figure size 432x288 with 1 Axes>"
            ],
            "image/png": "[encoded data removed]"
          },
          "metadata": {
            "needs_background": "light"
          }
        }
      ]
    },
    {
      "cell_type": "code",
      "source": [],
      "metadata": {
        "id": "3zPNJK4_FvhL"
      },
      "execution_count": null,
      "outputs": []
    },
    {
      "cell_type": "code",
      "source": [],
      "metadata": {
        "id": "4XG704dDFvTn"
      },
      "execution_count": null,
      "outputs": []
    },
    {
      "cell_type": "markdown",
      "source": [
        "**test evaluation**"
      ],
      "metadata": {
        "id": "vgf4B_rDFxQZ"
      }
    },
    {
      "cell_type": "code",
      "source": [
        "Y_pred = model.predict(X_test)\n",
        "y_pred = np.argmax(Y_pred, axis=1)\n",
        "y_test = np.argmax(Y_test, axis=1)"
      ],
      "metadata": {
        "colab": {
          "base_uri": "https://localhost:8080/"
        },
        "id": "qqguRv9TSkYM",
        "outputId": "60b75fb2-da33-41c5-8310-ebe16a6c645e"
      },
      "execution_count": 14,
      "outputs": [
        {
          "output_type": "stream",
          "name": "stdout",
          "text": [
            "1781/1781 [==============================] - 3s 1ms/step\n"
          ]
        }
      ]
    },
    {
      "cell_type": "code",
      "source": [
        "accuracy = accuracy_score(y_test, y_pred)\n",
        "print('Accuracy: %f' % accuracy)\n",
        "precision = precision_score(y_test, y_pred, average='macro')\n",
        "print('Precision: %f' % precision)\n",
        "recall = recall_score(y_test, y_pred, average='macro')\n",
        "print('Recall: %f' % recall)\n",
        "f1 = f1_score(y_test, y_pred, average='macro')\n",
        "print('F1 score: %f' % f1)\n",
        "fig = plt.figure()\n",
        "mat = confusion_matrix(y_test, y_pred , normalize=\"true\")\n",
        "sns.heatmap(mat, annot=True, cmap='Spectral')\n",
        "plt.title('model loss')"
      ],
      "metadata": {
        "colab": {
          "base_uri": "https://localhost:8080/",
          "height": 368
        },
        "id": "nq7YBs_QQNum",
        "outputId": "c9c7c704-0b69-480a-db43-f65fa3820ce9"
      },
      "execution_count": 19,
      "outputs": [
        {
          "output_type": "stream",
          "name": "stdout",
          "text": [
            "Accuracy: 0.965205\n",
            "Precision: 0.521037\n",
            "Recall: 0.926547\n",
            "F1 score: 0.531486\n"
          ]
        },
        {
          "output_type": "execute_result",
          "data": {
            "text/plain": [
              "Text(0.5, 1.0, 'model loss')"
            ]
          },
          "metadata": {},
          "execution_count": 19
        },
        {
          "output_type": "display_data",
          "data": {
            "text/plain": [
              "<Figure size 432x288 with 2 Axes>"
            ],
            "image/png": "[encoded data removed]"
          },
          "metadata": {
            "needs_background": "light"
          }
        }
      ]
    },
    {
      "cell_type": "code",
      "source": [],
      "metadata": {
        "id": "4-Yeo_ncI1xO"
      },
      "execution_count": null,
      "outputs": []
    },
    {
      "cell_type": "markdown",
      "source": [
        "**without autoencoder and resampling**"
      ],
      "metadata": {
        "id": "lXgoRE40GbQV"
      }
    },
    {
      "cell_type": "code",
      "source": [
        "data_frame = pd.read_csv(\"creditcard.csv\")"
      ],
      "metadata": {
        "id": "RzNL0NS2H8my"
      },
      "execution_count": 3,
      "outputs": []
    },
    {
      "cell_type": "code",
      "source": [
        "data_frame = data_frame.drop(['Time'], axis=1)\n",
        "Y = data_frame['Class']\n",
        "X = data_frame.drop(['Class'], axis=1)\n",
        "\n",
        "X['Amount'] = (X['Amount']-X['Amount'].mean())/ X['Amount'].std()\n",
        "\n",
        "X_train, X_test, y_train, y_test = train_test_split(X, Y, test_size=0.2, random_state=42)\n",
        "Y_train = np_utils.to_categorical(y_train)\n",
        "Y_test = np_utils.to_categorical(y_test)"
      ],
      "metadata": {
        "id": "nfHFDkfYIBGM"
      },
      "execution_count": 4,
      "outputs": []
    },
    {
      "cell_type": "code",
      "source": [
        "model = Sequential()\n",
        "model.add(Dense(22, activation=\"relu\",input_shape=(29,)))\n",
        "model.add(Dense(15, activation=\"relu\"))\n",
        "model.add(Dense(10, activation=\"relu\"))\n",
        "model.add(Dense(5, activation=\"relu\"))\n",
        "model.add(Dense(2, activation=\"softmax\"))\n",
        "model.compile(optimizer=Adam(learning_rate=0.0001), loss='categorical_crossentropy', metrics=['accuracy',[metrics.Recall(thresholds=x,class_id=1) for x in np.arange(0,1,0.01)],[metrics.Precision(thresholds=z) for z in np.arange(0,1,0.01)]])\n",
        "history = model.fit(X_train,Y_train,epochs=1,batch_size=512,shuffle=True,validation_data=(X_test,Y_test))"
      ],
      "metadata": {
        "colab": {
          "base_uri": "https://localhost:8080/"
        },
        "id": "vv1KFPGjGkMM",
        "outputId": "9417ef30-c9f7-4dcd-c1f3-755d7525c8a5"
      },
      "execution_count": 5,
      "outputs": [
        {
          "output_type": "stream",
          "name": "stdout",
          "text": [
            "446/446 [==============================] - 111s 150ms/step - loss: 0.2468 - accuracy: 0.9983 - recall: 1.0000 - recall_1: 0.7335 - recall_2: 0.6853 - recall_3: 0.6421 - recall_4: 0.5888 - recall_5: 0.5431 - recall_6: 0.5025 - recall_7: 0.4797 - recall_8: 0.4442 - recall_9: 0.4086 - recall_10: 0.3883 - recall_11: 0.3553 - recall_12: 0.3401 - recall_13: 0.3071 - recall_14: 0.2843 - recall_15: 0.2614 - recall_16: 0.2487 - recall_17: 0.2437 - recall_18: 0.2360 - recall_19: 0.2234 - recall_20: 0.2183 - recall_21: 0.2005 - recall_22: 0.1827 - recall_23: 0.1599 - recall_24: 0.1421 - recall_25: 0.1371 - recall_26: 0.1218 - recall_27: 0.1142 - recall_28: 0.1041 - recall_29: 0.0863 - recall_30: 0.0787 - recall_31: 0.0711 - recall_32: 0.0584 - recall_33: 0.0508 - recall_34: 0.0508 - recall_35: 0.0431 - recall_36: 0.0355 - recall_37: 0.0305 - recall_38: 0.0203 - recall_39: 0.0178 - recall_40: 0.0127 - recall_41: 0.0102 - recall_42: 0.0025 - recall_43: 0.0000e+00 - recall_44: 0.0000e+00 - recall_45: 0.0000e+00 - recall_46: 0.0000e+00 - recall_47: 0.0000e+00 - recall_48: 0.0000e+00 - recall_49: 0.0000e+00 - recall_50: 0.0000e+00 - recall_51: 0.0000e+00 - recall_52: 0.0000e+00 - recall_53: 0.0000e+00 - recall_54: 0.0000e+00 - recall_55: 0.0000e+00 - recall_56: 0.0000e+00 - recall_57: 0.0000e+00 - recall_58: 0.0000e+00 - recall_59: 0.0000e+00 - recall_60: 0.0000e+00 - recall_61: 0.0000e+00 - recall_62: 0.0000e+00 - recall_63: 0.0000e+00 - recall_64: 0.0000e+00 - recall_65: 0.0000e+00 - recall_66: 0.0000e+00 - recall_67: 0.0000e+00 - recall_68: 0.0000e+00 - recall_69: 0.0000e+00 - recall_70: 0.0000e+00 - recall_71: 0.0000e+00 - recall_72: 0.0000e+00 - recall_73: 0.0000e+00 - recall_74: 0.0000e+00 - recall_75: 0.0000e+00 - recall_76: 0.0000e+00 - recall_77: 0.0000e+00 - recall_78: 0.0000e+00 - recall_79: 0.0000e+00 - recall_80: 0.0000e+00 - recall_81: 0.0000e+00 - recall_82: 0.0000e+00 - recall_83: 0.0000e+00 - recall_84: 0.0000e+00 - recall_85: 0.0000e+00 - recall_86: 0.0000e+00 - recall_87: 0.0000e+00 - recall_88: 0.0000e+00 - recall_89: 0.0000e+00 - recall_90: 0.0000e+00 - recall_91: 0.0000e+00 - recall_92: 0.0000e+00 - recall_93: 0.0000e+00 - recall_94: 0.0000e+00 - recall_95: 0.0000e+00 - recall_96: 0.0000e+00 - recall_97: 0.0000e+00 - recall_98: 0.0000e+00 - recall_99: 0.0000e+00 - precision: 0.5000 - precision_1: 0.5057 - precision_2: 0.5105 - precision_3: 0.5161 - precision_4: 0.5227 - precision_5: 0.5299 - precision_6: 0.5377 - precision_7: 0.5460 - precision_8: 0.5544 - precision_9: 0.5632 - precision_10: 0.5720 - precision_11: 0.5810 - precision_12: 0.5901 - precision_13: 0.5992 - precision_14: 0.6084 - precision_15: 0.6181 - precision_16: 0.6279 - precision_17: 0.6379 - precision_18: 0.6479 - precision_19: 0.6578 - precision_20: 0.6682 - precision_21: 0.6791 - precision_22: 0.6898 - precision_23: 0.7007 - precision_24: 0.7120 - precision_25: 0.7237 - precision_26: 0.7358 - precision_27: 0.7480 - precision_28: 0.7611 - precision_29: 0.7748 - precision_30: 0.7889 - precision_31: 0.8040 - precision_32: 0.8192 - precision_33: 0.8352 - precision_34: 0.8514 - precision_35: 0.8680 - precision_36: 0.8852 - precision_37: 0.9024 - precision_38: 0.9197 - precision_39: 0.9361 - precision_40: 0.9512 - precision_41: 0.9650 - precision_42: 0.9763 - precision_43: 0.9847 - precision_44: 0.9909 - precision_45: 0.9948 - precision_46: 0.9970 - precision_47: 0.9979 - precision_48: 0.9982 - precision_49: 0.9983 - precision_50: 0.9983 - precision_51: 0.9983 - precision_52: 0.9983 - precision_53: 0.9983 - precision_54: 0.9983 - precision_55: 0.9983 - precision_56: 0.9983 - precision_57: 0.9982 - precision_58: 0.9982 - precision_59: 0.9982 - precision_60: 0.9982 - precision_61: 0.9982 - precision_62: 0.9981 - precision_63: 0.9981 - precision_64: 0.9981 - precision_65: 0.9981 - precision_66: 0.9980 - precision_67: 0.9980 - precision_68: 0.9979 - precision_69: 0.9979 - precision_70: 0.9978 - precision_71: 0.9978 - precision_72: 0.9977 - precision_73: 0.9977 - precision_74: 0.9976 - precision_75: 0.9976 - precision_76: 0.9975 - precision_77: 0.9975 - precision_78: 0.9974 - precision_79: 0.9974 - precision_80: 0.9973 - precision_81: 0.9972 - precision_82: 0.9971 - precision_83: 0.9970 - precision_84: 0.9968 - precision_85: 0.9967 - precision_86: 0.9965 - precision_87: 0.9964 - precision_88: 0.9963 - precision_89: 0.9960 - precision_90: 0.9958 - precision_91: 0.9955 - precision_92: 0.9951 - precision_93: 0.9947 - precision_94: 0.9939 - precision_95: 0.9931 - precision_96: 0.9919 - precision_97: 0.9903 - precision_98: 0.9870 - precision_99: 0.9802 - val_loss: 0.0759 - val_accuracy: 0.9983 - val_recall: 1.0000 - val_recall_1: 0.5408 - val_recall_2: 0.4286 - val_recall_3: 0.3367 - val_recall_4: 0.2245 - val_recall_5: 0.1735 - val_recall_6: 0.1633 - val_recall_7: 0.1429 - val_recall_8: 0.1122 - val_recall_9: 0.1122 - val_recall_10: 0.1122 - val_recall_11: 0.0510 - val_recall_12: 0.0408 - val_recall_13: 0.0306 - val_recall_14: 0.0204 - val_recall_15: 0.0204 - val_recall_16: 0.0102 - val_recall_17: 0.0102 - val_recall_18: 0.0102 - val_recall_19: 0.0102 - val_recall_20: 0.0102 - val_recall_21: 0.0102 - val_recall_22: 0.0000e+00 - val_recall_23: 0.0000e+00 - val_recall_24: 0.0000e+00 - val_recall_25: 0.0000e+00 - val_recall_26: 0.0000e+00 - val_recall_27: 0.0000e+00 - val_recall_28: 0.0000e+00 - val_recall_29: 0.0000e+00 - val_recall_30: 0.0000e+00 - val_recall_31: 0.0000e+00 - val_recall_32: 0.0000e+00 - val_recall_33: 0.0000e+00 - val_recall_34: 0.0000e+00 - val_recall_35: 0.0000e+00 - val_recall_36: 0.0000e+00 - val_recall_37: 0.0000e+00 - val_recall_38: 0.0000e+00 - val_recall_39: 0.0000e+00 - val_recall_40: 0.0000e+00 - val_recall_41: 0.0000e+00 - val_recall_42: 0.0000e+00 - val_recall_43: 0.0000e+00 - val_recall_44: 0.0000e+00 - val_recall_45: 0.0000e+00 - val_recall_46: 0.0000e+00 - val_recall_47: 0.0000e+00 - val_recall_48: 0.0000e+00 - val_recall_49: 0.0000e+00 - val_recall_50: 0.0000e+00 - val_recall_51: 0.0000e+00 - val_recall_52: 0.0000e+00 - val_recall_53: 0.0000e+00 - val_recall_54: 0.0000e+00 - val_recall_55: 0.0000e+00 - val_recall_56: 0.0000e+00 - val_recall_57: 0.0000e+00 - val_recall_58: 0.0000e+00 - val_recall_59: 0.0000e+00 - val_recall_60: 0.0000e+00 - val_recall_61: 0.0000e+00 - val_recall_62: 0.0000e+00 - val_recall_63: 0.0000e+00 - val_recall_64: 0.0000e+00 - val_recall_65: 0.0000e+00 - val_recall_66: 0.0000e+00 - val_recall_67: 0.0000e+00 - val_recall_68: 0.0000e+00 - val_recall_69: 0.0000e+00 - val_recall_70: 0.0000e+00 - val_recall_71: 0.0000e+00 - val_recall_72: 0.0000e+00 - val_recall_73: 0.0000e+00 - val_recall_74: 0.0000e+00 - val_recall_75: 0.0000e+00 - val_recall_76: 0.0000e+00 - val_recall_77: 0.0000e+00 - val_recall_78: 0.0000e+00 - val_recall_79: 0.0000e+00 - val_recall_80: 0.0000e+00 - val_recall_81: 0.0000e+00 - val_recall_82: 0.0000e+00 - val_recall_83: 0.0000e+00 - val_recall_84: 0.0000e+00 - val_recall_85: 0.0000e+00 - val_recall_86: 0.0000e+00 - val_recall_87: 0.0000e+00 - val_recall_88: 0.0000e+00 - val_recall_89: 0.0000e+00 - val_recall_90: 0.0000e+00 - val_recall_91: 0.0000e+00 - val_recall_92: 0.0000e+00 - val_recall_93: 0.0000e+00 - val_recall_94: 0.0000e+00 - val_recall_95: 0.0000e+00 - val_recall_96: 0.0000e+00 - val_recall_97: 0.0000e+00 - val_recall_98: 0.0000e+00 - val_recall_99: 0.0000e+00 - val_precision: 0.5000 - val_precision_1: 0.5244 - val_precision_2: 0.5512 - val_precision_3: 0.5831 - val_precision_4: 0.6210 - val_precision_5: 0.6608 - val_precision_6: 0.7016 - val_precision_7: 0.7384 - val_precision_8: 0.7776 - val_precision_9: 0.8105 - val_precision_10: 0.8405 - val_precision_11: 0.8685 - val_precision_12: 0.8925 - val_precision_13: 0.9155 - val_precision_14: 0.9346 - val_precision_15: 0.9492 - val_precision_16: 0.9605 - val_precision_17: 0.9705 - val_precision_18: 0.9782 - val_precision_19: 0.9837 - val_precision_20: 0.9878 - val_precision_21: 0.9909 - val_precision_22: 0.9932 - val_precision_23: 0.9948 - val_precision_24: 0.9958 - val_precision_25: 0.9968 - val_precision_26: 0.9973 - val_precision_27: 0.9977 - val_precision_28: 0.9979 - val_precision_29: 0.9981 - val_precision_30: 0.9982 - val_precision_31: 0.9982 - val_precision_32: 0.9983 - val_precision_33: 0.9983 - val_precision_34: 0.9983 - val_precision_35: 0.9983 - val_precision_36: 0.9983 - val_precision_37: 0.9983 - val_precision_38: 0.9983 - val_precision_39: 0.9983 - val_precision_40: 0.9983 - val_precision_41: 0.9983 - val_precision_42: 0.9983 - val_precision_43: 0.9983 - val_precision_44: 0.9983 - val_precision_45: 0.9983 - val_precision_46: 0.9983 - val_precision_47: 0.9983 - val_precision_48: 0.9983 - val_precision_49: 0.9983 - val_precision_50: 0.9983 - val_precision_51: 0.9983 - val_precision_52: 0.9983 - val_precision_53: 0.9983 - val_precision_54: 0.9983 - val_precision_55: 0.9983 - val_precision_56: 0.9983 - val_precision_57: 0.9983 - val_precision_58: 0.9983 - val_precision_59: 0.9983 - val_precision_60: 0.9983 - val_precision_61: 0.9983 - val_precision_62: 0.9983 - val_precision_63: 0.9983 - val_precision_64: 0.9983 - val_precision_65: 0.9983 - val_precision_66: 0.9983 - val_precision_67: 0.9983 - val_precision_68: 0.9983 - val_precision_69: 0.9983 - val_precision_70: 0.9983 - val_precision_71: 0.9983 - val_precision_72: 0.9983 - val_precision_73: 0.9983 - val_precision_74: 0.9983 - val_precision_75: 0.9983 - val_precision_76: 0.9983 - val_precision_77: 0.9983 - val_precision_78: 0.9983 - val_precision_79: 0.9983 - val_precision_80: 0.9983 - val_precision_81: 0.9983 - val_precision_82: 0.9983 - val_precision_83: 0.9982 - val_precision_84: 0.9982 - val_precision_85: 0.9982 - val_precision_86: 0.9982 - val_precision_87: 0.9982 - val_precision_88: 0.9981 - val_precision_89: 0.9981 - val_precision_90: 0.9981 - val_precision_91: 0.9980 - val_precision_92: 0.9979 - val_precision_93: 0.9977 - val_precision_94: 0.9975 - val_precision_95: 0.9971 - val_precision_96: 0.9966 - val_precision_97: 0.9960 - val_precision_98: 0.9948 - val_precision_99: 0.9916\n"
          ]
        }
      ]
    },
    {
      "cell_type": "code",
      "source": [],
      "metadata": {
        "id": "ioHFbjZhVfnS"
      },
      "execution_count": null,
      "outputs": []
    },
    {
      "cell_type": "code",
      "source": [],
      "metadata": {
        "id": "yIjyCdh9Vfaf"
      },
      "execution_count": null,
      "outputs": []
    },
    {
      "cell_type": "code",
      "source": [
        "keys =list( history.history.keys())\n",
        "recall = []\n",
        "precision = []\n",
        "for i in range(100):\n",
        "  recall.append(history.history[keys[i+2]][-1])\n",
        "  precision.append(history.history[keys[i+102]][-1])\n",
        "\n",
        "fig = plt.figure()\n",
        "plt.plot(np.arange(0,1,0.01), recall,'r')\n",
        "plt.plot(np.arange(0,1,0.01), precision,'b')\n",
        "plt.title('model recall precision')\n",
        "plt.ylabel('recall precision')\n",
        "plt.xlabel('threshold')\n",
        "plt.legend(['recall', 'precision'])\n",
        "plt.grid()"
      ],
      "metadata": {
        "colab": {
          "base_uri": "https://localhost:8080/",
          "height": 295
        },
        "id": "GpTFAyWeGkvj",
        "outputId": "5c880900-6737-487b-ff79-7fd27387caef"
      },
      "execution_count": 6,
      "outputs": [
        {
          "output_type": "display_data",
          "data": {
            "text/plain": [
              "<Figure size 432x288 with 1 Axes>"
            ],
            "image/png": "[encoded data removed]"
          },
          "metadata": {
            "needs_background": "light"
          }
        }
      ]
    },
    {
      "cell_type": "code",
      "source": [
        "Y_pred = model.predict(X_test)\n",
        "y_pred = np.argmax(Y_pred, axis=1)\n",
        "y_test = np.argmax(Y_test, axis=1)\n",
        "\n",
        "accuracy = accuracy_score(y_test, y_pred)\n",
        "print('Accuracy: %f' % accuracy)\n",
        "precision = precision_score(y_test, y_pred, average='macro')\n",
        "print('Precision: %f' % precision)\n",
        "recall = recall_score(y_test, y_pred, average='macro')\n",
        "print('Recall: %f' % recall)\n",
        "f1 = f1_score(y_test, y_pred, average='macro')\n",
        "print('F1 score: %f' % f1)\n",
        "\n",
        "fig = plt.figure()\n",
        "mat = confusion_matrix(y_test, y_pred, normalize=\"true\")\n",
        "sns.heatmap(mat, annot=True, cmap='Spectral')\n",
        "plt.title('model loss')"
      ],
      "metadata": {
        "colab": {
          "base_uri": "https://localhost:8080/",
          "height": 440
        },
        "id": "V94e55vPGktO",
        "outputId": "5693e41c-6148-4ae6-806e-07c1527e917b"
      },
      "execution_count": 7,
      "outputs": [
        {
          "output_type": "stream",
          "name": "stdout",
          "text": [
            "1781/1781 [==============================] - 3s 2ms/step\n",
            "Accuracy: 0.998280\n",
            "Precision: 0.499140\n",
            "Recall: 0.500000\n",
            "F1 score: 0.499570\n"
          ]
        },
        {
          "output_type": "stream",
          "name": "stderr",
          "text": [
            "/usr/local/lib/python3.8/dist-packages/sklearn/metrics/_classification.py:1318: UndefinedMetricWarning: Precision is ill-defined and being set to 0.0 in labels with no predicted samples. Use `zero_division` parameter to control this behavior.\n",
            "  _warn_prf(average, modifier, msg_start, len(result))\n"
          ]
        },
        {
          "output_type": "execute_result",
          "data": {
            "text/plain": [
              "Text(0.5, 1.0, 'model loss')"
            ]
          },
          "metadata": {},
          "execution_count": 7
        },
        {
          "output_type": "display_data",
          "data": {
            "text/plain": [
              "<Figure size 432x288 with 2 Axes>"
            ],
            "image/png": "[encoded data removed]"
          },
          "metadata": {
            "needs_background": "light"
          }
        }
      ]
    },
    {
      "cell_type": "code",
      "source": [],
      "metadata": {
        "id": "k7rff17oJCUc"
      },
      "execution_count": 133,
      "outputs": []
    }
  ]
}