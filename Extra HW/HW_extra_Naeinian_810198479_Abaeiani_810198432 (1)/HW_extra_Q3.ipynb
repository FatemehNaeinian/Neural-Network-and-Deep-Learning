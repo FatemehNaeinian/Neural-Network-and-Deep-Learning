{
  "nbformat": 4,
  "nbformat_minor": 0,
  "metadata": {
    "colab": {
      "provenance": []
    },
    "kernelspec": {
      "name": "python3",
      "display_name": "Python 3"
    },
    "language_info": {
      "name": "python"
    },
    "accelerator": "GPU",
    "gpuClass": "standard"
  },
  "cells": [
    {
      "cell_type": "code",
      "execution_count": 1,
      "metadata": {
        "colab": {
          "base_uri": "https://localhost:8080/"
        },
        "id": "EWXUuLb-pzTP",
        "outputId": "80e64b0a-60d1-4333-8c0b-42c2a5b559b3"
      },
      "outputs": [
        {
          "output_type": "stream",
          "name": "stdout",
          "text": [
            "Archive:  HODA.zip\n",
            "  inflating: Train 60000.cdb         \n",
            "  inflating: RemainingSamples.cdb    \n",
            "  inflating: Test 20000.cdb          \n"
          ]
        }
      ],
      "source": [
        "!unzip HODA.zip"
      ]
    },
    {
      "cell_type": "code",
      "source": [
        "!pip install pure-cdb"
      ],
      "metadata": {
        "colab": {
          "base_uri": "https://localhost:8080/"
        },
        "id": "mZtYslqrquSI",
        "outputId": "6f6da284-aa73-4975-eb2e-c499dbf18127"
      },
      "execution_count": 2,
      "outputs": [
        {
          "output_type": "stream",
          "name": "stdout",
          "text": [
            "Looking in indexes: https://pypi.org/simple, https://us-python.pkg.dev/colab-wheels/public/simple/\n",
            "Collecting pure-cdb\n",
            "  Downloading pure_cdb-4.0.0-cp38-cp38-manylinux_2_5_x86_64.manylinux1_x86_64.manylinux_2_17_x86_64.manylinux2014_x86_64.whl (18 kB)\n",
            "Installing collected packages: pure-cdb\n",
            "Successfully installed pure-cdb-4.0.0\n"
          ]
        }
      ]
    },
    {
      "cell_type": "code",
      "source": [
        "import struct\n",
        "import numpy as np\n",
        "import cv2\n",
        "import tensorflow as tf\n",
        "from tensorflow import keras\n",
        "import keras\n",
        "import tensorflow.keras as keras\n",
        "from keras.models import Sequential\n",
        "from keras.layers import BatchNormalization, SeparableConv2D, MaxPooling2D, Activation, Flatten, Dropout, Dense\n",
        "from keras.optimizers import Adam\n",
        "import matplotlib.pyplot as plt\n",
        "from sklearn.metrics import precision_score , recall_score, f1_score, accuracy_score\n",
        "from sklearn.metrics import accuracy_score, confusion_matrix, classification_report\n",
        "import seaborn as sns\n",
        "from keras.optimizers import SGD,Adam,Adadelta\n"
      ],
      "metadata": {
        "id": "g7r8mY38qvgt"
      },
      "execution_count": 3,
      "outputs": []
    },
    {
      "cell_type": "code",
      "source": [
        "def __convert_to_one_hot(vector, num_classes):\n",
        "    result = np.zeros(shape=[len(vector), num_classes])\n",
        "    result[np.arange(len(vector)), vector] = 1\n",
        "    return result\n",
        "\n",
        "\n",
        "def __resize_image(src_image, dst_image_height, dst_image_width):\n",
        "    src_image_height = src_image.shape[0]\n",
        "    src_image_width = src_image.shape[1]\n",
        "\n",
        "    if src_image_height > dst_image_height or src_image_width > dst_image_width:\n",
        "        height_scale = dst_image_height / src_image_height\n",
        "        width_scale = dst_image_width / src_image_width\n",
        "        scale = min(height_scale, width_scale)\n",
        "        img = cv2.resize(src=src_image, dsize=(0, 0), fx=scale, fy=scale, interpolation=cv2.INTER_CUBIC)\n",
        "    else:\n",
        "        img = src_image\n",
        "\n",
        "    img_height = img.shape[0]\n",
        "    img_width = img.shape[1]\n",
        "\n",
        "    dst_image = np.zeros(shape=[dst_image_height, dst_image_width], dtype=np.uint8)\n",
        "\n",
        "    y_offset = (dst_image_height - img_height) // 2\n",
        "    x_offset = (dst_image_width - img_width) // 2\n",
        "\n",
        "    dst_image[y_offset:y_offset+img_height, x_offset:x_offset+img_width] = img\n",
        "\n",
        "    return dst_image\n",
        "\n"
      ],
      "metadata": {
        "id": "XOP4GalgqvdM"
      },
      "execution_count": 4,
      "outputs": []
    },
    {
      "cell_type": "code",
      "source": [
        "\n",
        "def read_hoda_cdb(file_name):\n",
        "    with open(file_name, 'rb') as binary_file:\n",
        "\n",
        "        data = binary_file.read()\n",
        "\n",
        "        offset = 0\n",
        "\n",
        "        yy = struct.unpack_from('H', data, offset)[0]\n",
        "        offset += 2\n",
        "\n",
        "        m = struct.unpack_from('B', data, offset)[0]\n",
        "        offset += 1\n",
        "\n",
        "        d = struct.unpack_from('B', data, offset)[0]\n",
        "        offset += 1\n",
        "\n",
        "        H = struct.unpack_from('B', data, offset)[0]\n",
        "        offset += 1\n",
        "\n",
        "        W = struct.unpack_from('B', data, offset)[0]\n",
        "        offset += 1\n",
        "\n",
        "        TotalRec = struct.unpack_from('I', data, offset)[0]\n",
        "        offset += 4\n",
        "\n",
        "        LetterCount = struct.unpack_from('128I', data, offset)\n",
        "        offset += 128 * 4\n",
        "\n",
        "        imgType = struct.unpack_from('B', data, offset)[0] \n",
        "        offset += 1\n",
        "\n",
        "        Comments = struct.unpack_from('256c', data, offset)\n",
        "        offset += 256 * 1\n",
        "\n",
        "        Reserved = struct.unpack_from('245c', data, offset)\n",
        "        offset += 245 * 1\n",
        "\n",
        "        if (W > 0) and (H > 0):\n",
        "            normal = True\n",
        "        else:\n",
        "            normal = False\n",
        "\n",
        "        images = []\n",
        "        labels = []\n",
        "\n",
        "        for i in range(TotalRec):\n",
        "\n",
        "            StartByte = struct.unpack_from('B', data, offset)[0]  # must be 0xff\n",
        "            offset += 1\n",
        "\n",
        "            label = struct.unpack_from('B', data, offset)[0]\n",
        "            offset += 1\n",
        "\n",
        "            if not normal:\n",
        "                W = struct.unpack_from('B', data, offset)[0]\n",
        "                offset += 1\n",
        "\n",
        "                H = struct.unpack_from('B', data, offset)[0]\n",
        "                offset += 1\n",
        "\n",
        "            ByteCount = struct.unpack_from('H', data, offset)[0]\n",
        "            offset += 2\n",
        "\n",
        "            image = np.zeros(shape=[H, W], dtype=np.uint8)\n",
        "\n",
        "            if imgType == 0:\n",
        "                # Binary\n",
        "                for y in range(H):\n",
        "                    bWhite = True\n",
        "                    counter = 0\n",
        "                    while counter < W:\n",
        "                        WBcount = struct.unpack_from('B', data, offset)[0]\n",
        "                        offset += 1\n",
        "                        if bWhite:\n",
        "                            image[y, counter:counter + WBcount] = 0  \n",
        "                        else:\n",
        "                            image[y, counter:counter + WBcount] = 255  \n",
        "                        bWhite = not bWhite  \n",
        "                        counter += WBcount\n",
        "            else:\n",
        "                data = struct.unpack_from('{}B'.format(W * H), data, offset)\n",
        "                offset += W * H\n",
        "                image = np.asarray(data, dtype=np.uint8).reshape([W, H]).T\n",
        "\n",
        "            images.append(image)\n",
        "            labels.append(label)\n",
        "\n",
        "        return images, labels\n"
      ],
      "metadata": {
        "id": "5uFQ3tsyqvad"
      },
      "execution_count": 5,
      "outputs": []
    },
    {
      "cell_type": "code",
      "source": [
        "def read_hoda_dataset(dataset_path, images_height=40, images_width=40, one_hot=True, reshape=False):\n",
        "    images, labels = read_hoda_cdb(dataset_path)\n",
        "    assert len(images) == len(labels)\n",
        "\n",
        "    X = np.zeros(shape=[len(images), images_height, images_width], dtype=np.float32)\n",
        "    Y = np.zeros(shape=[len(labels)], dtype=np.int)\n",
        "\n",
        "    for i in range(len(images)):\n",
        "        image = images[i]\n",
        "        # Image resizing.\n",
        "        image = __resize_image(src_image=image, dst_image_height=images_height, dst_image_width=images_width)\n",
        "        # Image normalization.\n",
        "        image = image / 255\n",
        "        # Image binarization.\n",
        "        image = np.where(image >= 0.5, 1, 0)\n",
        "        # Image.\n",
        "        X[i] = image\n",
        "        # Label.\n",
        "        Y[i] = labels[i]\n",
        "\n",
        "    if one_hot:\n",
        "        Y = __convert_to_one_hot(Y, 10).astype(dtype=np.float32)\n",
        "    else:\n",
        "        Y = Y.astype(dtype=np.float32)\n",
        "\n",
        "    if reshape:\n",
        "        X = X.reshape(-1, images_height * images_width)\n",
        "    else:\n",
        "        X = X.reshape(-1, images_height, images_width, 1)\n",
        "\n",
        "    return X, Y"
      ],
      "metadata": {
        "id": "sp7_0G3wqvX5"
      },
      "execution_count": 6,
      "outputs": []
    },
    {
      "cell_type": "code",
      "source": [
        "def accuracy_plot(history):\n",
        "  fig = plt.figure()\n",
        "  plt.plot(history.history['accuracy'],'r')\n",
        "  plt.plot(history.history['val_accuracy'],'b')\n",
        "  plt.title('model accuracy')\n",
        "  plt.ylabel('accuracy')\n",
        "  plt.xlabel('epoch')\n",
        "  plt.legend(['train', 'validation'])\n",
        "  plt.grid()\n",
        "\n",
        "def loss_plot(history):\n",
        "  fig = plt.figure()\n",
        "  plt.plot(history.history['loss'],'r')\n",
        "  plt.plot(history.history['val_loss'],'b')\n",
        "  plt.title('model loss')\n",
        "  plt.ylabel('loss')\n",
        "  plt.xlabel('epoch')\n",
        "  plt.legend(['train', 'validation'])\n",
        "  plt.grid()\n",
        "\n",
        "def report(model , x_test , y_test ):\n",
        "  Y_pred = model.predict(x_test)\n",
        "  y_pred = np.argmax(Y_pred, axis=1)\n",
        "  Y_test = np.argmax(y_test, axis=1)\n",
        "\n",
        "  test_loss,test_accuracy = model.evaluate(x_test,y_test)\n",
        "  print('test loss = %f' % test_loss)\n",
        "  print('test accuracy = %f' % test_accuracy)\n",
        "  accuracy = accuracy_score(Y_test, y_pred)\n",
        "  print('Accuracy: %f' % accuracy)\n",
        "  precision = precision_score(Y_test, y_pred, average='macro')\n",
        "  print('Precision: %f' % precision)\n",
        "  recall = recall_score(Y_test, y_pred, average='macro')\n",
        "  print('Recall: %f' % recall)\n",
        "  f1 = f1_score(Y_test, y_pred, average='macro')\n",
        "  print('F1 score: %f' % f1)\n",
        "\n",
        "  fig = plt.figure()\n",
        "  print(classification_report(Y_test, y_pred))\n",
        "  mat = confusion_matrix(Y_test, y_pred, normalize=\"true\")\n",
        "  sns.heatmap(mat, annot=True, cmap='Spectral')\n",
        "  plt.title('model loss')"
      ],
      "metadata": {
        "id": "IB5XkCDRwmgF"
      },
      "execution_count": 7,
      "outputs": []
    },
    {
      "cell_type": "code",
      "source": [
        "def model_dcnn():\n",
        "  model = Sequential()\n",
        "  model.add(SeparableConv2D(64, (3, 3), padding=\"same\", input_shape=(40,40,1)))\n",
        "  model.add(Activation(\"relu\"))\n",
        "  model.add(BatchNormalization(axis=1))\n",
        "  model.add(MaxPooling2D(pool_size=(3, 3),strides = (2,2)))\n",
        "  model.add(Dropout(0.1))\n",
        "  model.add(SeparableConv2D(128, (3, 3), padding=\"same\"))\n",
        "  model.add(Activation(\"relu\"))\n",
        "  model.add(BatchNormalization(axis=1))\n",
        "  model.add(SeparableConv2D(128, (3, 3), padding=\"same\"))\n",
        "  model.add(Activation(\"relu\"))\n",
        "  model.add(BatchNormalization(axis=1))\n",
        "  model.add(MaxPooling2D(pool_size=(3, 3),strides = (2,2)))\n",
        "  model.add(Dropout(0.2))\n",
        "  model.add(SeparableConv2D(256, (3, 3), padding=\"same\"))\n",
        "  model.add(Activation(\"relu\"))\n",
        "  model.add(BatchNormalization(axis=1))\n",
        "  model.add(SeparableConv2D(256, (3, 3), padding=\"same\"))\n",
        "  model.add(Activation(\"relu\"))\n",
        "  model.add(BatchNormalization(axis=1))\n",
        "  model.add(MaxPooling2D(pool_size=(3, 3),strides = (2,2)))\n",
        "  model.add(Dropout(0.3))\n",
        "  model.add(SeparableConv2D(512, (3, 3), padding=\"same\"))\n",
        "  model.add(Activation(\"relu\"))\n",
        "  model.add(BatchNormalization(axis=1))\n",
        "  model.add(SeparableConv2D(512, (3, 3), padding=\"same\"))\n",
        "  model.add(BatchNormalization(axis=1))\n",
        "  model.add(MaxPooling2D(pool_size=(3, 3),strides = (2,2)))\n",
        "  model.add(Dropout(0.4))\n",
        "  model.add(Flatten())\n",
        "  model.add(Dense(1024, activation=\"relu\"))\n",
        "  model.add(BatchNormalization(axis=1))\n",
        "  model.add(Dropout(0.5))\n",
        "  model.add(Dense(10,activation=\"softmax\"))\n",
        "  return model"
      ],
      "metadata": {
        "id": "WKL9sB8QqvQh"
      },
      "execution_count": 8,
      "outputs": []
    },
    {
      "cell_type": "code",
      "source": [
        "x_train,y_train = read_hoda_dataset(\"Train 60000.cdb\")\n",
        "x_test,y_test = read_hoda_dataset(\"Test 20000.cdb\")\n"
      ],
      "metadata": {
        "colab": {
          "base_uri": "https://localhost:8080/"
        },
        "id": "7ZtoCSIGqvVW",
        "outputId": "8b221e1e-fc1a-4ebb-d951-12dc1cc6aafe"
      },
      "execution_count": 9,
      "outputs": [
        {
          "output_type": "stream",
          "name": "stderr",
          "text": [
            "<ipython-input-6-73b3085cdfce>:6: DeprecationWarning: `np.int` is a deprecated alias for the builtin `int`. To silence this warning, use `int` by itself. Doing this will not modify any behavior and is safe. When replacing `np.int`, you may wish to use e.g. `np.int64` or `np.int32` to specify the precision. If you wish to review your current use, check the release note link for additional information.\n",
            "Deprecated in NumPy 1.20; for more details and guidance: https://numpy.org/devdocs/release/1.20.0-notes.html#deprecations\n",
            "  Y = np.zeros(shape=[len(labels)], dtype=np.int)\n"
          ]
        }
      ]
    },
    {
      "cell_type": "code",
      "source": [
        "x_train = np.array(x_train)\n",
        "y_train = np.array(y_train)\n",
        "x_test = np.array(x_test)\n",
        "y_test = np.array(y_test)\n",
        "x_train.shape"
      ],
      "metadata": {
        "colab": {
          "base_uri": "https://localhost:8080/"
        },
        "id": "JTOAnttDqvSz",
        "outputId": "43ea0060-4b86-4313-d596-134ec8194edd"
      },
      "execution_count": 10,
      "outputs": [
        {
          "output_type": "execute_result",
          "data": {
            "text/plain": [
              "(60000, 40, 40, 1)"
            ]
          },
          "metadata": {},
          "execution_count": 10
        }
      ]
    },
    {
      "cell_type": "markdown",
      "source": [
        "# **ADAM**"
      ],
      "metadata": {
        "id": "e831pE851Prd"
      }
    },
    {
      "cell_type": "code",
      "source": [
        "model_adm = model_dcnn()\n",
        "model_adm.compile(\"Adam\", loss='categorical_crossentropy', metrics=['accuracy'])\n",
        "history1 = model_adm.fit(x_train, y_train, epochs=100, batch_size=128, validation_data=(x_test, y_test))"
      ],
      "metadata": {
        "colab": {
          "base_uri": "https://localhost:8080/"
        },
        "id": "XfXbTQOvu9_5",
        "outputId": "7e342b69-3df7-4c4e-f9ac-a4e79b3750df"
      },
      "execution_count": 43,
      "outputs": [
        {
          "output_type": "stream",
          "name": "stdout",
          "text": [
            "Epoch 1/100\n",
            "469/469 [==============================] - 22s 43ms/step - loss: 0.2738 - accuracy: 0.9189 - val_loss: 7.1242 - val_accuracy: 0.1447\n",
            "Epoch 2/100\n",
            "469/469 [==============================] - 20s 43ms/step - loss: 0.0457 - accuracy: 0.9866 - val_loss: 0.0521 - val_accuracy: 0.9851\n",
            "Epoch 3/100\n",
            "469/469 [==============================] - 23s 48ms/step - loss: 0.0300 - accuracy: 0.9902 - val_loss: 0.0288 - val_accuracy: 0.9918\n",
            "Epoch 4/100\n",
            "469/469 [==============================] - 20s 43ms/step - loss: 0.0262 - accuracy: 0.9920 - val_loss: 0.0335 - val_accuracy: 0.9911\n",
            "Epoch 5/100\n",
            "469/469 [==============================] - 20s 43ms/step - loss: 0.0226 - accuracy: 0.9931 - val_loss: 0.0263 - val_accuracy: 0.9922\n",
            "Epoch 6/100\n",
            "469/469 [==============================] - 21s 44ms/step - loss: 0.0191 - accuracy: 0.9944 - val_loss: 0.0242 - val_accuracy: 0.9934\n",
            "Epoch 7/100\n",
            "469/469 [==============================] - 22s 46ms/step - loss: 0.0179 - accuracy: 0.9944 - val_loss: 0.0404 - val_accuracy: 0.9900\n",
            "Epoch 8/100\n",
            "469/469 [==============================] - 20s 43ms/step - loss: 0.0168 - accuracy: 0.9947 - val_loss: 0.0317 - val_accuracy: 0.9921\n",
            "Epoch 9/100\n",
            "469/469 [==============================] - 20s 43ms/step - loss: 0.0155 - accuracy: 0.9951 - val_loss: 0.0333 - val_accuracy: 0.9917\n",
            "Epoch 10/100\n",
            "469/469 [==============================] - 22s 47ms/step - loss: 0.0149 - accuracy: 0.9957 - val_loss: 0.0186 - val_accuracy: 0.9950\n",
            "Epoch 11/100\n",
            "469/469 [==============================] - 20s 43ms/step - loss: 0.0128 - accuracy: 0.9960 - val_loss: 0.0176 - val_accuracy: 0.9952\n",
            "Epoch 12/100\n",
            "469/469 [==============================] - 20s 43ms/step - loss: 0.0128 - accuracy: 0.9961 - val_loss: 0.0258 - val_accuracy: 0.9937\n",
            "Epoch 13/100\n",
            "469/469 [==============================] - 20s 43ms/step - loss: 0.0133 - accuracy: 0.9962 - val_loss: 0.0486 - val_accuracy: 0.9872\n",
            "Epoch 14/100\n",
            "469/469 [==============================] - 20s 43ms/step - loss: 0.0117 - accuracy: 0.9965 - val_loss: 0.0253 - val_accuracy: 0.9948\n",
            "Epoch 15/100\n",
            "469/469 [==============================] - 20s 43ms/step - loss: 0.0122 - accuracy: 0.9964 - val_loss: 0.0259 - val_accuracy: 0.9940\n",
            "Epoch 16/100\n",
            "469/469 [==============================] - 20s 43ms/step - loss: 0.0105 - accuracy: 0.9968 - val_loss: 0.0450 - val_accuracy: 0.9909\n",
            "Epoch 17/100\n",
            "469/469 [==============================] - 21s 45ms/step - loss: 0.0098 - accuracy: 0.9972 - val_loss: 0.0197 - val_accuracy: 0.9951\n",
            "Epoch 18/100\n",
            "469/469 [==============================] - 20s 43ms/step - loss: 0.0104 - accuracy: 0.9969 - val_loss: 0.0228 - val_accuracy: 0.9948\n",
            "Epoch 19/100\n",
            "469/469 [==============================] - 20s 43ms/step - loss: 0.0089 - accuracy: 0.9975 - val_loss: 0.0219 - val_accuracy: 0.9947\n",
            "Epoch 20/100\n",
            "469/469 [==============================] - 20s 43ms/step - loss: 0.0088 - accuracy: 0.9971 - val_loss: 0.0204 - val_accuracy: 0.9959\n",
            "Epoch 21/100\n",
            "469/469 [==============================] - 21s 44ms/step - loss: 0.0075 - accuracy: 0.9979 - val_loss: 0.0291 - val_accuracy: 0.9944\n",
            "Epoch 22/100\n",
            "469/469 [==============================] - 20s 43ms/step - loss: 0.0079 - accuracy: 0.9976 - val_loss: 0.0288 - val_accuracy: 0.9944\n",
            "Epoch 23/100\n",
            "469/469 [==============================] - 20s 43ms/step - loss: 0.0082 - accuracy: 0.9976 - val_loss: 0.0383 - val_accuracy: 0.9930\n",
            "Epoch 24/100\n",
            "469/469 [==============================] - 20s 43ms/step - loss: 0.0080 - accuracy: 0.9977 - val_loss: 0.0243 - val_accuracy: 0.9956\n",
            "Epoch 25/100\n",
            "469/469 [==============================] - 20s 43ms/step - loss: 0.0053 - accuracy: 0.9983 - val_loss: 0.0416 - val_accuracy: 0.9911\n",
            "Epoch 26/100\n",
            "469/469 [==============================] - 20s 43ms/step - loss: 0.0074 - accuracy: 0.9978 - val_loss: 0.0268 - val_accuracy: 0.9942\n",
            "Epoch 27/100\n",
            "469/469 [==============================] - 20s 43ms/step - loss: 0.0065 - accuracy: 0.9980 - val_loss: 0.0269 - val_accuracy: 0.9948\n",
            "Epoch 28/100\n",
            "469/469 [==============================] - 20s 43ms/step - loss: 0.0074 - accuracy: 0.9978 - val_loss: 0.0237 - val_accuracy: 0.9957\n",
            "Epoch 29/100\n",
            "469/469 [==============================] - 20s 42ms/step - loss: 0.0060 - accuracy: 0.9982 - val_loss: 0.0228 - val_accuracy: 0.9954\n",
            "Epoch 30/100\n",
            "469/469 [==============================] - 20s 43ms/step - loss: 0.0061 - accuracy: 0.9982 - val_loss: 0.0222 - val_accuracy: 0.9951\n",
            "Epoch 31/100\n",
            "469/469 [==============================] - 20s 42ms/step - loss: 0.0063 - accuracy: 0.9981 - val_loss: 0.0237 - val_accuracy: 0.9955\n",
            "Epoch 32/100\n",
            "469/469 [==============================] - 20s 43ms/step - loss: 0.0035 - accuracy: 0.9988 - val_loss: 0.0318 - val_accuracy: 0.9941\n",
            "Epoch 33/100\n",
            "469/469 [==============================] - 20s 43ms/step - loss: 0.0049 - accuracy: 0.9988 - val_loss: 0.0276 - val_accuracy: 0.9947\n",
            "Epoch 34/100\n",
            "469/469 [==============================] - 20s 42ms/step - loss: 0.0060 - accuracy: 0.9980 - val_loss: 0.0289 - val_accuracy: 0.9945\n",
            "Epoch 35/100\n",
            "469/469 [==============================] - 20s 43ms/step - loss: 0.0050 - accuracy: 0.9985 - val_loss: 0.0310 - val_accuracy: 0.9935\n",
            "Epoch 36/100\n",
            "469/469 [==============================] - 20s 43ms/step - loss: 0.0052 - accuracy: 0.9984 - val_loss: 0.0208 - val_accuracy: 0.9962\n",
            "Epoch 37/100\n",
            "469/469 [==============================] - 20s 42ms/step - loss: 0.0038 - accuracy: 0.9989 - val_loss: 0.0230 - val_accuracy: 0.9944\n",
            "Epoch 38/100\n",
            "469/469 [==============================] - 20s 43ms/step - loss: 0.0047 - accuracy: 0.9986 - val_loss: 0.0346 - val_accuracy: 0.9934\n",
            "Epoch 39/100\n",
            "469/469 [==============================] - 20s 43ms/step - loss: 0.0043 - accuracy: 0.9988 - val_loss: 0.0260 - val_accuracy: 0.9955\n",
            "Epoch 40/100\n",
            "469/469 [==============================] - 20s 43ms/step - loss: 0.0032 - accuracy: 0.9990 - val_loss: 0.0181 - val_accuracy: 0.9966\n",
            "Epoch 41/100\n",
            "469/469 [==============================] - 20s 43ms/step - loss: 0.0037 - accuracy: 0.9992 - val_loss: 0.0253 - val_accuracy: 0.9959\n",
            "Epoch 42/100\n",
            "469/469 [==============================] - 20s 43ms/step - loss: 0.0052 - accuracy: 0.9985 - val_loss: 0.0262 - val_accuracy: 0.9949\n",
            "Epoch 43/100\n",
            "469/469 [==============================] - 20s 43ms/step - loss: 0.0054 - accuracy: 0.9987 - val_loss: 0.0207 - val_accuracy: 0.9962\n",
            "Epoch 44/100\n",
            "469/469 [==============================] - 20s 42ms/step - loss: 0.0033 - accuracy: 0.9991 - val_loss: 0.0195 - val_accuracy: 0.9962\n",
            "Epoch 45/100\n",
            "469/469 [==============================] - 20s 42ms/step - loss: 0.0038 - accuracy: 0.9988 - val_loss: 0.0339 - val_accuracy: 0.9940\n",
            "Epoch 46/100\n",
            "469/469 [==============================] - 20s 42ms/step - loss: 0.0031 - accuracy: 0.9991 - val_loss: 0.0205 - val_accuracy: 0.9965\n",
            "Epoch 47/100\n",
            "469/469 [==============================] - 20s 43ms/step - loss: 0.0037 - accuracy: 0.9988 - val_loss: 0.0332 - val_accuracy: 0.9943\n",
            "Epoch 48/100\n",
            "469/469 [==============================] - 20s 43ms/step - loss: 0.0045 - accuracy: 0.9987 - val_loss: 0.0241 - val_accuracy: 0.9955\n",
            "Epoch 49/100\n",
            "469/469 [==============================] - 20s 43ms/step - loss: 0.0032 - accuracy: 0.9989 - val_loss: 0.0223 - val_accuracy: 0.9960\n",
            "Epoch 50/100\n",
            "469/469 [==============================] - 20s 42ms/step - loss: 0.0024 - accuracy: 0.9992 - val_loss: 0.0290 - val_accuracy: 0.9962\n",
            "Epoch 51/100\n",
            "469/469 [==============================] - 20s 43ms/step - loss: 0.0044 - accuracy: 0.9989 - val_loss: 0.0238 - val_accuracy: 0.9958\n",
            "Epoch 52/100\n",
            "469/469 [==============================] - 20s 43ms/step - loss: 0.0022 - accuracy: 0.9993 - val_loss: 0.0279 - val_accuracy: 0.9948\n",
            "Epoch 53/100\n",
            "469/469 [==============================] - 20s 43ms/step - loss: 0.0034 - accuracy: 0.9991 - val_loss: 0.0226 - val_accuracy: 0.9957\n",
            "Epoch 54/100\n",
            "469/469 [==============================] - 20s 42ms/step - loss: 0.0034 - accuracy: 0.9991 - val_loss: 0.0213 - val_accuracy: 0.9955\n",
            "Epoch 55/100\n",
            "469/469 [==============================] - 20s 43ms/step - loss: 0.0032 - accuracy: 0.9992 - val_loss: 0.0203 - val_accuracy: 0.9962\n",
            "Epoch 56/100\n",
            "469/469 [==============================] - 20s 42ms/step - loss: 0.0033 - accuracy: 0.9989 - val_loss: 0.0278 - val_accuracy: 0.9952\n",
            "Epoch 57/100\n",
            "469/469 [==============================] - 20s 42ms/step - loss: 0.0027 - accuracy: 0.9992 - val_loss: 0.0282 - val_accuracy: 0.9956\n",
            "Epoch 58/100\n",
            "469/469 [==============================] - 20s 43ms/step - loss: 0.0020 - accuracy: 0.9992 - val_loss: 0.0192 - val_accuracy: 0.9969\n",
            "Epoch 59/100\n",
            "469/469 [==============================] - 20s 43ms/step - loss: 0.0020 - accuracy: 0.9994 - val_loss: 0.0247 - val_accuracy: 0.9960\n",
            "Epoch 60/100\n",
            "469/469 [==============================] - 21s 44ms/step - loss: 0.0033 - accuracy: 0.9992 - val_loss: 0.0255 - val_accuracy: 0.9952\n",
            "Epoch 61/100\n",
            "469/469 [==============================] - 20s 43ms/step - loss: 0.0024 - accuracy: 0.9993 - val_loss: 0.0269 - val_accuracy: 0.9941\n",
            "Epoch 62/100\n",
            "469/469 [==============================] - 20s 43ms/step - loss: 0.0021 - accuracy: 0.9993 - val_loss: 0.0200 - val_accuracy: 0.9968\n",
            "Epoch 63/100\n",
            "469/469 [==============================] - 20s 43ms/step - loss: 0.0021 - accuracy: 0.9993 - val_loss: 0.0246 - val_accuracy: 0.9960\n",
            "Epoch 64/100\n",
            "469/469 [==============================] - 20s 43ms/step - loss: 0.0027 - accuracy: 0.9993 - val_loss: 0.0238 - val_accuracy: 0.9962\n",
            "Epoch 65/100\n",
            "469/469 [==============================] - 20s 43ms/step - loss: 0.0023 - accuracy: 0.9992 - val_loss: 0.0372 - val_accuracy: 0.9945\n",
            "Epoch 66/100\n",
            "469/469 [==============================] - 20s 43ms/step - loss: 0.0042 - accuracy: 0.9990 - val_loss: 0.0359 - val_accuracy: 0.9946\n",
            "Epoch 67/100\n",
            "469/469 [==============================] - 20s 43ms/step - loss: 0.0039 - accuracy: 0.9991 - val_loss: 0.0438 - val_accuracy: 0.9944\n",
            "Epoch 68/100\n",
            "469/469 [==============================] - 20s 43ms/step - loss: 0.0022 - accuracy: 0.9994 - val_loss: 0.0154 - val_accuracy: 0.9971\n",
            "Epoch 69/100\n",
            "469/469 [==============================] - 20s 43ms/step - loss: 0.0032 - accuracy: 0.9991 - val_loss: 0.0232 - val_accuracy: 0.9958\n",
            "Epoch 70/100\n",
            "469/469 [==============================] - 20s 43ms/step - loss: 0.0021 - accuracy: 0.9994 - val_loss: 0.0191 - val_accuracy: 0.9966\n",
            "Epoch 71/100\n",
            "469/469 [==============================] - 20s 43ms/step - loss: 0.0016 - accuracy: 0.9996 - val_loss: 0.0170 - val_accuracy: 0.9967\n",
            "Epoch 72/100\n",
            "469/469 [==============================] - 20s 43ms/step - loss: 0.0011 - accuracy: 0.9997 - val_loss: 0.0187 - val_accuracy: 0.9966\n",
            "Epoch 73/100\n",
            "469/469 [==============================] - 20s 43ms/step - loss: 0.0027 - accuracy: 0.9992 - val_loss: 0.0221 - val_accuracy: 0.9956\n",
            "Epoch 74/100\n",
            "469/469 [==============================] - 20s 43ms/step - loss: 0.0023 - accuracy: 0.9995 - val_loss: 0.0236 - val_accuracy: 0.9965\n",
            "Epoch 75/100\n",
            "469/469 [==============================] - 20s 43ms/step - loss: 0.0016 - accuracy: 0.9995 - val_loss: 0.0222 - val_accuracy: 0.9962\n",
            "Epoch 76/100\n",
            "469/469 [==============================] - 20s 43ms/step - loss: 0.0015 - accuracy: 0.9996 - val_loss: 0.0380 - val_accuracy: 0.9954\n",
            "Epoch 77/100\n",
            "469/469 [==============================] - 20s 43ms/step - loss: 0.0028 - accuracy: 0.9993 - val_loss: 0.0304 - val_accuracy: 0.9959\n",
            "Epoch 78/100\n",
            "469/469 [==============================] - 20s 43ms/step - loss: 0.0016 - accuracy: 0.9996 - val_loss: 0.0248 - val_accuracy: 0.9961\n",
            "Epoch 79/100\n",
            "469/469 [==============================] - 20s 43ms/step - loss: 0.0026 - accuracy: 0.9993 - val_loss: 0.0234 - val_accuracy: 0.9964\n",
            "Epoch 80/100\n",
            "469/469 [==============================] - 20s 42ms/step - loss: 0.0027 - accuracy: 0.9994 - val_loss: 0.0280 - val_accuracy: 0.9955\n",
            "Epoch 81/100\n",
            "469/469 [==============================] - 20s 43ms/step - loss: 0.0029 - accuracy: 0.9991 - val_loss: 0.0251 - val_accuracy: 0.9959\n",
            "Epoch 82/100\n",
            "469/469 [==============================] - 20s 42ms/step - loss: 0.0026 - accuracy: 0.9992 - val_loss: 0.0162 - val_accuracy: 0.9965\n",
            "Epoch 83/100\n",
            "469/469 [==============================] - 20s 43ms/step - loss: 0.0014 - accuracy: 0.9996 - val_loss: 0.0229 - val_accuracy: 0.9964\n",
            "Epoch 84/100\n",
            "469/469 [==============================] - 20s 43ms/step - loss: 0.0017 - accuracy: 0.9996 - val_loss: 0.0232 - val_accuracy: 0.9964\n",
            "Epoch 85/100\n",
            "469/469 [==============================] - 21s 44ms/step - loss: 0.0022 - accuracy: 0.9993 - val_loss: 0.0281 - val_accuracy: 0.9961\n",
            "Epoch 86/100\n",
            "469/469 [==============================] - 20s 43ms/step - loss: 6.4283e-04 - accuracy: 0.9998 - val_loss: 0.0187 - val_accuracy: 0.9970\n",
            "Epoch 87/100\n",
            "469/469 [==============================] - 20s 43ms/step - loss: 0.0012 - accuracy: 0.9997 - val_loss: 0.0277 - val_accuracy: 0.9959\n",
            "Epoch 88/100\n",
            "469/469 [==============================] - 20s 43ms/step - loss: 0.0023 - accuracy: 0.9995 - val_loss: 0.0391 - val_accuracy: 0.9944\n",
            "Epoch 89/100\n",
            "469/469 [==============================] - 20s 43ms/step - loss: 0.0023 - accuracy: 0.9993 - val_loss: 0.0315 - val_accuracy: 0.9957\n",
            "Epoch 90/100\n",
            "469/469 [==============================] - 20s 43ms/step - loss: 7.4290e-04 - accuracy: 0.9998 - val_loss: 0.0214 - val_accuracy: 0.9969\n",
            "Epoch 91/100\n",
            "469/469 [==============================] - 20s 43ms/step - loss: 9.5729e-04 - accuracy: 0.9998 - val_loss: 0.0208 - val_accuracy: 0.9970\n",
            "Epoch 92/100\n",
            "469/469 [==============================] - 20s 43ms/step - loss: 0.0023 - accuracy: 0.9994 - val_loss: 0.0376 - val_accuracy: 0.9948\n",
            "Epoch 93/100\n",
            "469/469 [==============================] - 20s 43ms/step - loss: 0.0021 - accuracy: 0.9995 - val_loss: 0.0293 - val_accuracy: 0.9958\n",
            "Epoch 94/100\n",
            "469/469 [==============================] - 20s 43ms/step - loss: 0.0019 - accuracy: 0.9995 - val_loss: 0.0262 - val_accuracy: 0.9969\n",
            "Epoch 95/100\n",
            "469/469 [==============================] - 21s 44ms/step - loss: 0.0021 - accuracy: 0.9995 - val_loss: 0.0279 - val_accuracy: 0.9956\n",
            "Epoch 96/100\n",
            "469/469 [==============================] - 20s 43ms/step - loss: 0.0013 - accuracy: 0.9996 - val_loss: 0.0246 - val_accuracy: 0.9961\n",
            "Epoch 97/100\n",
            "469/469 [==============================] - 20s 43ms/step - loss: 0.0015 - accuracy: 0.9995 - val_loss: 0.0260 - val_accuracy: 0.9966\n",
            "Epoch 98/100\n",
            "469/469 [==============================] - 20s 43ms/step - loss: 8.6352e-04 - accuracy: 0.9998 - val_loss: 0.0260 - val_accuracy: 0.9962\n",
            "Epoch 99/100\n",
            "469/469 [==============================] - 20s 43ms/step - loss: 7.0968e-04 - accuracy: 0.9998 - val_loss: 0.0290 - val_accuracy: 0.9960\n",
            "Epoch 100/100\n",
            "469/469 [==============================] - 20s 43ms/step - loss: 0.0016 - accuracy: 0.9995 - val_loss: 0.0350 - val_accuracy: 0.9951\n"
          ]
        }
      ]
    },
    {
      "cell_type": "code",
      "source": [
        "accuracy_plot(history1)\n",
        "loss_plot(history1)\n",
        "report(model_adm , x_test , y_test )"
      ],
      "metadata": {
        "colab": {
          "base_uri": "https://localhost:8080/",
          "height": 1000
        },
        "id": "N5IW64iIu-DU",
        "outputId": "8e8254e0-f4a1-44b5-d57d-16f530ec400d"
      },
      "execution_count": 44,
      "outputs": [
        {
          "output_type": "stream",
          "name": "stdout",
          "text": [
            "625/625 [==============================] - 3s 4ms/step\n",
            "625/625 [==============================] - 3s 5ms/step - loss: 0.0350 - accuracy: 0.9951\n",
            "test loss = 0.035012\n",
            "test accuracy = 0.995100\n",
            "Accuracy: 0.995100\n",
            "Precision: 0.995170\n",
            "Recall: 0.995100\n",
            "F1 score: 0.995107\n",
            "              precision    recall  f1-score   support\n",
            "\n",
            "           0       1.00      1.00      1.00      2000\n",
            "           1       1.00      1.00      1.00      2000\n",
            "           2       0.99      0.98      0.99      2000\n",
            "           3       0.97      1.00      0.98      2000\n",
            "           4       1.00      0.98      0.99      2000\n",
            "           5       1.00      1.00      1.00      2000\n",
            "           6       1.00      1.00      1.00      2000\n",
            "           7       1.00      1.00      1.00      2000\n",
            "           8       1.00      1.00      1.00      2000\n",
            "           9       1.00      1.00      1.00      2000\n",
            "\n",
            "    accuracy                           1.00     20000\n",
            "   macro avg       1.00      1.00      1.00     20000\n",
            "weighted avg       1.00      1.00      1.00     20000\n",
            "\n"
          ]
        },
        {
          "output_type": "display_data",
          "data": {
            "text/plain": [
              "<Figure size 432x288 with 1 Axes>"
            ],
            "image/png": "[encoded data removed]"
          },
          "metadata": {
            "needs_background": "light"
          }
        },
        {
          "output_type": "display_data",
          "data": {
            "text/plain": [
              "<Figure size 432x288 with 1 Axes>"
            ],
            "image/png": "[encoded data removed]"
          },
          "metadata": {
            "needs_background": "light"
          }
        },
        {
          "output_type": "display_data",
          "data": {
            "text/plain": [
              "<Figure size 432x288 with 2 Axes>"
            ],
            "image/png": "[encoded data removed]"
          },
          "metadata": {
            "needs_background": "light"
          }
        }
      ]
    },
    {
      "cell_type": "markdown",
      "source": [
        "# **ADADELTA**"
      ],
      "metadata": {
        "id": "KVZ_SjY41XKq"
      }
    },
    {
      "cell_type": "code",
      "source": [
        "model_adadelta = model_dcnn()\n",
        "model_adadelta.compile(optimizer=Adadelta(), loss='categorical_crossentropy', metrics=['accuracy'])\n",
        "history2 = model_adadelta.fit(x_train, y_train, epochs=100, batch_size=128, validation_data=(x_test, y_test))"
      ],
      "metadata": {
        "colab": {
          "base_uri": "https://localhost:8080/"
        },
        "id": "BKviUBmyu-O1",
        "outputId": "d37b7e57-00c6-48e0-c8ae-161c941587d7"
      },
      "execution_count": 46,
      "outputs": [
        {
          "output_type": "stream",
          "name": "stdout",
          "text": [
            "Epoch 1/100\n",
            "469/469 [==============================] - 22s 44ms/step - loss: 3.5735 - accuracy: 0.1113 - val_loss: 2.5313 - val_accuracy: 0.1000\n",
            "Epoch 2/100\n",
            "469/469 [==============================] - 20s 43ms/step - loss: 3.3740 - accuracy: 0.1359 - val_loss: 2.1891 - val_accuracy: 0.1775\n",
            "Epoch 3/100\n",
            "469/469 [==============================] - 20s 43ms/step - loss: 3.2227 - accuracy: 0.1537 - val_loss: 2.0666 - val_accuracy: 0.2779\n",
            "Epoch 4/100\n",
            "469/469 [==============================] - 20s 43ms/step - loss: 3.0770 - accuracy: 0.1771 - val_loss: 2.0190 - val_accuracy: 0.2893\n",
            "Epoch 5/100\n",
            "469/469 [==============================] - 20s 43ms/step - loss: 2.9548 - accuracy: 0.2017 - val_loss: 1.9917 - val_accuracy: 0.2889\n",
            "Epoch 6/100\n",
            "469/469 [==============================] - 20s 43ms/step - loss: 2.8318 - accuracy: 0.2181 - val_loss: 1.9651 - val_accuracy: 0.2978\n",
            "Epoch 7/100\n",
            "469/469 [==============================] - 20s 43ms/step - loss: 2.6895 - accuracy: 0.2459 - val_loss: 1.9312 - val_accuracy: 0.3135\n",
            "Epoch 8/100\n",
            "469/469 [==============================] - 20s 43ms/step - loss: 2.5843 - accuracy: 0.2677 - val_loss: 1.9005 - val_accuracy: 0.3304\n",
            "Epoch 9/100\n",
            "469/469 [==============================] - 20s 43ms/step - loss: 2.4852 - accuracy: 0.2854 - val_loss: 1.8596 - val_accuracy: 0.3490\n",
            "Epoch 10/100\n",
            "469/469 [==============================] - 20s 43ms/step - loss: 2.3910 - accuracy: 0.3058 - val_loss: 1.8031 - val_accuracy: 0.3690\n",
            "Epoch 11/100\n",
            "469/469 [==============================] - 20s 43ms/step - loss: 2.2743 - accuracy: 0.3273 - val_loss: 1.7591 - val_accuracy: 0.3863\n",
            "Epoch 12/100\n",
            "469/469 [==============================] - 20s 43ms/step - loss: 2.1862 - accuracy: 0.3499 - val_loss: 1.7057 - val_accuracy: 0.4071\n",
            "Epoch 13/100\n",
            "469/469 [==============================] - 20s 43ms/step - loss: 2.0752 - accuracy: 0.3754 - val_loss: 1.6453 - val_accuracy: 0.4318\n",
            "Epoch 14/100\n",
            "469/469 [==============================] - 21s 44ms/step - loss: 1.9931 - accuracy: 0.3951 - val_loss: 1.5884 - val_accuracy: 0.4574\n",
            "Epoch 15/100\n",
            "469/469 [==============================] - 20s 43ms/step - loss: 1.9089 - accuracy: 0.4173 - val_loss: 1.5282 - val_accuracy: 0.4818\n",
            "Epoch 16/100\n",
            "469/469 [==============================] - 21s 45ms/step - loss: 1.8122 - accuracy: 0.4415 - val_loss: 1.4609 - val_accuracy: 0.5114\n",
            "Epoch 17/100\n",
            "469/469 [==============================] - 20s 44ms/step - loss: 1.7339 - accuracy: 0.4659 - val_loss: 1.4063 - val_accuracy: 0.5373\n",
            "Epoch 18/100\n",
            "469/469 [==============================] - 20s 43ms/step - loss: 1.6571 - accuracy: 0.4847 - val_loss: 1.3499 - val_accuracy: 0.5618\n",
            "Epoch 19/100\n",
            "469/469 [==============================] - 20s 43ms/step - loss: 1.5728 - accuracy: 0.5073 - val_loss: 1.2885 - val_accuracy: 0.5840\n",
            "Epoch 20/100\n",
            "469/469 [==============================] - 20s 43ms/step - loss: 1.5067 - accuracy: 0.5249 - val_loss: 1.2343 - val_accuracy: 0.6061\n",
            "Epoch 21/100\n",
            "469/469 [==============================] - 20s 43ms/step - loss: 1.4342 - accuracy: 0.5490 - val_loss: 1.1801 - val_accuracy: 0.6249\n",
            "Epoch 22/100\n",
            "469/469 [==============================] - 20s 43ms/step - loss: 1.3744 - accuracy: 0.5649 - val_loss: 1.1391 - val_accuracy: 0.6431\n",
            "Epoch 23/100\n",
            "469/469 [==============================] - 20s 43ms/step - loss: 1.3240 - accuracy: 0.5852 - val_loss: 1.0892 - val_accuracy: 0.6614\n",
            "Epoch 24/100\n",
            "469/469 [==============================] - 20s 43ms/step - loss: 1.2664 - accuracy: 0.5998 - val_loss: 1.0337 - val_accuracy: 0.6805\n",
            "Epoch 25/100\n",
            "469/469 [==============================] - 20s 43ms/step - loss: 1.2155 - accuracy: 0.6166 - val_loss: 0.9957 - val_accuracy: 0.6939\n",
            "Epoch 26/100\n",
            "469/469 [==============================] - 20s 43ms/step - loss: 1.1595 - accuracy: 0.6324 - val_loss: 0.9527 - val_accuracy: 0.7097\n",
            "Epoch 27/100\n",
            "469/469 [==============================] - 20s 43ms/step - loss: 1.1078 - accuracy: 0.6495 - val_loss: 0.9163 - val_accuracy: 0.7229\n",
            "Epoch 28/100\n",
            "469/469 [==============================] - 20s 43ms/step - loss: 1.0626 - accuracy: 0.6644 - val_loss: 0.8805 - val_accuracy: 0.7350\n",
            "Epoch 29/100\n",
            "469/469 [==============================] - 20s 43ms/step - loss: 1.0201 - accuracy: 0.6777 - val_loss: 0.8458 - val_accuracy: 0.7473\n",
            "Epoch 30/100\n",
            "469/469 [==============================] - 20s 43ms/step - loss: 0.9850 - accuracy: 0.6892 - val_loss: 0.8130 - val_accuracy: 0.7584\n",
            "Epoch 31/100\n",
            "469/469 [==============================] - 20s 43ms/step - loss: 0.9470 - accuracy: 0.6976 - val_loss: 0.7805 - val_accuracy: 0.7701\n",
            "Epoch 32/100\n",
            "469/469 [==============================] - 20s 43ms/step - loss: 0.9091 - accuracy: 0.7130 - val_loss: 0.7503 - val_accuracy: 0.7807\n",
            "Epoch 33/100\n",
            "469/469 [==============================] - 21s 44ms/step - loss: 0.8819 - accuracy: 0.7205 - val_loss: 0.7207 - val_accuracy: 0.7894\n",
            "Epoch 34/100\n",
            "469/469 [==============================] - 20s 43ms/step - loss: 0.8488 - accuracy: 0.7307 - val_loss: 0.6939 - val_accuracy: 0.7987\n",
            "Epoch 35/100\n",
            "469/469 [==============================] - 20s 43ms/step - loss: 0.8145 - accuracy: 0.7424 - val_loss: 0.6623 - val_accuracy: 0.8101\n",
            "Epoch 36/100\n",
            "469/469 [==============================] - 20s 43ms/step - loss: 0.7812 - accuracy: 0.7511 - val_loss: 0.6424 - val_accuracy: 0.8148\n",
            "Epoch 37/100\n",
            "469/469 [==============================] - 20s 43ms/step - loss: 0.7551 - accuracy: 0.7588 - val_loss: 0.6121 - val_accuracy: 0.8262\n",
            "Epoch 38/100\n",
            "469/469 [==============================] - 20s 43ms/step - loss: 0.7380 - accuracy: 0.7656 - val_loss: 0.5956 - val_accuracy: 0.8308\n",
            "Epoch 39/100\n",
            "469/469 [==============================] - 20s 43ms/step - loss: 0.7003 - accuracy: 0.7764 - val_loss: 0.5741 - val_accuracy: 0.8370\n",
            "Epoch 40/100\n",
            "469/469 [==============================] - 20s 43ms/step - loss: 0.6826 - accuracy: 0.7806 - val_loss: 0.5535 - val_accuracy: 0.8425\n",
            "Epoch 41/100\n",
            "469/469 [==============================] - 20s 43ms/step - loss: 0.6541 - accuracy: 0.7917 - val_loss: 0.5287 - val_accuracy: 0.8499\n",
            "Epoch 42/100\n",
            "469/469 [==============================] - 20s 43ms/step - loss: 0.6383 - accuracy: 0.7960 - val_loss: 0.5124 - val_accuracy: 0.8543\n",
            "Epoch 43/100\n",
            "469/469 [==============================] - 20s 43ms/step - loss: 0.6126 - accuracy: 0.8035 - val_loss: 0.4987 - val_accuracy: 0.8573\n",
            "Epoch 44/100\n",
            "469/469 [==============================] - 20s 43ms/step - loss: 0.5856 - accuracy: 0.8098 - val_loss: 0.4806 - val_accuracy: 0.8620\n",
            "Epoch 45/100\n",
            "469/469 [==============================] - 21s 45ms/step - loss: 0.5671 - accuracy: 0.8157 - val_loss: 0.4594 - val_accuracy: 0.8670\n",
            "Epoch 46/100\n",
            "469/469 [==============================] - 20s 43ms/step - loss: 0.5544 - accuracy: 0.8202 - val_loss: 0.4430 - val_accuracy: 0.8707\n",
            "Epoch 47/100\n",
            "469/469 [==============================] - 20s 43ms/step - loss: 0.5274 - accuracy: 0.8281 - val_loss: 0.4300 - val_accuracy: 0.8727\n",
            "Epoch 48/100\n",
            "469/469 [==============================] - 20s 43ms/step - loss: 0.5082 - accuracy: 0.8354 - val_loss: 0.4135 - val_accuracy: 0.8759\n",
            "Epoch 49/100\n",
            "469/469 [==============================] - 20s 43ms/step - loss: 0.4909 - accuracy: 0.8408 - val_loss: 0.4075 - val_accuracy: 0.8773\n",
            "Epoch 50/100\n",
            "469/469 [==============================] - 21s 45ms/step - loss: 0.4712 - accuracy: 0.8462 - val_loss: 0.3939 - val_accuracy: 0.8795\n",
            "Epoch 51/100\n",
            "469/469 [==============================] - 20s 43ms/step - loss: 0.4616 - accuracy: 0.8497 - val_loss: 0.3793 - val_accuracy: 0.8828\n",
            "Epoch 52/100\n",
            "469/469 [==============================] - 20s 43ms/step - loss: 0.4459 - accuracy: 0.8526 - val_loss: 0.3709 - val_accuracy: 0.8838\n",
            "Epoch 53/100\n",
            "469/469 [==============================] - 20s 43ms/step - loss: 0.4350 - accuracy: 0.8559 - val_loss: 0.3588 - val_accuracy: 0.8860\n",
            "Epoch 54/100\n",
            "469/469 [==============================] - 20s 43ms/step - loss: 0.4179 - accuracy: 0.8637 - val_loss: 0.3484 - val_accuracy: 0.8888\n",
            "Epoch 55/100\n",
            "469/469 [==============================] - 20s 43ms/step - loss: 0.4088 - accuracy: 0.8668 - val_loss: 0.3367 - val_accuracy: 0.8915\n",
            "Epoch 56/100\n",
            "469/469 [==============================] - 20s 43ms/step - loss: 0.3974 - accuracy: 0.8692 - val_loss: 0.3311 - val_accuracy: 0.8925\n",
            "Epoch 57/100\n",
            "469/469 [==============================] - 20s 43ms/step - loss: 0.3817 - accuracy: 0.8740 - val_loss: 0.3249 - val_accuracy: 0.8945\n",
            "Epoch 58/100\n",
            "469/469 [==============================] - 21s 45ms/step - loss: 0.3709 - accuracy: 0.8771 - val_loss: 0.3142 - val_accuracy: 0.8978\n",
            "Epoch 59/100\n",
            "469/469 [==============================] - 20s 43ms/step - loss: 0.3567 - accuracy: 0.8832 - val_loss: 0.3096 - val_accuracy: 0.8992\n",
            "Epoch 60/100\n",
            "469/469 [==============================] - 20s 43ms/step - loss: 0.3470 - accuracy: 0.8858 - val_loss: 0.3050 - val_accuracy: 0.9008\n",
            "Epoch 61/100\n",
            "469/469 [==============================] - 20s 43ms/step - loss: 0.3432 - accuracy: 0.8847 - val_loss: 0.2970 - val_accuracy: 0.9035\n",
            "Epoch 62/100\n",
            "469/469 [==============================] - 20s 43ms/step - loss: 0.3338 - accuracy: 0.8905 - val_loss: 0.2929 - val_accuracy: 0.9051\n",
            "Epoch 63/100\n",
            "469/469 [==============================] - 21s 45ms/step - loss: 0.3259 - accuracy: 0.8935 - val_loss: 0.2870 - val_accuracy: 0.9068\n",
            "Epoch 64/100\n",
            "469/469 [==============================] - 20s 43ms/step - loss: 0.3202 - accuracy: 0.8955 - val_loss: 0.2805 - val_accuracy: 0.9097\n",
            "Epoch 65/100\n",
            "469/469 [==============================] - 20s 43ms/step - loss: 0.3074 - accuracy: 0.8997 - val_loss: 0.2753 - val_accuracy: 0.9113\n",
            "Epoch 66/100\n",
            "469/469 [==============================] - 20s 43ms/step - loss: 0.2983 - accuracy: 0.9035 - val_loss: 0.2707 - val_accuracy: 0.9132\n",
            "Epoch 67/100\n",
            "469/469 [==============================] - 20s 43ms/step - loss: 0.2914 - accuracy: 0.9039 - val_loss: 0.2662 - val_accuracy: 0.9152\n",
            "Epoch 68/100\n",
            "469/469 [==============================] - 20s 43ms/step - loss: 0.2923 - accuracy: 0.9055 - val_loss: 0.2620 - val_accuracy: 0.9167\n",
            "Epoch 69/100\n",
            "469/469 [==============================] - 20s 43ms/step - loss: 0.2776 - accuracy: 0.9105 - val_loss: 0.2585 - val_accuracy: 0.9184\n",
            "Epoch 70/100\n",
            "469/469 [==============================] - 20s 43ms/step - loss: 0.2723 - accuracy: 0.9108 - val_loss: 0.2560 - val_accuracy: 0.9194\n",
            "Epoch 71/100\n",
            "469/469 [==============================] - 20s 43ms/step - loss: 0.2627 - accuracy: 0.9134 - val_loss: 0.2518 - val_accuracy: 0.9211\n",
            "Epoch 72/100\n",
            "469/469 [==============================] - 20s 43ms/step - loss: 0.2582 - accuracy: 0.9164 - val_loss: 0.2486 - val_accuracy: 0.9225\n",
            "Epoch 73/100\n",
            "469/469 [==============================] - 20s 43ms/step - loss: 0.2563 - accuracy: 0.9173 - val_loss: 0.2439 - val_accuracy: 0.9245\n",
            "Epoch 74/100\n",
            "469/469 [==============================] - 20s 43ms/step - loss: 0.2507 - accuracy: 0.9184 - val_loss: 0.2417 - val_accuracy: 0.9256\n",
            "Epoch 75/100\n",
            "469/469 [==============================] - 20s 43ms/step - loss: 0.2473 - accuracy: 0.9204 - val_loss: 0.2378 - val_accuracy: 0.9268\n",
            "Epoch 76/100\n",
            "469/469 [==============================] - 20s 43ms/step - loss: 0.2430 - accuracy: 0.9208 - val_loss: 0.2362 - val_accuracy: 0.9271\n",
            "Epoch 77/100\n",
            "469/469 [==============================] - 20s 43ms/step - loss: 0.2334 - accuracy: 0.9247 - val_loss: 0.2324 - val_accuracy: 0.9285\n",
            "Epoch 78/100\n",
            "469/469 [==============================] - 20s 43ms/step - loss: 0.2289 - accuracy: 0.9271 - val_loss: 0.2325 - val_accuracy: 0.9281\n",
            "Epoch 79/100\n",
            "469/469 [==============================] - 21s 45ms/step - loss: 0.2253 - accuracy: 0.9275 - val_loss: 0.2250 - val_accuracy: 0.9306\n",
            "Epoch 80/100\n",
            "469/469 [==============================] - 20s 43ms/step - loss: 0.2258 - accuracy: 0.9282 - val_loss: 0.2244 - val_accuracy: 0.9305\n",
            "Epoch 81/100\n",
            "469/469 [==============================] - 20s 43ms/step - loss: 0.2198 - accuracy: 0.9298 - val_loss: 0.2217 - val_accuracy: 0.9312\n",
            "Epoch 82/100\n",
            "469/469 [==============================] - 20s 43ms/step - loss: 0.2150 - accuracy: 0.9322 - val_loss: 0.2196 - val_accuracy: 0.9319\n",
            "Epoch 83/100\n",
            "469/469 [==============================] - 20s 43ms/step - loss: 0.2122 - accuracy: 0.9323 - val_loss: 0.2166 - val_accuracy: 0.9330\n",
            "Epoch 84/100\n",
            "469/469 [==============================] - 20s 43ms/step - loss: 0.2068 - accuracy: 0.9341 - val_loss: 0.2159 - val_accuracy: 0.9329\n",
            "Epoch 85/100\n",
            "469/469 [==============================] - 20s 43ms/step - loss: 0.2034 - accuracy: 0.9355 - val_loss: 0.2114 - val_accuracy: 0.9348\n",
            "Epoch 86/100\n",
            "469/469 [==============================] - 20s 43ms/step - loss: 0.1955 - accuracy: 0.9371 - val_loss: 0.2100 - val_accuracy: 0.9351\n",
            "Epoch 87/100\n",
            "469/469 [==============================] - 20s 43ms/step - loss: 0.2005 - accuracy: 0.9356 - val_loss: 0.2081 - val_accuracy: 0.9352\n",
            "Epoch 88/100\n",
            "469/469 [==============================] - 20s 43ms/step - loss: 0.1920 - accuracy: 0.9389 - val_loss: 0.2054 - val_accuracy: 0.9363\n",
            "Epoch 89/100\n",
            "469/469 [==============================] - 20s 43ms/step - loss: 0.1909 - accuracy: 0.9392 - val_loss: 0.2044 - val_accuracy: 0.9370\n",
            "Epoch 90/100\n",
            "469/469 [==============================] - 21s 45ms/step - loss: 0.1853 - accuracy: 0.9413 - val_loss: 0.1994 - val_accuracy: 0.9386\n",
            "Epoch 91/100\n",
            "469/469 [==============================] - 20s 43ms/step - loss: 0.1815 - accuracy: 0.9410 - val_loss: 0.2002 - val_accuracy: 0.9384\n",
            "Epoch 92/100\n",
            "469/469 [==============================] - 21s 45ms/step - loss: 0.1860 - accuracy: 0.9416 - val_loss: 0.1967 - val_accuracy: 0.9395\n",
            "Epoch 93/100\n",
            "469/469 [==============================] - 20s 43ms/step - loss: 0.1795 - accuracy: 0.9436 - val_loss: 0.1955 - val_accuracy: 0.9398\n",
            "Epoch 94/100\n",
            "469/469 [==============================] - 20s 43ms/step - loss: 0.1806 - accuracy: 0.9434 - val_loss: 0.1925 - val_accuracy: 0.9409\n",
            "Epoch 95/100\n",
            "469/469 [==============================] - 20s 43ms/step - loss: 0.1756 - accuracy: 0.9457 - val_loss: 0.1939 - val_accuracy: 0.9406\n",
            "Epoch 96/100\n",
            "469/469 [==============================] - 20s 43ms/step - loss: 0.1740 - accuracy: 0.9455 - val_loss: 0.1893 - val_accuracy: 0.9420\n",
            "Epoch 97/100\n",
            "469/469 [==============================] - 20s 43ms/step - loss: 0.1727 - accuracy: 0.9460 - val_loss: 0.1899 - val_accuracy: 0.9418\n",
            "Epoch 98/100\n",
            "469/469 [==============================] - 20s 43ms/step - loss: 0.1681 - accuracy: 0.9469 - val_loss: 0.1864 - val_accuracy: 0.9424\n",
            "Epoch 99/100\n",
            "469/469 [==============================] - 20s 43ms/step - loss: 0.1671 - accuracy: 0.9467 - val_loss: 0.1840 - val_accuracy: 0.9438\n",
            "Epoch 100/100\n",
            "469/469 [==============================] - 20s 43ms/step - loss: 0.1634 - accuracy: 0.9481 - val_loss: 0.1829 - val_accuracy: 0.9439\n"
          ]
        }
      ]
    },
    {
      "cell_type": "code",
      "source": [
        "accuracy_plot(history2)\n",
        "loss_plot(history2)\n",
        "report(model_adadelta , x_test , y_test )"
      ],
      "metadata": {
        "colab": {
          "base_uri": "https://localhost:8080/",
          "height": 1000
        },
        "id": "rRJn9mcTu-R5",
        "outputId": "5189abf2-c7e4-4c61-a44b-39e2c9615cb5"
      },
      "execution_count": 47,
      "outputs": [
        {
          "output_type": "stream",
          "name": "stdout",
          "text": [
            "625/625 [==============================] - 3s 4ms/step\n",
            "625/625 [==============================] - 4s 6ms/step - loss: 0.1829 - accuracy: 0.9439\n",
            "test loss = 0.182888\n",
            "test accuracy = 0.943950\n",
            "Accuracy: 0.943950\n",
            "Precision: 0.947804\n",
            "Recall: 0.943950\n",
            "F1 score: 0.944315\n",
            "              precision    recall  f1-score   support\n",
            "\n",
            "           0       0.94      0.99      0.97      2000\n",
            "           1       0.95      0.99      0.97      2000\n",
            "           2       0.82      0.95      0.88      2000\n",
            "           3       0.95      0.92      0.93      2000\n",
            "           4       0.90      0.97      0.93      2000\n",
            "           5       0.99      0.93      0.96      2000\n",
            "           6       0.98      0.87      0.92      2000\n",
            "           7       1.00      0.90      0.94      2000\n",
            "           8       0.99      0.98      0.99      2000\n",
            "           9       0.97      0.93      0.95      2000\n",
            "\n",
            "    accuracy                           0.94     20000\n",
            "   macro avg       0.95      0.94      0.94     20000\n",
            "weighted avg       0.95      0.94      0.94     20000\n",
            "\n"
          ]
        },
        {
          "output_type": "display_data",
          "data": {
            "text/plain": [
              "<Figure size 432x288 with 1 Axes>"
            ],
            "image/png": "[encoded data removed]"
          },
          "metadata": {
            "needs_background": "light"
          }
        },
        {
          "output_type": "display_data",
          "data": {
            "text/plain": [
              "<Figure size 432x288 with 1 Axes>"
            ],
            "image/png": "[encoded data removed]"
          },
          "metadata": {
            "needs_background": "light"
          }
        },
        {
          "output_type": "display_data",
          "data": {
            "text/plain": [
              "<Figure size 432x288 with 2 Axes>"
            ],
            "image/png": "[encoded data removed]"
          },
          "metadata": {
            "needs_background": "light"
          }
        }
      ]
    },
    {
      "cell_type": "markdown",
      "source": [
        "# **MOMENTUM**"
      ],
      "metadata": {
        "id": "2crd7Jt91iLQ"
      }
    },
    {
      "cell_type": "code",
      "source": [
        "model_mom = model_dcnn()\n",
        "model_mom.compile(optimizer=SGD(momentum=0.9), loss='categorical_crossentropy', metrics=['accuracy'])\n",
        "history1 = model_mom.fit(x_train, y_train, epochs=100, batch_size=128, validation_data=(x_test, y_test))"
      ],
      "metadata": {
        "colab": {
          "base_uri": "https://localhost:8080/"
        },
        "id": "1y3ZOQYM1hEP",
        "outputId": "820e9888-ce06-48d2-a5c2-75055e3e5579"
      },
      "execution_count": 11,
      "outputs": [
        {
          "output_type": "stream",
          "name": "stdout",
          "text": [
            "Epoch 1/100\n",
            "469/469 [==============================] - 35s 44ms/step - loss: 0.4657 - accuracy: 0.8593 - val_loss: 3.5812 - val_accuracy: 0.3465\n",
            "Epoch 2/100\n",
            "469/469 [==============================] - 20s 43ms/step - loss: 0.0556 - accuracy: 0.9832 - val_loss: 0.0530 - val_accuracy: 0.9844\n",
            "Epoch 3/100\n",
            "469/469 [==============================] - 21s 44ms/step - loss: 0.0369 - accuracy: 0.9888 - val_loss: 0.0345 - val_accuracy: 0.9898\n",
            "Epoch 4/100\n",
            "469/469 [==============================] - 21s 44ms/step - loss: 0.0284 - accuracy: 0.9909 - val_loss: 0.0363 - val_accuracy: 0.9885\n",
            "Epoch 5/100\n",
            "469/469 [==============================] - 20s 43ms/step - loss: 0.0234 - accuracy: 0.9926 - val_loss: 0.0946 - val_accuracy: 0.9733\n",
            "Epoch 6/100\n",
            "469/469 [==============================] - 20s 43ms/step - loss: 0.0211 - accuracy: 0.9933 - val_loss: 0.0275 - val_accuracy: 0.9923\n",
            "Epoch 7/100\n",
            "469/469 [==============================] - 20s 43ms/step - loss: 0.0192 - accuracy: 0.9939 - val_loss: 0.0428 - val_accuracy: 0.9860\n",
            "Epoch 8/100\n",
            "469/469 [==============================] - 20s 43ms/step - loss: 0.0168 - accuracy: 0.9947 - val_loss: 0.0211 - val_accuracy: 0.9941\n",
            "Epoch 9/100\n",
            "469/469 [==============================] - 20s 43ms/step - loss: 0.0152 - accuracy: 0.9949 - val_loss: 0.0187 - val_accuracy: 0.9949\n",
            "Epoch 10/100\n",
            "469/469 [==============================] - 20s 43ms/step - loss: 0.0130 - accuracy: 0.9959 - val_loss: 0.0224 - val_accuracy: 0.9935\n",
            "Epoch 11/100\n",
            "469/469 [==============================] - 20s 44ms/step - loss: 0.0121 - accuracy: 0.9962 - val_loss: 0.0175 - val_accuracy: 0.9949\n",
            "Epoch 12/100\n",
            "469/469 [==============================] - 20s 43ms/step - loss: 0.0132 - accuracy: 0.9959 - val_loss: 0.0203 - val_accuracy: 0.9941\n",
            "Epoch 13/100\n",
            "469/469 [==============================] - 20s 44ms/step - loss: 0.0119 - accuracy: 0.9966 - val_loss: 0.0152 - val_accuracy: 0.9958\n",
            "Epoch 14/100\n",
            "469/469 [==============================] - 20s 44ms/step - loss: 0.0108 - accuracy: 0.9966 - val_loss: 0.0165 - val_accuracy: 0.9959\n",
            "Epoch 15/100\n",
            "469/469 [==============================] - 21s 44ms/step - loss: 0.0111 - accuracy: 0.9964 - val_loss: 0.0159 - val_accuracy: 0.9958\n",
            "Epoch 16/100\n",
            "469/469 [==============================] - 20s 44ms/step - loss: 0.0093 - accuracy: 0.9970 - val_loss: 0.0158 - val_accuracy: 0.9959\n",
            "Epoch 17/100\n",
            "469/469 [==============================] - 21s 45ms/step - loss: 0.0084 - accuracy: 0.9974 - val_loss: 0.0145 - val_accuracy: 0.9961\n",
            "Epoch 18/100\n",
            "469/469 [==============================] - 20s 44ms/step - loss: 0.0097 - accuracy: 0.9969 - val_loss: 0.0189 - val_accuracy: 0.9947\n",
            "Epoch 19/100\n",
            "469/469 [==============================] - 21s 45ms/step - loss: 0.0079 - accuracy: 0.9977 - val_loss: 0.0159 - val_accuracy: 0.9955\n",
            "Epoch 20/100\n",
            "469/469 [==============================] - 21s 44ms/step - loss: 0.0074 - accuracy: 0.9976 - val_loss: 0.0163 - val_accuracy: 0.9959\n",
            "Epoch 21/100\n",
            "469/469 [==============================] - 20s 44ms/step - loss: 0.0072 - accuracy: 0.9976 - val_loss: 0.0160 - val_accuracy: 0.9958\n",
            "Epoch 22/100\n",
            "469/469 [==============================] - 20s 44ms/step - loss: 0.0067 - accuracy: 0.9980 - val_loss: 0.0156 - val_accuracy: 0.9959\n",
            "Epoch 23/100\n",
            "469/469 [==============================] - 20s 44ms/step - loss: 0.0057 - accuracy: 0.9984 - val_loss: 0.0178 - val_accuracy: 0.9958\n",
            "Epoch 24/100\n",
            "469/469 [==============================] - 20s 44ms/step - loss: 0.0060 - accuracy: 0.9981 - val_loss: 0.0174 - val_accuracy: 0.9954\n",
            "Epoch 25/100\n",
            "469/469 [==============================] - 20s 44ms/step - loss: 0.0063 - accuracy: 0.9981 - val_loss: 0.0202 - val_accuracy: 0.9948\n",
            "Epoch 26/100\n",
            "469/469 [==============================] - 20s 44ms/step - loss: 0.0056 - accuracy: 0.9981 - val_loss: 0.0134 - val_accuracy: 0.9966\n",
            "Epoch 27/100\n",
            "469/469 [==============================] - 20s 44ms/step - loss: 0.0057 - accuracy: 0.9983 - val_loss: 0.0177 - val_accuracy: 0.9958\n",
            "Epoch 28/100\n",
            "469/469 [==============================] - 20s 44ms/step - loss: 0.0062 - accuracy: 0.9980 - val_loss: 0.0207 - val_accuracy: 0.9950\n",
            "Epoch 29/100\n",
            "469/469 [==============================] - 20s 44ms/step - loss: 0.0057 - accuracy: 0.9981 - val_loss: 0.0155 - val_accuracy: 0.9962\n",
            "Epoch 30/100\n",
            "469/469 [==============================] - 20s 44ms/step - loss: 0.0047 - accuracy: 0.9986 - val_loss: 0.0149 - val_accuracy: 0.9965\n",
            "Epoch 31/100\n",
            "469/469 [==============================] - 20s 44ms/step - loss: 0.0050 - accuracy: 0.9983 - val_loss: 0.0157 - val_accuracy: 0.9963\n",
            "Epoch 32/100\n",
            "469/469 [==============================] - 20s 44ms/step - loss: 0.0043 - accuracy: 0.9986 - val_loss: 0.0159 - val_accuracy: 0.9962\n",
            "Epoch 33/100\n",
            "469/469 [==============================] - 20s 44ms/step - loss: 0.0045 - accuracy: 0.9985 - val_loss: 0.0204 - val_accuracy: 0.9952\n",
            "Epoch 34/100\n",
            "469/469 [==============================] - 20s 44ms/step - loss: 0.0038 - accuracy: 0.9989 - val_loss: 0.0147 - val_accuracy: 0.9962\n",
            "Epoch 35/100\n",
            "469/469 [==============================] - 20s 43ms/step - loss: 0.0035 - accuracy: 0.9988 - val_loss: 0.0144 - val_accuracy: 0.9968\n",
            "Epoch 36/100\n",
            "469/469 [==============================] - 20s 44ms/step - loss: 0.0044 - accuracy: 0.9986 - val_loss: 0.0235 - val_accuracy: 0.9948\n",
            "Epoch 37/100\n",
            "469/469 [==============================] - 21s 44ms/step - loss: 0.0054 - accuracy: 0.9983 - val_loss: 0.0203 - val_accuracy: 0.9959\n",
            "Epoch 38/100\n",
            "469/469 [==============================] - 20s 44ms/step - loss: 0.0036 - accuracy: 0.9988 - val_loss: 0.0168 - val_accuracy: 0.9961\n",
            "Epoch 39/100\n",
            "469/469 [==============================] - 21s 45ms/step - loss: 0.0034 - accuracy: 0.9988 - val_loss: 0.0160 - val_accuracy: 0.9962\n",
            "Epoch 40/100\n",
            "469/469 [==============================] - 20s 43ms/step - loss: 0.0037 - accuracy: 0.9989 - val_loss: 0.0166 - val_accuracy: 0.9961\n",
            "Epoch 41/100\n",
            "469/469 [==============================] - 20s 43ms/step - loss: 0.0042 - accuracy: 0.9986 - val_loss: 0.0153 - val_accuracy: 0.9966\n",
            "Epoch 42/100\n",
            "469/469 [==============================] - 20s 43ms/step - loss: 0.0039 - accuracy: 0.9988 - val_loss: 0.0156 - val_accuracy: 0.9962\n",
            "Epoch 43/100\n",
            "469/469 [==============================] - 20s 43ms/step - loss: 0.0036 - accuracy: 0.9987 - val_loss: 0.0177 - val_accuracy: 0.9962\n",
            "Epoch 44/100\n",
            "469/469 [==============================] - 20s 43ms/step - loss: 0.0031 - accuracy: 0.9991 - val_loss: 0.0203 - val_accuracy: 0.9954\n",
            "Epoch 45/100\n",
            "469/469 [==============================] - 21s 45ms/step - loss: 0.0034 - accuracy: 0.9988 - val_loss: 0.0140 - val_accuracy: 0.9968\n",
            "Epoch 46/100\n",
            "469/469 [==============================] - 20s 43ms/step - loss: 0.0033 - accuracy: 0.9989 - val_loss: 0.0169 - val_accuracy: 0.9962\n",
            "Epoch 47/100\n",
            "469/469 [==============================] - 20s 43ms/step - loss: 0.0032 - accuracy: 0.9990 - val_loss: 0.0206 - val_accuracy: 0.9949\n",
            "Epoch 48/100\n",
            "469/469 [==============================] - 20s 43ms/step - loss: 0.0030 - accuracy: 0.9990 - val_loss: 0.0154 - val_accuracy: 0.9966\n",
            "Epoch 49/100\n",
            "469/469 [==============================] - 20s 43ms/step - loss: 0.0029 - accuracy: 0.9990 - val_loss: 0.0239 - val_accuracy: 0.9946\n",
            "Epoch 50/100\n",
            "469/469 [==============================] - 20s 43ms/step - loss: 0.0025 - accuracy: 0.9992 - val_loss: 0.0198 - val_accuracy: 0.9954\n",
            "Epoch 51/100\n",
            "469/469 [==============================] - 21s 45ms/step - loss: 0.0027 - accuracy: 0.9990 - val_loss: 0.0176 - val_accuracy: 0.9962\n",
            "Epoch 52/100\n",
            "469/469 [==============================] - 20s 43ms/step - loss: 0.0023 - accuracy: 0.9993 - val_loss: 0.0190 - val_accuracy: 0.9955\n",
            "Epoch 53/100\n",
            "469/469 [==============================] - 20s 43ms/step - loss: 0.0030 - accuracy: 0.9992 - val_loss: 0.0176 - val_accuracy: 0.9959\n",
            "Epoch 54/100\n",
            "469/469 [==============================] - 20s 43ms/step - loss: 0.0035 - accuracy: 0.9988 - val_loss: 0.0215 - val_accuracy: 0.9955\n",
            "Epoch 55/100\n",
            "469/469 [==============================] - 20s 44ms/step - loss: 0.0032 - accuracy: 0.9989 - val_loss: 0.0182 - val_accuracy: 0.9962\n",
            "Epoch 56/100\n",
            "469/469 [==============================] - 20s 43ms/step - loss: 0.0028 - accuracy: 0.9991 - val_loss: 0.0157 - val_accuracy: 0.9961\n",
            "Epoch 57/100\n",
            "469/469 [==============================] - 20s 43ms/step - loss: 0.0028 - accuracy: 0.9990 - val_loss: 0.0185 - val_accuracy: 0.9958\n",
            "Epoch 58/100\n",
            "469/469 [==============================] - 21s 45ms/step - loss: 0.0027 - accuracy: 0.9992 - val_loss: 0.0237 - val_accuracy: 0.9945\n",
            "Epoch 59/100\n",
            "469/469 [==============================] - 20s 43ms/step - loss: 0.0026 - accuracy: 0.9993 - val_loss: 0.0251 - val_accuracy: 0.9946\n",
            "Epoch 60/100\n",
            "469/469 [==============================] - 20s 43ms/step - loss: 0.0018 - accuracy: 0.9993 - val_loss: 0.0174 - val_accuracy: 0.9966\n",
            "Epoch 61/100\n",
            "469/469 [==============================] - 20s 43ms/step - loss: 0.0017 - accuracy: 0.9995 - val_loss: 0.0189 - val_accuracy: 0.9959\n",
            "Epoch 62/100\n",
            "469/469 [==============================] - 20s 43ms/step - loss: 0.0028 - accuracy: 0.9992 - val_loss: 0.0183 - val_accuracy: 0.9961\n",
            "Epoch 63/100\n",
            "469/469 [==============================] - 20s 43ms/step - loss: 0.0019 - accuracy: 0.9994 - val_loss: 0.0173 - val_accuracy: 0.9969\n",
            "Epoch 64/100\n",
            "469/469 [==============================] - 20s 43ms/step - loss: 0.0017 - accuracy: 0.9995 - val_loss: 0.0141 - val_accuracy: 0.9969\n",
            "Epoch 65/100\n",
            "469/469 [==============================] - 20s 43ms/step - loss: 0.0023 - accuracy: 0.9993 - val_loss: 0.0177 - val_accuracy: 0.9964\n",
            "Epoch 66/100\n",
            "469/469 [==============================] - 20s 43ms/step - loss: 0.0019 - accuracy: 0.9993 - val_loss: 0.0189 - val_accuracy: 0.9961\n",
            "Epoch 67/100\n",
            "469/469 [==============================] - 20s 43ms/step - loss: 0.0015 - accuracy: 0.9995 - val_loss: 0.0218 - val_accuracy: 0.9951\n",
            "Epoch 68/100\n",
            "469/469 [==============================] - 20s 43ms/step - loss: 0.0019 - accuracy: 0.9994 - val_loss: 0.0220 - val_accuracy: 0.9956\n",
            "Epoch 69/100\n",
            "469/469 [==============================] - 20s 43ms/step - loss: 0.0021 - accuracy: 0.9993 - val_loss: 0.0172 - val_accuracy: 0.9961\n",
            "Epoch 70/100\n",
            "469/469 [==============================] - 20s 43ms/step - loss: 0.0027 - accuracy: 0.9991 - val_loss: 0.0182 - val_accuracy: 0.9965\n",
            "Epoch 71/100\n",
            "469/469 [==============================] - 20s 43ms/step - loss: 0.0018 - accuracy: 0.9994 - val_loss: 0.0168 - val_accuracy: 0.9965\n",
            "Epoch 72/100\n",
            "469/469 [==============================] - 21s 45ms/step - loss: 0.0013 - accuracy: 0.9995 - val_loss: 0.0180 - val_accuracy: 0.9967\n",
            "Epoch 73/100\n",
            "469/469 [==============================] - 20s 43ms/step - loss: 0.0014 - accuracy: 0.9995 - val_loss: 0.0169 - val_accuracy: 0.9966\n",
            "Epoch 74/100\n",
            "469/469 [==============================] - 21s 45ms/step - loss: 0.0017 - accuracy: 0.9995 - val_loss: 0.0182 - val_accuracy: 0.9965\n",
            "Epoch 75/100\n",
            "469/469 [==============================] - 20s 43ms/step - loss: 0.0019 - accuracy: 0.9994 - val_loss: 0.0162 - val_accuracy: 0.9967\n",
            "Epoch 76/100\n",
            "469/469 [==============================] - 20s 43ms/step - loss: 0.0015 - accuracy: 0.9995 - val_loss: 0.0166 - val_accuracy: 0.9966\n",
            "Epoch 77/100\n",
            "469/469 [==============================] - 20s 43ms/step - loss: 0.0013 - accuracy: 0.9995 - val_loss: 0.0153 - val_accuracy: 0.9972\n",
            "Epoch 78/100\n",
            "469/469 [==============================] - 20s 43ms/step - loss: 0.0019 - accuracy: 0.9994 - val_loss: 0.0180 - val_accuracy: 0.9965\n",
            "Epoch 79/100\n",
            "469/469 [==============================] - 20s 43ms/step - loss: 0.0019 - accuracy: 0.9994 - val_loss: 0.0187 - val_accuracy: 0.9961\n",
            "Epoch 80/100\n",
            "469/469 [==============================] - 20s 43ms/step - loss: 0.0013 - accuracy: 0.9995 - val_loss: 0.0209 - val_accuracy: 0.9956\n",
            "Epoch 81/100\n",
            "469/469 [==============================] - 20s 43ms/step - loss: 0.0017 - accuracy: 0.9995 - val_loss: 0.0162 - val_accuracy: 0.9967\n",
            "Epoch 82/100\n",
            "469/469 [==============================] - 20s 44ms/step - loss: 0.0015 - accuracy: 0.9995 - val_loss: 0.0170 - val_accuracy: 0.9966\n",
            "Epoch 83/100\n",
            "469/469 [==============================] - 20s 43ms/step - loss: 0.0014 - accuracy: 0.9995 - val_loss: 0.0221 - val_accuracy: 0.9959\n",
            "Epoch 84/100\n",
            "469/469 [==============================] - 20s 43ms/step - loss: 0.0014 - accuracy: 0.9995 - val_loss: 0.0168 - val_accuracy: 0.9967\n",
            "Epoch 85/100\n",
            "469/469 [==============================] - 20s 43ms/step - loss: 0.0013 - accuracy: 0.9996 - val_loss: 0.0168 - val_accuracy: 0.9966\n",
            "Epoch 86/100\n",
            "469/469 [==============================] - 20s 43ms/step - loss: 0.0016 - accuracy: 0.9995 - val_loss: 0.0173 - val_accuracy: 0.9958\n",
            "Epoch 87/100\n",
            "469/469 [==============================] - 20s 43ms/step - loss: 0.0011 - accuracy: 0.9996 - val_loss: 0.0199 - val_accuracy: 0.9959\n",
            "Epoch 88/100\n",
            "469/469 [==============================] - 20s 43ms/step - loss: 0.0013 - accuracy: 0.9995 - val_loss: 0.0175 - val_accuracy: 0.9967\n",
            "Epoch 89/100\n",
            "469/469 [==============================] - 21s 45ms/step - loss: 9.3864e-04 - accuracy: 0.9997 - val_loss: 0.0178 - val_accuracy: 0.9965\n",
            "Epoch 90/100\n",
            "469/469 [==============================] - 20s 44ms/step - loss: 0.0015 - accuracy: 0.9995 - val_loss: 0.0168 - val_accuracy: 0.9969\n",
            "Epoch 91/100\n",
            "469/469 [==============================] - 21s 44ms/step - loss: 8.9426e-04 - accuracy: 0.9997 - val_loss: 0.0167 - val_accuracy: 0.9966\n",
            "Epoch 92/100\n",
            "469/469 [==============================] - 20s 43ms/step - loss: 0.0016 - accuracy: 0.9995 - val_loss: 0.0177 - val_accuracy: 0.9966\n",
            "Epoch 93/100\n",
            "469/469 [==============================] - 20s 43ms/step - loss: 0.0017 - accuracy: 0.9993 - val_loss: 0.0201 - val_accuracy: 0.9965\n",
            "Epoch 94/100\n",
            "469/469 [==============================] - 20s 43ms/step - loss: 9.6379e-04 - accuracy: 0.9997 - val_loss: 0.0188 - val_accuracy: 0.9962\n",
            "Epoch 95/100\n",
            "469/469 [==============================] - 20s 43ms/step - loss: 0.0014 - accuracy: 0.9996 - val_loss: 0.0205 - val_accuracy: 0.9959\n",
            "Epoch 96/100\n",
            "469/469 [==============================] - 20s 43ms/step - loss: 0.0019 - accuracy: 0.9993 - val_loss: 0.0214 - val_accuracy: 0.9962\n",
            "Epoch 97/100\n",
            "469/469 [==============================] - 20s 43ms/step - loss: 0.0014 - accuracy: 0.9995 - val_loss: 0.0257 - val_accuracy: 0.9954\n",
            "Epoch 98/100\n",
            "469/469 [==============================] - 20s 43ms/step - loss: 0.0011 - accuracy: 0.9997 - val_loss: 0.0169 - val_accuracy: 0.9963\n",
            "Epoch 99/100\n",
            "469/469 [==============================] - 20s 44ms/step - loss: 0.0017 - accuracy: 0.9995 - val_loss: 0.0195 - val_accuracy: 0.9964\n",
            "Epoch 100/100\n",
            "469/469 [==============================] - 20s 43ms/step - loss: 0.0011 - accuracy: 0.9995 - val_loss: 0.0190 - val_accuracy: 0.9964\n"
          ]
        }
      ]
    },
    {
      "cell_type": "code",
      "source": [
        "accuracy_plot(history1)\n",
        "loss_plot(history1)\n",
        "report(model_mom , x_test , y_test )"
      ],
      "metadata": {
        "colab": {
          "base_uri": "https://localhost:8080/",
          "height": 1000
        },
        "id": "Kih3kf531heT",
        "outputId": "a52c9f36-813e-48b3-c019-a7d5849d9c3d"
      },
      "execution_count": 13,
      "outputs": [
        {
          "output_type": "stream",
          "name": "stdout",
          "text": [
            "625/625 [==============================] - 4s 5ms/step\n",
            "625/625 [==============================] - 4s 6ms/step - loss: 0.0190 - accuracy: 0.9964\n",
            "test loss = 0.018995\n",
            "test accuracy = 0.996400\n",
            "Accuracy: 0.996400\n",
            "Precision: 0.996405\n",
            "Recall: 0.996400\n",
            "F1 score: 0.996399\n",
            "              precision    recall  f1-score   support\n",
            "\n",
            "           0       1.00      1.00      1.00      2000\n",
            "           1       1.00      1.00      1.00      2000\n",
            "           2       0.99      0.99      0.99      2000\n",
            "           3       0.99      0.99      0.99      2000\n",
            "           4       0.99      1.00      0.99      2000\n",
            "           5       1.00      1.00      1.00      2000\n",
            "           6       1.00      1.00      1.00      2000\n",
            "           7       1.00      1.00      1.00      2000\n",
            "           8       1.00      1.00      1.00      2000\n",
            "           9       1.00      1.00      1.00      2000\n",
            "\n",
            "    accuracy                           1.00     20000\n",
            "   macro avg       1.00      1.00      1.00     20000\n",
            "weighted avg       1.00      1.00      1.00     20000\n",
            "\n"
          ]
        },
        {
          "output_type": "display_data",
          "data": {
            "text/plain": [
              "<Figure size 432x288 with 1 Axes>"
            ],
            "image/png": "[encoded data removed]"
          },
          "metadata": {
            "needs_background": "light"
          }
        },
        {
          "output_type": "display_data",
          "data": {
            "text/plain": [
              "<Figure size 432x288 with 1 Axes>"
            ],
            "image/png": "[encoded data removed]"
          },
          "metadata": {
            "needs_background": "light"
          }
        },
        {
          "output_type": "display_data",
          "data": {
            "text/plain": [
              "<Figure size 432x288 with 2 Axes>"
            ],
            "image/png": "[encoded data removed]"
          },
          "metadata": {
            "needs_background": "light"
          }
        }
      ]
    },
    {
      "cell_type": "code",
      "source": [],
      "metadata": {
        "id": "QtjI40eb24RL"
      },
      "execution_count": null,
      "outputs": []
    }
  ]
}