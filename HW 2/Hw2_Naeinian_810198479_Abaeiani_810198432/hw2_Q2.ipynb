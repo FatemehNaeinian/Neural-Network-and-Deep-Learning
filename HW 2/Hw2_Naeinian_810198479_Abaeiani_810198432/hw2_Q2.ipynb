{
  "cells": [
    {
      "cell_type": "code",
      "execution_count": 11,
      "metadata": {
        "id": "_KUeeqTEGeF_"
      },
      "outputs": [],
      "source": [
        "import cv2\n",
        "import matplotlib.pyplot as plt\n",
        "import numpy as np\n",
        "from keras.datasets import fashion_mnist\n",
        "from keras.utils import to_categorical\n",
        "from keras import datasets, layers, models\n",
        "from sklearn.model_selection import train_test_split\n",
        "from keras.optimizers import SGD"
      ]
    },
    {
      "cell_type": "code",
      "execution_count": 2,
      "metadata": {
        "colab": {
          "base_uri": "https://localhost:8080/"
        },
        "id": "0duhn0HOHhe1",
        "outputId": "d1d0e9b5-cfa6-4ca5-c9a7-159a43cbf489"
      },
      "outputs": [
        {
          "output_type": "stream",
          "name": "stdout",
          "text": [
            "Downloading data from https://storage.googleapis.com/tensorflow/tf-keras-datasets/train-labels-idx1-ubyte.gz\n",
            "29515/29515 [==============================] - 0s 0us/step\n",
            "Downloading data from https://storage.googleapis.com/tensorflow/tf-keras-datasets/train-images-idx3-ubyte.gz\n",
            "26421880/26421880 [==============================] - 0s 0us/step\n",
            "Downloading data from https://storage.googleapis.com/tensorflow/tf-keras-datasets/t10k-labels-idx1-ubyte.gz\n",
            "5148/5148 [==============================] - 0s 0us/step\n",
            "Downloading data from https://storage.googleapis.com/tensorflow/tf-keras-datasets/t10k-images-idx3-ubyte.gz\n",
            "4422102/4422102 [==============================] - 0s 0us/step\n"
          ]
        }
      ],
      "source": [
        "(x_train, y_train), (x_test, y_test) = fashion_mnist.load_data()\n",
        "X = np.concatenate([x_train, x_test], axis=0)\n",
        "Y = np.concatenate([y_train, y_test], axis=0)\n",
        "Y = to_categorical(Y)"
      ]
    },
    {
      "cell_type": "code",
      "execution_count": 3,
      "metadata": {
        "id": "IbWpeAlaJBHr"
      },
      "outputs": [],
      "source": [
        "from sklearn.model_selection import train_test_split\n",
        "x_train, x_test, y_train, y_test = train_test_split(X, Y, test_size=0.2, random_state=4)\n"
      ]
    },
    {
      "cell_type": "code",
      "execution_count": 4,
      "metadata": {
        "id": "VfyLDnbonssg"
      },
      "outputs": [],
      "source": [
        "from sklearn.metrics import precision_score , recall_score, f1_score, accuracy_score\n",
        "\n",
        "def report(model, x_test, y_test):\n",
        "  Y_pred = model.predict(x_test)\n",
        "  y_pred = np.argmax(Y_pred, axis=1)\n",
        "  Y_test = np.argmax(y_test, axis=1)\n",
        "\n",
        "  test_loss,test_accuracy = model.evaluate(x_test,y_test)\n",
        "  print('test loss = %f' % test_loss)\n",
        "  print('test accuracy = %f' % test_accuracy)\n",
        "  # accuracy: (tp + tn) / (p + n)\n",
        "  accuracy = accuracy_score(Y_test, y_pred)\n",
        "  print('Accuracy: %f' % accuracy)\n",
        "  # precision tp / (tp + fp)\n",
        "  precision = precision_score(Y_test, y_pred, average='macro')\n",
        "  print('Precision: %f' % precision)\n",
        "  # recall: tp / (tp + fn)\n",
        "  recall = recall_score(Y_test, y_pred, average='macro')\n",
        "  print('Recall: %f' % recall)\n",
        "  # f1: 2 tp / (2 tp + fp + fn)\n",
        "  f1 = f1_score(Y_test, y_pred, average='macro')\n",
        "  print('F1 score: %f' % f1)"
      ]
    },
    {
      "cell_type": "code",
      "execution_count": 5,
      "metadata": {
        "id": "CRtU9XbSkzLu"
      },
      "outputs": [],
      "source": [
        "def model1(x_train, y_train, x_test, y_test, optimizer):\n",
        "  model1 = models.Sequential()\n",
        "  model1.add(layers.Flatten(input_shape=(28, 28)))\n",
        "  model1.add(layers.Dense(128, activation=\"relu\"))\n",
        "  model1.add(layers.Dense(10,activation=\"softmax\"))\n",
        "  model1.compile(optimizer, loss='categorical_crossentropy', metrics=['accuracy'])\n",
        "  history1 = model1.fit(x_train, y_train, epochs=10, batch_size=32, validation_data=(x_test, y_test))\n",
        "  report(model1, x_test, y_test)"
      ]
    },
    {
      "cell_type": "code",
      "execution_count": 6,
      "metadata": {
        "id": "BJYD0FhNkyQd"
      },
      "outputs": [],
      "source": [
        "def model2(x_train, y_train, x_test, y_test, optimizer ):\n",
        "  model2 = models.Sequential()\n",
        "  model2.add(layers.Conv2D(64, (2, 2), activation='relu', input_shape=(28, 28, 1)))\n",
        "  model2.add(layers.MaxPooling2D((2, 2)))\n",
        "  model2.add(layers.Dropout(.25))\n",
        "  model2.add(layers.Conv2D(64, (2, 2), activation='relu'))\n",
        "  model2.add(layers.Dropout(.25))\n",
        "  model2.add(layers.Flatten())\n",
        "  model2.add(layers.Dense(64, activation=\"relu\"))\n",
        "  model2.add(layers.Dropout(.25))\n",
        "  model2.add(layers.Dense(10,activation=\"softmax\"))\n",
        "  model2.compile(optimizer, loss='categorical_crossentropy', metrics=['accuracy'])\n",
        "  history2 = model2.fit(x_train, y_train, epochs=10, batch_size=32, validation_data=(x_test, y_test))\n",
        "  report(model2, x_test, y_test)"
      ]
    },
    {
      "cell_type": "code",
      "execution_count": 7,
      "metadata": {
        "id": "m_TLXFzckzAu"
      },
      "outputs": [],
      "source": [
        "def model3(x_train, y_train, x_test, y_test, optimizer ):\n",
        "  model3 = models.Sequential()\n",
        "  model3.add(layers.Conv2D(64, (2, 2), activation='relu', input_shape=(28, 28, 1)))\n",
        "  model3.add(layers.MaxPooling2D((2, 2)))\n",
        "  model3.add(layers.Dropout(.25))\n",
        "  model3.add(layers.Conv2D(64, (2, 2), activation='relu'))\n",
        "  model3.add(layers.MaxPooling2D((2, 2)))\n",
        "  model3.add(layers.Dropout(.25))\n",
        "  model3.add(layers.Conv2D(64, (2, 2), activation='relu'))\n",
        "  model3.add(layers.Dropout(.25))\n",
        "  model3.add(layers.Flatten())\n",
        "  model3.add(layers.Dense(64, activation=\"relu\"))\n",
        "  model3.add(layers.Dropout(.25))\n",
        "  model3.add(layers.Dense(10,activation=\"softmax\"))\n",
        "  model3.compile(optimizer, loss='categorical_crossentropy', metrics=['accuracy'])\n",
        "  history3 = model3.fit(x_train, y_train, epochs=10, batch_size=32, validation_data=(x_test, y_test))\n",
        "  report(model3, x_test, y_test)"
      ]
    },
    {
      "cell_type": "code",
      "execution_count": 8,
      "metadata": {
        "id": "RpyvNRWbky1A"
      },
      "outputs": [],
      "source": [
        "def model4(x_train, y_train, x_test, y_test, optimizer ):\n",
        "  model4 = models.Sequential()\n",
        "  model4.add(layers.Conv2D(64, (2, 2), activation='relu', input_shape=(28, 28, 1)))\n",
        "  model4.add(layers.MaxPooling2D((2, 2)))\n",
        "  model4.add(layers.Dropout(.25))\n",
        "  model4.add(layers.Conv2D(64, (2, 2), activation='relu'))\n",
        "  model4.add(layers.MaxPooling2D((2, 2)))\n",
        "  model4.add(layers.Dropout(.25))\n",
        "  model4.add(layers.Conv2D(64, (2, 2), activation='relu'))\n",
        "  model4.add(layers.MaxPooling2D((2, 2)))\n",
        "  model4.add(layers.Dropout(.25))\n",
        "  model4.add(layers.Conv2D(64, (2, 2), activation='relu'))\n",
        "  model4.add(layers.Dropout(.25))\n",
        "  model4.add(layers.Flatten())\n",
        "  model4.add(layers.Dense(64, activation=\"relu\"))\n",
        "  model4.add(layers.Dropout(.25))\n",
        "  model4.add(layers.Dense(10,activation=\"softmax\"))\n",
        "  model4.compile(optimizer, loss='categorical_crossentropy', metrics=['accuracy'])\n",
        "  history4 = model4.fit(x_train, y_train, epochs=10, batch_size=32, validation_data=(x_test, y_test))\n",
        "  report(model4, x_test, y_test)"
      ]
    },
    {
      "cell_type": "code",
      "execution_count": 9,
      "metadata": {
        "id": "pOBl9XaukyqU"
      },
      "outputs": [],
      "source": [
        "def model5(x_train, y_train, x_test, y_test, optimizer ):\n",
        "  model5 = models.Sequential()\n",
        "  model5.add(layers.Conv2D(64, (3, 3), activation='relu', input_shape=(28, 28, 1)))\n",
        "  model5.add(layers.Conv2D(64, (3, 3), activation='relu'))\n",
        "  model5.add(layers.MaxPooling2D((2, 2)))\n",
        "  model5.add(layers.Dropout(.25))\n",
        "  model5.add(layers.Conv2D(64, (3, 3), activation='relu'))\n",
        "  model5.add(layers.Conv2D(64, (3, 3), activation='relu'))\n",
        "  model5.add(layers.MaxPooling2D((2, 2)))\n",
        "  model5.add(layers.Dropout(.25))\n",
        "  model5.add(layers.Flatten())\n",
        "  model5.add(layers.Dense(512, activation=\"relu\"))\n",
        "  model5.add(layers.Dropout(.5))\n",
        "  model5.add(layers.Dense(10,activation=\"softmax\"))\n",
        "  model5.compile(optimizer, loss='categorical_crossentropy', metrics=['accuracy'])\n",
        "  history5 = model5.fit(x_train, y_train, epochs=10, batch_size=32, validation_data=(x_test, y_test))\n",
        "  report(model5, x_test, y_test)"
      ]
    },
    {
      "cell_type": "code",
      "execution_count": null,
      "metadata": {
        "colab": {
          "base_uri": "https://localhost:8080/"
        },
        "id": "cfrmtU7xPJYX",
        "outputId": "cf8e0257-b1e0-4768-b301-ecb7fc911a07"
      },
      "outputs": [
        {
          "name": "stdout",
          "output_type": "stream",
          "text": [
            "Epoch 1/10\n",
            "1750/1750 [==============================] - 7s 4ms/step - loss: 2.9507 - accuracy: 0.7016 - val_loss: 0.7640 - val_accuracy: 0.7290\n",
            "Epoch 2/10\n",
            "1750/1750 [==============================] - 6s 3ms/step - loss: 0.6790 - accuracy: 0.7631 - val_loss: 0.6193 - val_accuracy: 0.7853\n",
            "Epoch 3/10\n",
            "1750/1750 [==============================] - 5s 3ms/step - loss: 0.5702 - accuracy: 0.7972 - val_loss: 0.6661 - val_accuracy: 0.7797\n",
            "Epoch 4/10\n",
            "1750/1750 [==============================] - 6s 3ms/step - loss: 0.5400 - accuracy: 0.8100 - val_loss: 0.5170 - val_accuracy: 0.8230\n",
            "Epoch 5/10\n",
            "1750/1750 [==============================] - 5s 3ms/step - loss: 0.5174 - accuracy: 0.8183 - val_loss: 0.5126 - val_accuracy: 0.8173\n",
            "Epoch 6/10\n",
            "1750/1750 [==============================] - 5s 3ms/step - loss: 0.5002 - accuracy: 0.8256 - val_loss: 0.5112 - val_accuracy: 0.8284\n",
            "Epoch 7/10\n",
            "1750/1750 [==============================] - 5s 3ms/step - loss: 0.4913 - accuracy: 0.8316 - val_loss: 0.5047 - val_accuracy: 0.8321\n",
            "Epoch 8/10\n",
            "1750/1750 [==============================] - 6s 3ms/step - loss: 0.4808 - accuracy: 0.8344 - val_loss: 0.4772 - val_accuracy: 0.8414\n",
            "Epoch 9/10\n",
            "1750/1750 [==============================] - 5s 3ms/step - loss: 0.4733 - accuracy: 0.8371 - val_loss: 0.5142 - val_accuracy: 0.8336\n",
            "Epoch 10/10\n",
            "1750/1750 [==============================] - 6s 3ms/step - loss: 0.4801 - accuracy: 0.8360 - val_loss: 0.4996 - val_accuracy: 0.8411\n",
            "438/438 [==============================] - 1s 2ms/step\n",
            "438/438 [==============================] - 1s 3ms/step - loss: 0.4996 - accuracy: 0.8411\n",
            "test loss = 0.499587\n",
            "test accuracy = 0.841143\n",
            "Accuracy: 0.841143\n",
            "Precision: 0.849838\n",
            "Recall: 0.840800\n",
            "F1 score: 0.842095\n"
          ]
        }
      ],
      "source": [
        "model1(x_train, y_train, x_test, y_test, \"adam\" )"
      ]
    },
    {
      "cell_type": "code",
      "execution_count": 13,
      "metadata": {
        "colab": {
          "base_uri": "https://localhost:8080/"
        },
        "id": "WLAsSv7gmfUb",
        "outputId": "ba1a706e-d4b4-4d81-cf61-e02926abd67f"
      },
      "outputs": [
        {
          "output_type": "stream",
          "name": "stdout",
          "text": [
            "Epoch 1/10\n",
            "1750/1750 [==============================] - 5s 3ms/step - loss: 10.9715 - accuracy: 0.2801 - val_loss: 1.6699 - val_accuracy: 0.3921\n",
            "Epoch 2/10\n",
            "1750/1750 [==============================] - 8s 4ms/step - loss: 1.4153 - accuracy: 0.4976 - val_loss: 1.3257 - val_accuracy: 0.5246\n",
            "Epoch 3/10\n",
            "1750/1750 [==============================] - 7s 4ms/step - loss: 1.2898 - accuracy: 0.5324 - val_loss: 1.4554 - val_accuracy: 0.5296\n",
            "Epoch 4/10\n",
            "1750/1750 [==============================] - 5s 3ms/step - loss: 1.1336 - accuracy: 0.6064 - val_loss: 1.1976 - val_accuracy: 0.5532\n",
            "Epoch 5/10\n",
            "1750/1750 [==============================] - 5s 3ms/step - loss: 1.0496 - accuracy: 0.6329 - val_loss: 0.8757 - val_accuracy: 0.6973\n",
            "Epoch 6/10\n",
            "1750/1750 [==============================] - 6s 4ms/step - loss: 0.9083 - accuracy: 0.6870 - val_loss: 0.9258 - val_accuracy: 0.6969\n",
            "Epoch 7/10\n",
            "1750/1750 [==============================] - 6s 3ms/step - loss: 0.8936 - accuracy: 0.6820 - val_loss: 0.8376 - val_accuracy: 0.6961\n",
            "Epoch 8/10\n",
            "1750/1750 [==============================] - 5s 3ms/step - loss: 0.7882 - accuracy: 0.7146 - val_loss: 0.9094 - val_accuracy: 0.6563\n",
            "Epoch 9/10\n",
            "1750/1750 [==============================] - 5s 3ms/step - loss: 0.7543 - accuracy: 0.7198 - val_loss: 0.7216 - val_accuracy: 0.7374\n",
            "Epoch 10/10\n",
            "1750/1750 [==============================] - 5s 3ms/step - loss: 0.7265 - accuracy: 0.7286 - val_loss: 0.9956 - val_accuracy: 0.6619\n",
            "438/438 [==============================] - 1s 1ms/step\n",
            "438/438 [==============================] - 1s 2ms/step - loss: 0.9956 - accuracy: 0.6619\n",
            "test loss = 0.995593\n",
            "test accuracy = 0.661929\n",
            "Accuracy: 0.661929\n",
            "Precision: 0.709880\n",
            "Recall: 0.660749\n",
            "F1 score: 0.606599\n"
          ]
        }
      ],
      "source": [
        "opt = SGD(lr=0.002)\n",
        "model1(x_train, y_train, x_test, y_test, opt )"
      ]
    },
    {
      "cell_type": "code",
      "execution_count": null,
      "metadata": {
        "colab": {
          "background_save": true,
          "base_uri": "https://localhost:8080/"
        },
        "id": "Yoc-gOl2mfWv",
        "outputId": "8c5a390d-f906-4a16-e431-321ab3fef960"
      },
      "outputs": [
        {
          "name": "stdout",
          "output_type": "stream",
          "text": [
            "Epoch 1/10\n",
            "1750/1750 [==============================] - 97s 54ms/step - loss: 0.8216 - accuracy: 0.7396 - val_loss: 0.4125 - val_accuracy: 0.8518\n",
            "Epoch 2/10\n",
            "1750/1750 [==============================] - 91s 52ms/step - loss: 0.4739 - accuracy: 0.8239 - val_loss: 0.3476 - val_accuracy: 0.8712\n",
            "Epoch 3/10\n",
            "1750/1750 [==============================] - 92s 53ms/step - loss: 0.4113 - accuracy: 0.8486 - val_loss: 0.3245 - val_accuracy: 0.8775\n",
            "Epoch 4/10\n",
            "1750/1750 [==============================] - 96s 55ms/step - loss: 0.3728 - accuracy: 0.8645 - val_loss: 0.3072 - val_accuracy: 0.8861\n",
            "Epoch 5/10\n",
            "1750/1750 [==============================] - 89s 51ms/step - loss: 0.3542 - accuracy: 0.8706 - val_loss: 0.2956 - val_accuracy: 0.8924\n",
            "Epoch 6/10\n",
            "1750/1750 [==============================] - 90s 52ms/step - loss: 0.3334 - accuracy: 0.8770 - val_loss: 0.2763 - val_accuracy: 0.8970\n",
            "Epoch 7/10\n",
            "1750/1750 [==============================] - 89s 51ms/step - loss: 0.3242 - accuracy: 0.8809 - val_loss: 0.2733 - val_accuracy: 0.9001\n",
            "Epoch 8/10\n",
            "1750/1750 [==============================] - 89s 51ms/step - loss: 0.3097 - accuracy: 0.8851 - val_loss: 0.2967 - val_accuracy: 0.8926\n",
            "Epoch 9/10\n",
            "1750/1750 [==============================] - 91s 52ms/step - loss: 0.2973 - accuracy: 0.8899 - val_loss: 0.2714 - val_accuracy: 0.8996\n",
            "Epoch 10/10\n",
            "1750/1750 [==============================] - 88s 50ms/step - loss: 0.2932 - accuracy: 0.8924 - val_loss: 0.2812 - val_accuracy: 0.9006\n",
            "438/438 [==============================] - 5s 12ms/step\n",
            "438/438 [==============================] - 5s 12ms/step - loss: 0.2812 - accuracy: 0.9006\n",
            "test loss = 0.281230\n",
            "test accuracy = 0.900571\n",
            "Accuracy: 0.900571\n",
            "Precision: 0.904001\n",
            "Recall: 0.900232\n",
            "F1 score: 0.900499\n"
          ]
        }
      ],
      "source": [
        "model2(x_train, y_train, x_test, y_test, \"adam\" )"
      ]
    },
    {
      "cell_type": "code",
      "execution_count": 14,
      "metadata": {
        "colab": {
          "base_uri": "https://localhost:8080/"
        },
        "id": "ynr_ocS9mfaK",
        "outputId": "d8ed4f2e-352e-4703-805e-88308880705b"
      },
      "outputs": [
        {
          "output_type": "stream",
          "name": "stdout",
          "text": [
            "Epoch 1/10\n"
          ]
        },
        {
          "output_type": "stream",
          "name": "stderr",
          "text": [
            "/usr/local/lib/python3.7/dist-packages/keras/optimizers/optimizer_v2/gradient_descent.py:108: UserWarning: The `lr` argument is deprecated, use `learning_rate` instead.\n",
            "  super(SGD, self).__init__(name, **kwargs)\n"
          ]
        },
        {
          "output_type": "stream",
          "name": "stdout",
          "text": [
            "1750/1750 [==============================] - 13s 4ms/step - loss: 0.9393 - accuracy: 0.6639 - val_loss: 0.5166 - val_accuracy: 0.7974\n",
            "Epoch 2/10\n",
            "1750/1750 [==============================] - 7s 4ms/step - loss: 0.6168 - accuracy: 0.7678 - val_loss: 0.4510 - val_accuracy: 0.8317\n",
            "Epoch 3/10\n",
            "1750/1750 [==============================] - 7s 4ms/step - loss: 0.5485 - accuracy: 0.7950 - val_loss: 0.4025 - val_accuracy: 0.8562\n",
            "Epoch 4/10\n",
            "1750/1750 [==============================] - 7s 4ms/step - loss: 0.5022 - accuracy: 0.8124 - val_loss: 0.3813 - val_accuracy: 0.8614\n",
            "Epoch 5/10\n",
            "1750/1750 [==============================] - 7s 4ms/step - loss: 0.4731 - accuracy: 0.8264 - val_loss: 0.3576 - val_accuracy: 0.8699\n",
            "Epoch 6/10\n",
            "1750/1750 [==============================] - 7s 4ms/step - loss: 0.4508 - accuracy: 0.8352 - val_loss: 0.3489 - val_accuracy: 0.8722\n",
            "Epoch 7/10\n",
            "1750/1750 [==============================] - 7s 4ms/step - loss: 0.4321 - accuracy: 0.8423 - val_loss: 0.3402 - val_accuracy: 0.8749\n",
            "Epoch 8/10\n",
            "1750/1750 [==============================] - 7s 4ms/step - loss: 0.4171 - accuracy: 0.8476 - val_loss: 0.3227 - val_accuracy: 0.8849\n",
            "Epoch 9/10\n",
            "1750/1750 [==============================] - 7s 4ms/step - loss: 0.4028 - accuracy: 0.8526 - val_loss: 0.3208 - val_accuracy: 0.8811\n",
            "Epoch 10/10\n",
            "1750/1750 [==============================] - 7s 4ms/step - loss: 0.3916 - accuracy: 0.8556 - val_loss: 0.3106 - val_accuracy: 0.8874\n",
            "438/438 [==============================] - 1s 2ms/step\n",
            "438/438 [==============================] - 1s 3ms/step - loss: 0.3106 - accuracy: 0.8874\n",
            "test loss = 0.310645\n",
            "test accuracy = 0.887429\n",
            "Accuracy: 0.887429\n",
            "Precision: 0.887674\n",
            "Recall: 0.886868\n",
            "F1 score: 0.886596\n"
          ]
        }
      ],
      "source": [
        "opt = SGD(lr=0.002)\n",
        "model2(x_train, y_train, x_test, y_test, opt )"
      ]
    },
    {
      "cell_type": "code",
      "execution_count": null,
      "metadata": {
        "colab": {
          "base_uri": "https://localhost:8080/"
        },
        "id": "7FX51o3zmfoW",
        "outputId": "f4400071-170f-471f-9c7c-61b6fdaeb538"
      },
      "outputs": [
        {
          "name": "stdout",
          "output_type": "stream",
          "text": [
            "Epoch 1/10\n",
            "1750/1750 [==============================] - 15s 5ms/step - loss: 1.0470 - accuracy: 0.6587 - val_loss: 0.4780 - val_accuracy: 0.8275\n",
            "Epoch 2/10\n",
            "1750/1750 [==============================] - 8s 5ms/step - loss: 0.5542 - accuracy: 0.7944 - val_loss: 0.4037 - val_accuracy: 0.8553\n",
            "Epoch 3/10\n",
            "1750/1750 [==============================] - 8s 5ms/step - loss: 0.4837 - accuracy: 0.8227 - val_loss: 0.3729 - val_accuracy: 0.8658\n",
            "Epoch 4/10\n",
            "1750/1750 [==============================] - 8s 5ms/step - loss: 0.4420 - accuracy: 0.8403 - val_loss: 0.3438 - val_accuracy: 0.8684\n",
            "Epoch 5/10\n",
            "1750/1750 [==============================] - 8s 4ms/step - loss: 0.4193 - accuracy: 0.8463 - val_loss: 0.3344 - val_accuracy: 0.8709\n",
            "Epoch 6/10\n",
            "1750/1750 [==============================] - 8s 5ms/step - loss: 0.4005 - accuracy: 0.8534 - val_loss: 0.3154 - val_accuracy: 0.8793\n",
            "Epoch 7/10\n",
            "1750/1750 [==============================] - 8s 5ms/step - loss: 0.3804 - accuracy: 0.8604 - val_loss: 0.3028 - val_accuracy: 0.8854\n",
            "Epoch 8/10\n",
            "1750/1750 [==============================] - 8s 5ms/step - loss: 0.3662 - accuracy: 0.8654 - val_loss: 0.2792 - val_accuracy: 0.8942\n",
            "Epoch 9/10\n",
            "1750/1750 [==============================] - 8s 5ms/step - loss: 0.3545 - accuracy: 0.8692 - val_loss: 0.2819 - val_accuracy: 0.8901\n",
            "Epoch 10/10\n",
            "1750/1750 [==============================] - 8s 5ms/step - loss: 0.3509 - accuracy: 0.8715 - val_loss: 0.2724 - val_accuracy: 0.8949\n",
            "438/438 [==============================] - 1s 2ms/step\n",
            "438/438 [==============================] - 1s 3ms/step - loss: 0.2724 - accuracy: 0.8949\n",
            "test loss = 0.272359\n",
            "test accuracy = 0.894857\n",
            "Accuracy: 0.894857\n",
            "Precision: 0.894665\n",
            "Recall: 0.894312\n",
            "F1 score: 0.893987\n"
          ]
        }
      ],
      "source": [
        "model3(x_train, y_train, x_test, y_test, \"adam\" )"
      ]
    },
    {
      "cell_type": "code",
      "execution_count": 16,
      "metadata": {
        "colab": {
          "base_uri": "https://localhost:8080/"
        },
        "id": "ASKoaTzgoiY1",
        "outputId": "c99f78ea-2901-46cd-b516-ff4de93da7c6"
      },
      "outputs": [
        {
          "output_type": "stream",
          "name": "stdout",
          "text": [
            "Epoch 1/10\n"
          ]
        },
        {
          "output_type": "stream",
          "name": "stderr",
          "text": [
            "/usr/local/lib/python3.7/dist-packages/keras/optimizers/optimizer_v2/gradient_descent.py:108: UserWarning: The `lr` argument is deprecated, use `learning_rate` instead.\n",
            "  super(SGD, self).__init__(name, **kwargs)\n"
          ]
        },
        {
          "output_type": "stream",
          "name": "stdout",
          "text": [
            "1750/1750 [==============================] - 8s 4ms/step - loss: 1.0963 - accuracy: 0.6115 - val_loss: 0.6183 - val_accuracy: 0.7606\n",
            "Epoch 2/10\n",
            "1750/1750 [==============================] - 7s 4ms/step - loss: 0.7316 - accuracy: 0.7265 - val_loss: 0.5483 - val_accuracy: 0.7774\n",
            "Epoch 3/10\n",
            "1750/1750 [==============================] - 8s 5ms/step - loss: 0.6586 - accuracy: 0.7558 - val_loss: 0.5056 - val_accuracy: 0.8206\n",
            "Epoch 4/10\n",
            "1750/1750 [==============================] - 7s 4ms/step - loss: 0.6151 - accuracy: 0.7715 - val_loss: 0.4801 - val_accuracy: 0.8291\n",
            "Epoch 5/10\n",
            "1750/1750 [==============================] - 8s 4ms/step - loss: 0.5784 - accuracy: 0.7868 - val_loss: 0.4529 - val_accuracy: 0.8357\n",
            "Epoch 6/10\n",
            "1750/1750 [==============================] - 8s 4ms/step - loss: 0.5606 - accuracy: 0.7932 - val_loss: 0.4311 - val_accuracy: 0.8449\n",
            "Epoch 7/10\n",
            "1750/1750 [==============================] - 8s 4ms/step - loss: 0.5427 - accuracy: 0.8019 - val_loss: 0.4173 - val_accuracy: 0.8491\n",
            "Epoch 8/10\n",
            "1750/1750 [==============================] - 8s 4ms/step - loss: 0.5221 - accuracy: 0.8088 - val_loss: 0.4093 - val_accuracy: 0.8498\n",
            "Epoch 9/10\n",
            "1750/1750 [==============================] - 7s 4ms/step - loss: 0.5068 - accuracy: 0.8151 - val_loss: 0.3971 - val_accuracy: 0.8559\n",
            "Epoch 10/10\n",
            "1750/1750 [==============================] - 7s 4ms/step - loss: 0.4975 - accuracy: 0.8182 - val_loss: 0.3859 - val_accuracy: 0.8598\n",
            "438/438 [==============================] - 1s 2ms/step\n",
            "438/438 [==============================] - 1s 3ms/step - loss: 0.3859 - accuracy: 0.8598\n",
            "test loss = 0.385862\n",
            "test accuracy = 0.859786\n",
            "Accuracy: 0.859786\n",
            "Precision: 0.859742\n",
            "Recall: 0.858997\n",
            "F1 score: 0.856366\n"
          ]
        }
      ],
      "source": [
        "opt = SGD(lr=0.002)\n",
        "model3(x_train, y_train, x_test, y_test, opt )"
      ]
    },
    {
      "cell_type": "code",
      "execution_count": null,
      "metadata": {
        "colab": {
          "base_uri": "https://localhost:8080/"
        },
        "id": "CtfZ9O8loiVU",
        "outputId": "0fb52fdd-8289-4ec2-a6a4-5d100aba9d6d"
      },
      "outputs": [
        {
          "name": "stdout",
          "output_type": "stream",
          "text": [
            "Epoch 1/10\n",
            "1750/1750 [==============================] - 9s 5ms/step - loss: 1.3073 - accuracy: 0.5622 - val_loss: 0.6203 - val_accuracy: 0.7813\n",
            "Epoch 2/10\n",
            "1750/1750 [==============================] - 8s 5ms/step - loss: 0.6935 - accuracy: 0.7479 - val_loss: 0.5298 - val_accuracy: 0.8149\n",
            "Epoch 3/10\n",
            "1750/1750 [==============================] - 8s 5ms/step - loss: 0.6242 - accuracy: 0.7718 - val_loss: 0.4773 - val_accuracy: 0.8261\n",
            "Epoch 4/10\n",
            "1750/1750 [==============================] - 8s 5ms/step - loss: 0.5789 - accuracy: 0.7898 - val_loss: 0.4654 - val_accuracy: 0.8329\n",
            "Epoch 5/10\n",
            "1750/1750 [==============================] - 8s 5ms/step - loss: 0.5448 - accuracy: 0.8038 - val_loss: 0.4252 - val_accuracy: 0.8372\n",
            "Epoch 6/10\n",
            "1750/1750 [==============================] - 9s 5ms/step - loss: 0.5217 - accuracy: 0.8118 - val_loss: 0.4067 - val_accuracy: 0.8504\n",
            "Epoch 7/10\n",
            "1750/1750 [==============================] - 8s 5ms/step - loss: 0.5057 - accuracy: 0.8171 - val_loss: 0.3914 - val_accuracy: 0.8521\n",
            "Epoch 8/10\n",
            "1750/1750 [==============================] - 8s 5ms/step - loss: 0.4949 - accuracy: 0.8196 - val_loss: 0.3892 - val_accuracy: 0.8506\n",
            "Epoch 9/10\n",
            "1750/1750 [==============================] - 8s 5ms/step - loss: 0.4825 - accuracy: 0.8234 - val_loss: 0.3892 - val_accuracy: 0.8530\n",
            "Epoch 10/10\n",
            "1750/1750 [==============================] - 8s 5ms/step - loss: 0.4715 - accuracy: 0.8275 - val_loss: 0.3788 - val_accuracy: 0.8535\n",
            "438/438 [==============================] - 1s 2ms/step\n",
            "438/438 [==============================] - 1s 3ms/step - loss: 0.3788 - accuracy: 0.8535\n",
            "test loss = 0.378791\n",
            "test accuracy = 0.853500\n",
            "Accuracy: 0.853500\n",
            "Precision: 0.851736\n",
            "Recall: 0.852414\n",
            "F1 score: 0.847881\n"
          ]
        }
      ],
      "source": [
        "model4(x_train, y_train, x_test, y_test, \"adam\" )"
      ]
    },
    {
      "cell_type": "code",
      "execution_count": 17,
      "metadata": {
        "colab": {
          "base_uri": "https://localhost:8080/"
        },
        "id": "D5lpSCBWoiTW",
        "outputId": "1ac4b7cf-d922-4b50-9c24-886939a7f482"
      },
      "outputs": [
        {
          "output_type": "stream",
          "name": "stdout",
          "text": [
            "Epoch 1/10\n"
          ]
        },
        {
          "output_type": "stream",
          "name": "stderr",
          "text": [
            "/usr/local/lib/python3.7/dist-packages/keras/optimizers/optimizer_v2/gradient_descent.py:108: UserWarning: The `lr` argument is deprecated, use `learning_rate` instead.\n",
            "  super(SGD, self).__init__(name, **kwargs)\n"
          ]
        },
        {
          "output_type": "stream",
          "name": "stdout",
          "text": [
            "1750/1750 [==============================] - 8s 4ms/step - loss: 1.6855 - accuracy: 0.3972 - val_loss: 0.8734 - val_accuracy: 0.7243\n",
            "Epoch 2/10\n",
            "1750/1750 [==============================] - 8s 4ms/step - loss: 1.0805 - accuracy: 0.6034 - val_loss: 0.7299 - val_accuracy: 0.7481\n",
            "Epoch 3/10\n",
            "1750/1750 [==============================] - 8s 4ms/step - loss: 0.9334 - accuracy: 0.6615 - val_loss: 0.6822 - val_accuracy: 0.7610\n",
            "Epoch 4/10\n",
            "1750/1750 [==============================] - 8s 4ms/step - loss: 0.8511 - accuracy: 0.6903 - val_loss: 0.6185 - val_accuracy: 0.7709\n",
            "Epoch 5/10\n",
            "1750/1750 [==============================] - 8s 5ms/step - loss: 0.8054 - accuracy: 0.7102 - val_loss: 0.6083 - val_accuracy: 0.7776\n",
            "Epoch 6/10\n",
            "1750/1750 [==============================] - 8s 5ms/step - loss: 0.7665 - accuracy: 0.7211 - val_loss: 0.5765 - val_accuracy: 0.7846\n",
            "Epoch 7/10\n",
            "1750/1750 [==============================] - 8s 5ms/step - loss: 0.7465 - accuracy: 0.7310 - val_loss: 0.5607 - val_accuracy: 0.7941\n",
            "Epoch 8/10\n",
            "1750/1750 [==============================] - 8s 4ms/step - loss: 0.7245 - accuracy: 0.7365 - val_loss: 0.5531 - val_accuracy: 0.7929\n",
            "Epoch 9/10\n",
            "1750/1750 [==============================] - 8s 4ms/step - loss: 0.7031 - accuracy: 0.7440 - val_loss: 0.5425 - val_accuracy: 0.8038\n",
            "Epoch 10/10\n",
            "1750/1750 [==============================] - 8s 4ms/step - loss: 0.6847 - accuracy: 0.7521 - val_loss: 0.5314 - val_accuracy: 0.8014\n",
            "438/438 [==============================] - 1s 2ms/step\n",
            "438/438 [==============================] - 1s 3ms/step - loss: 0.5314 - accuracy: 0.8014\n",
            "test loss = 0.531421\n",
            "test accuracy = 0.801357\n",
            "Accuracy: 0.801357\n",
            "Precision: 0.797339\n",
            "Recall: 0.799659\n",
            "F1 score: 0.779934\n"
          ]
        }
      ],
      "source": [
        "opt = SGD(lr=0.002)\n",
        "model4(x_train, y_train, x_test, y_test, opt )"
      ]
    },
    {
      "cell_type": "code",
      "execution_count": null,
      "metadata": {
        "colab": {
          "base_uri": "https://localhost:8080/"
        },
        "id": "d9WSFCuhmfzi",
        "outputId": "d275bc64-3430-4db9-bdb3-01080c0cb2db"
      },
      "outputs": [
        {
          "name": "stdout",
          "output_type": "stream",
          "text": [
            "Epoch 1/10\n",
            "1750/1750 [==============================] - 10s 5ms/step - loss: 0.6828 - accuracy: 0.7732 - val_loss: 0.3762 - val_accuracy: 0.8584\n",
            "Epoch 2/10\n",
            "1750/1750 [==============================] - 10s 5ms/step - loss: 0.4148 - accuracy: 0.8474 - val_loss: 0.3331 - val_accuracy: 0.8774\n",
            "Epoch 3/10\n",
            "1750/1750 [==============================] - 10s 6ms/step - loss: 0.3652 - accuracy: 0.8679 - val_loss: 0.2996 - val_accuracy: 0.8876\n",
            "Epoch 4/10\n",
            "1750/1750 [==============================] - 10s 6ms/step - loss: 0.3422 - accuracy: 0.8751 - val_loss: 0.2835 - val_accuracy: 0.8932\n",
            "Epoch 5/10\n",
            "1750/1750 [==============================] - 9s 5ms/step - loss: 0.3262 - accuracy: 0.8826 - val_loss: 0.2762 - val_accuracy: 0.8996\n",
            "Epoch 6/10\n",
            "1750/1750 [==============================] - 10s 5ms/step - loss: 0.3120 - accuracy: 0.8880 - val_loss: 0.2612 - val_accuracy: 0.9015\n",
            "Epoch 7/10\n",
            "1750/1750 [==============================] - 9s 5ms/step - loss: 0.2987 - accuracy: 0.8907 - val_loss: 0.2707 - val_accuracy: 0.8969\n",
            "Epoch 8/10\n",
            "1750/1750 [==============================] - 9s 5ms/step - loss: 0.2911 - accuracy: 0.8957 - val_loss: 0.2612 - val_accuracy: 0.9051\n",
            "Epoch 9/10\n",
            "1750/1750 [==============================] - 9s 5ms/step - loss: 0.2890 - accuracy: 0.8947 - val_loss: 0.2468 - val_accuracy: 0.9071\n",
            "Epoch 10/10\n",
            "1750/1750 [==============================] - 9s 5ms/step - loss: 0.2846 - accuracy: 0.8975 - val_loss: 0.2767 - val_accuracy: 0.8995\n",
            "438/438 [==============================] - 1s 2ms/step\n",
            "438/438 [==============================] - 2s 3ms/step - loss: 0.2767 - accuracy: 0.8995\n",
            "test loss = 0.276686\n",
            "test accuracy = 0.899500\n",
            "Accuracy: 0.899500\n",
            "Precision: 0.901216\n",
            "Recall: 0.898687\n",
            "F1 score: 0.897066\n"
          ]
        }
      ],
      "source": [
        "model5(x_train, y_train, x_test, y_test, \"adam\" )"
      ]
    },
    {
      "cell_type": "code",
      "execution_count": 15,
      "metadata": {
        "colab": {
          "base_uri": "https://localhost:8080/"
        },
        "id": "MZ7Gn2JkopHN",
        "outputId": "b851c36c-5844-421b-b6f9-f9e342e92c04"
      },
      "outputs": [
        {
          "output_type": "stream",
          "name": "stderr",
          "text": [
            "/usr/local/lib/python3.7/dist-packages/keras/optimizers/optimizer_v2/gradient_descent.py:108: UserWarning: The `lr` argument is deprecated, use `learning_rate` instead.\n",
            "  super(SGD, self).__init__(name, **kwargs)\n"
          ]
        },
        {
          "output_type": "stream",
          "name": "stdout",
          "text": [
            "Epoch 1/10\n",
            "1750/1750 [==============================] - 10s 5ms/step - loss: 1.0358 - accuracy: 0.6424 - val_loss: 0.5611 - val_accuracy: 0.7951\n",
            "Epoch 2/10\n",
            "1750/1750 [==============================] - 9s 5ms/step - loss: 0.6400 - accuracy: 0.7653 - val_loss: 0.4719 - val_accuracy: 0.8257\n",
            "Epoch 3/10\n",
            "1750/1750 [==============================] - 13s 7ms/step - loss: 0.5586 - accuracy: 0.7979 - val_loss: 0.4218 - val_accuracy: 0.8461\n",
            "Epoch 4/10\n",
            "1750/1750 [==============================] - 11s 7ms/step - loss: 0.5098 - accuracy: 0.8156 - val_loss: 0.3966 - val_accuracy: 0.8589\n",
            "Epoch 5/10\n",
            "1750/1750 [==============================] - 9s 5ms/step - loss: 0.4785 - accuracy: 0.8276 - val_loss: 0.3694 - val_accuracy: 0.8659\n",
            "Epoch 6/10\n",
            "1750/1750 [==============================] - 9s 5ms/step - loss: 0.4504 - accuracy: 0.8384 - val_loss: 0.3603 - val_accuracy: 0.8701\n",
            "Epoch 7/10\n",
            "1750/1750 [==============================] - 9s 5ms/step - loss: 0.4287 - accuracy: 0.8465 - val_loss: 0.3390 - val_accuracy: 0.8793\n",
            "Epoch 8/10\n",
            "1750/1750 [==============================] - 9s 5ms/step - loss: 0.4087 - accuracy: 0.8544 - val_loss: 0.3362 - val_accuracy: 0.8806\n",
            "Epoch 9/10\n",
            "1750/1750 [==============================] - 9s 5ms/step - loss: 0.3981 - accuracy: 0.8580 - val_loss: 0.3206 - val_accuracy: 0.8861\n",
            "Epoch 10/10\n",
            "1750/1750 [==============================] - 9s 5ms/step - loss: 0.3867 - accuracy: 0.8621 - val_loss: 0.3114 - val_accuracy: 0.8894\n",
            "438/438 [==============================] - 1s 2ms/step\n",
            "438/438 [==============================] - 1s 3ms/step - loss: 0.3114 - accuracy: 0.8894\n",
            "test loss = 0.311359\n",
            "test accuracy = 0.889429\n",
            "Accuracy: 0.889429\n",
            "Precision: 0.889498\n",
            "Recall: 0.888924\n",
            "F1 score: 0.889019\n"
          ]
        }
      ],
      "source": [
        "opt = SGD(lr=0.002)\n",
        "model5(x_train, y_train, x_test, y_test, opt )"
      ]
    },
    {
      "cell_type": "code",
      "execution_count": null,
      "metadata": {
        "id": "AXmZCrhYot_-"
      },
      "outputs": [],
      "source": []
    }
  ],
  "metadata": {
    "accelerator": "GPU",
    "colab": {
      "provenance": []
    },
    "gpuClass": "standard",
    "kernelspec": {
      "display_name": "Python 3",
      "name": "python3"
    },
    "language_info": {
      "name": "python"
    }
  },
  "nbformat": 4,
  "nbformat_minor": 0
}